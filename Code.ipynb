{
  "cells": [
    {
      "cell_type": "code",
      "execution_count": null,
      "metadata": {
        "id": "IyLFG3lQ_urK",
        "outputId": "1bb39678-703b-4231-9f74-4536b54f2fcd"
      },
      "outputs": [
        {
          "name": "stderr",
          "output_type": "stream",
          "text": [
            "C:\\Users\\DDNest003\\Anaconda3\\lib\\site-packages\\pandas\\compat\\_optional.py:138: UserWarning: Pandas requires version '2.7.0' or newer of 'numexpr' (version '2.6.9' currently installed).\n",
            "  warnings.warn(msg, UserWarning)\n",
            "C:\\Users\\DDNest003\\Anaconda3\\lib\\site-packages\\statsmodels\\tools\\_testing.py:19: FutureWarning: pandas.util.testing is deprecated. Use the functions in the public API at pandas.testing instead.\n",
            "  import pandas.util.testing as tm\n"
          ]
        }
      ],
      "source": [
        "#Relevant Libraries Import \n",
        "\n",
        "import pandas as pd\n",
        "import matplotlib.pyplot as plt\n",
        "import numpy as np\n",
        "from sklearn.model_selection import train_test_split\n",
        "import os\n",
        "\n",
        "#import shap\n",
        "#%matplotlib inline\n",
        "from sklearn.metrics import confusion_matrix\n",
        "#from sklearn.metrics import ConfusionMatrixDisplay\n",
        "from sklearn import metrics\n",
        "#from sklearn.metrics import ConfusionMatrixDisplay\n",
        "from sklearn.metrics import accuracy_score , recall_score, precision_score, f1_score\n",
        "\n",
        "\n",
        "from sklearn.preprocessing import LabelEncoder\n",
        "le = LabelEncoder()\n",
        "\n",
        "\n",
        "import seaborn as sns\n",
        "\n",
        "\n",
        "from sklearn.tree import DecisionTreeClassifier\n",
        "from sklearn.linear_model import LogisticRegression\n",
        "from sklearn.svm import SVC\n",
        "from sklearn.neighbors import KNeighborsClassifier\n",
        "from sklearn.naive_bayes import GaussianNB\n",
        "from sklearn.ensemble import VotingClassifier\n",
        "from sklearn import model_selection\n",
        "from sklearn.metrics import confusion_matrix\n",
        "from sklearn. preprocessing import StandardScaler\n",
        "from sklearn.model_selection import train_test_split\n",
        "from sklearn.ensemble import RandomForestClassifier\n",
        "\n",
        "import xgboost\n",
        "from xgboost import XGBClassifier\n",
        "from sklearn.ensemble import AdaBoostClassifier\n",
        "from sklearn.neural_network import MLPClassifier\n"
      ]
    },
    {
      "cell_type": "markdown",
      "metadata": {
        "id": "vgxuJQmlwY_7"
      },
      "source": [
        "\n"
      ]
    },
    {
      "cell_type": "code",
      "execution_count": null,
      "metadata": {
        "id": "Oq6HVCg6C-Yr"
      },
      "outputs": [],
      "source": [
        "#Dataset Import\n",
        "df = pd.read_csv(\"diabetes1.csv\") "
      ]
    },
    {
      "cell_type": "code",
      "execution_count": null,
      "metadata": {
        "colab": {
          "base_uri": "https://localhost:8080/",
          "height": 206
        },
        "id": "AN41yZJWC0_v",
        "outputId": "fdda1675-1458-4d8d-b781-580e8d22467c"
      },
      "outputs": [
        {
          "data": {
            "text/html": [
              "<div>\n",
              "<style scoped>\n",
              "    .dataframe tbody tr th:only-of-type {\n",
              "        vertical-align: middle;\n",
              "    }\n",
              "\n",
              "    .dataframe tbody tr th {\n",
              "        vertical-align: top;\n",
              "    }\n",
              "\n",
              "    .dataframe thead th {\n",
              "        text-align: right;\n",
              "    }\n",
              "</style>\n",
              "<table border=\"1\" class=\"dataframe\">\n",
              "  <thead>\n",
              "    <tr style=\"text-align: right;\">\n",
              "      <th></th>\n",
              "      <th>ID</th>\n",
              "      <th>No_Pation</th>\n",
              "      <th>Gender</th>\n",
              "      <th>AGE</th>\n",
              "      <th>Urea</th>\n",
              "      <th>Cr</th>\n",
              "      <th>HbA1c</th>\n",
              "      <th>Chol</th>\n",
              "      <th>TG</th>\n",
              "      <th>HDL</th>\n",
              "      <th>LDL</th>\n",
              "      <th>VLDL</th>\n",
              "      <th>BMI</th>\n",
              "      <th>CLASS</th>\n",
              "    </tr>\n",
              "  </thead>\n",
              "  <tbody>\n",
              "    <tr>\n",
              "      <th>0</th>\n",
              "      <td>502</td>\n",
              "      <td>17975</td>\n",
              "      <td>F</td>\n",
              "      <td>50</td>\n",
              "      <td>4.7</td>\n",
              "      <td>46</td>\n",
              "      <td>4.9</td>\n",
              "      <td>4.2</td>\n",
              "      <td>0.9</td>\n",
              "      <td>2.4</td>\n",
              "      <td>1.4</td>\n",
              "      <td>0.5</td>\n",
              "      <td>24.0</td>\n",
              "      <td>N</td>\n",
              "    </tr>\n",
              "    <tr>\n",
              "      <th>1</th>\n",
              "      <td>735</td>\n",
              "      <td>34221</td>\n",
              "      <td>M</td>\n",
              "      <td>26</td>\n",
              "      <td>4.5</td>\n",
              "      <td>62</td>\n",
              "      <td>4.9</td>\n",
              "      <td>3.7</td>\n",
              "      <td>1.4</td>\n",
              "      <td>1.1</td>\n",
              "      <td>2.1</td>\n",
              "      <td>0.6</td>\n",
              "      <td>23.0</td>\n",
              "      <td>N</td>\n",
              "    </tr>\n",
              "    <tr>\n",
              "      <th>2</th>\n",
              "      <td>420</td>\n",
              "      <td>47975</td>\n",
              "      <td>F</td>\n",
              "      <td>50</td>\n",
              "      <td>4.7</td>\n",
              "      <td>46</td>\n",
              "      <td>4.9</td>\n",
              "      <td>4.2</td>\n",
              "      <td>0.9</td>\n",
              "      <td>2.4</td>\n",
              "      <td>1.4</td>\n",
              "      <td>0.5</td>\n",
              "      <td>24.0</td>\n",
              "      <td>N</td>\n",
              "    </tr>\n",
              "    <tr>\n",
              "      <th>3</th>\n",
              "      <td>680</td>\n",
              "      <td>87656</td>\n",
              "      <td>F</td>\n",
              "      <td>50</td>\n",
              "      <td>4.7</td>\n",
              "      <td>46</td>\n",
              "      <td>4.9</td>\n",
              "      <td>4.2</td>\n",
              "      <td>0.9</td>\n",
              "      <td>2.4</td>\n",
              "      <td>1.4</td>\n",
              "      <td>0.5</td>\n",
              "      <td>24.0</td>\n",
              "      <td>N</td>\n",
              "    </tr>\n",
              "    <tr>\n",
              "      <th>4</th>\n",
              "      <td>504</td>\n",
              "      <td>34223</td>\n",
              "      <td>M</td>\n",
              "      <td>33</td>\n",
              "      <td>7.1</td>\n",
              "      <td>46</td>\n",
              "      <td>4.9</td>\n",
              "      <td>4.9</td>\n",
              "      <td>1.0</td>\n",
              "      <td>0.8</td>\n",
              "      <td>2.0</td>\n",
              "      <td>0.4</td>\n",
              "      <td>21.0</td>\n",
              "      <td>N</td>\n",
              "    </tr>\n",
              "  </tbody>\n",
              "</table>\n",
              "</div>"
            ],
            "text/plain": [
              "    ID  No_Pation Gender  AGE  Urea  Cr  HbA1c  Chol   TG  HDL  LDL  VLDL  \\\n",
              "0  502      17975      F   50   4.7  46    4.9   4.2  0.9  2.4  1.4   0.5   \n",
              "1  735      34221      M   26   4.5  62    4.9   3.7  1.4  1.1  2.1   0.6   \n",
              "2  420      47975      F   50   4.7  46    4.9   4.2  0.9  2.4  1.4   0.5   \n",
              "3  680      87656      F   50   4.7  46    4.9   4.2  0.9  2.4  1.4   0.5   \n",
              "4  504      34223      M   33   7.1  46    4.9   4.9  1.0  0.8  2.0   0.4   \n",
              "\n",
              "    BMI CLASS  \n",
              "0  24.0     N  \n",
              "1  23.0     N  \n",
              "2  24.0     N  \n",
              "3  24.0     N  \n",
              "4  21.0     N  "
            ]
          },
          "execution_count": 3,
          "metadata": {},
          "output_type": "execute_result"
        }
      ],
      "source": [
        "#data preprocessing Start\n",
        "\n",
        "df.head()"
      ]
    },
    {
      "cell_type": "code",
      "execution_count": null,
      "metadata": {
        "colab": {
          "base_uri": "https://localhost:8080/"
        },
        "id": "9umMrwjWRd87",
        "outputId": "2f2b09d6-3c47-480c-b35d-d78accc23df0"
      },
      "outputs": [
        {
          "data": {
            "text/plain": [
              "Y     840\n",
              "N     102\n",
              "P      53\n",
              "Y       4\n",
              "N       1\n",
              "Name: CLASS, dtype: int64"
            ]
          },
          "execution_count": 4,
          "metadata": {},
          "output_type": "execute_result"
        }
      ],
      "source": [
        "df['CLASS'].value_counts()\n"
      ]
    },
    {
      "cell_type": "markdown",
      "metadata": {
        "id": "5e6KziWNHR_e"
      },
      "source": [
        "Replace Simillar Values to Unique Values "
      ]
    },
    {
      "cell_type": "code",
      "execution_count": null,
      "metadata": {
        "id": "u3LrP-eFfjNH"
      },
      "outputs": [],
      "source": [
        "df['CLASS'] = df['CLASS'].str.replace(\"N \",\"N\")\n",
        "df['CLASS'] = df['CLASS'].str.replace(\"Y \",\"Y\")\n",
        "df['Gender'] = df['Gender'].str.replace(\"f\",\"F\")"
      ]
    },
    {
      "cell_type": "code",
      "execution_count": null,
      "metadata": {
        "colab": {
          "base_uri": "https://localhost:8080/"
        },
        "id": "8lt9lc8lHbM-",
        "outputId": "c5d5105e-9403-4a97-e600-36bd35926e95"
      },
      "outputs": [
        {
          "data": {
            "text/plain": [
              "array(['F', 'M'], dtype=object)"
            ]
          },
          "execution_count": 6,
          "metadata": {},
          "output_type": "execute_result"
        }
      ],
      "source": [
        "#now check the unique value of gender\n",
        "df['Gender'].unique()\n",
        "#df['Gender'].value_counts()"
      ]
    },
    {
      "cell_type": "code",
      "execution_count": null,
      "metadata": {
        "colab": {
          "base_uri": "https://localhost:8080/"
        },
        "id": "1Daabh7NBbYR",
        "outputId": "8ceef4cf-d52b-468d-e1b2-ccec49a882c8"
      },
      "outputs": [
        {
          "data": {
            "text/plain": [
              "Y    844\n",
              "N    103\n",
              "P     53\n",
              "Name: CLASS, dtype: int64"
            ]
          },
          "execution_count": 7,
          "metadata": {},
          "output_type": "execute_result"
        }
      ],
      "source": [
        "#now check the unique value of gender\n",
        "df['CLASS'].unique()\n",
        "df['CLASS'].value_counts()\n"
      ]
    },
    {
      "cell_type": "markdown",
      "metadata": {
        "id": "sS4ix_0GIIif"
      },
      "source": [
        "information about dataset"
      ]
    },
    {
      "cell_type": "code",
      "execution_count": null,
      "metadata": {
        "colab": {
          "base_uri": "https://localhost:8080/"
        },
        "id": "e66QxpJqBcRd",
        "outputId": "39523f4a-1fca-4e65-fdd1-b0f36095719a"
      },
      "outputs": [
        {
          "name": "stdout",
          "output_type": "stream",
          "text": [
            "<class 'pandas.core.frame.DataFrame'>\n",
            "RangeIndex: 1000 entries, 0 to 999\n",
            "Data columns (total 14 columns):\n",
            " #   Column     Non-Null Count  Dtype  \n",
            "---  ------     --------------  -----  \n",
            " 0   ID         1000 non-null   int64  \n",
            " 1   No_Pation  1000 non-null   int64  \n",
            " 2   Gender     1000 non-null   object \n",
            " 3   AGE        1000 non-null   int64  \n",
            " 4   Urea       1000 non-null   float64\n",
            " 5   Cr         1000 non-null   int64  \n",
            " 6   HbA1c      1000 non-null   float64\n",
            " 7   Chol       1000 non-null   float64\n",
            " 8   TG         1000 non-null   float64\n",
            " 9   HDL        1000 non-null   float64\n",
            " 10  LDL        1000 non-null   float64\n",
            " 11  VLDL       1000 non-null   float64\n",
            " 12  BMI        1000 non-null   float64\n",
            " 13  CLASS      1000 non-null   object \n",
            "dtypes: float64(8), int64(4), object(2)\n",
            "memory usage: 109.5+ KB\n"
          ]
        }
      ],
      "source": [
        "df.info()"
      ]
    },
    {
      "cell_type": "markdown",
      "metadata": {
        "id": "9YLqT91lIM4O"
      },
      "source": [
        "Here we find class and Gender has object value so we need to convert them into Encoded label through label encoder"
      ]
    },
    {
      "cell_type": "markdown",
      "metadata": {
        "id": "hiIBMnooRfkP"
      },
      "source": [
        "# **Label Encoder**"
      ]
    },
    {
      "cell_type": "code",
      "execution_count": null,
      "metadata": {
        "id": "7VY3qAm0xWEZ"
      },
      "outputs": [],
      "source": [
        "df.CLASS= le.fit_transform(df.CLASS.values)\n",
        "df.Gender= le.fit_transform(df.Gender.values)"
      ]
    },
    {
      "cell_type": "code",
      "execution_count": null,
      "metadata": {
        "colab": {
          "base_uri": "https://localhost:8080/"
        },
        "id": "EvOrNG2VIbJf",
        "outputId": "66aabee8-93cf-4ffa-9e67-ca4147a1f1c0"
      },
      "outputs": [
        {
          "name": "stdout",
          "output_type": "stream",
          "text": [
            "<class 'pandas.core.frame.DataFrame'>\n",
            "RangeIndex: 1000 entries, 0 to 999\n",
            "Data columns (total 14 columns):\n",
            " #   Column     Non-Null Count  Dtype  \n",
            "---  ------     --------------  -----  \n",
            " 0   ID         1000 non-null   int64  \n",
            " 1   No_Pation  1000 non-null   int64  \n",
            " 2   Gender     1000 non-null   int32  \n",
            " 3   AGE        1000 non-null   int64  \n",
            " 4   Urea       1000 non-null   float64\n",
            " 5   Cr         1000 non-null   int64  \n",
            " 6   HbA1c      1000 non-null   float64\n",
            " 7   Chol       1000 non-null   float64\n",
            " 8   TG         1000 non-null   float64\n",
            " 9   HDL        1000 non-null   float64\n",
            " 10  LDL        1000 non-null   float64\n",
            " 11  VLDL       1000 non-null   float64\n",
            " 12  BMI        1000 non-null   float64\n",
            " 13  CLASS      1000 non-null   int32  \n",
            "dtypes: float64(8), int32(2), int64(4)\n",
            "memory usage: 101.7 KB\n"
          ]
        }
      ],
      "source": [
        "df.info()"
      ]
    },
    {
      "cell_type": "code",
      "execution_count": null,
      "metadata": {
        "colab": {
          "base_uri": "https://localhost:8080/",
          "height": 206
        },
        "id": "TISU-oo6yElz",
        "outputId": "0a5c162b-f06d-4a1c-89b3-795653e0feed"
      },
      "outputs": [
        {
          "data": {
            "text/html": [
              "<div>\n",
              "<style scoped>\n",
              "    .dataframe tbody tr th:only-of-type {\n",
              "        vertical-align: middle;\n",
              "    }\n",
              "\n",
              "    .dataframe tbody tr th {\n",
              "        vertical-align: top;\n",
              "    }\n",
              "\n",
              "    .dataframe thead th {\n",
              "        text-align: right;\n",
              "    }\n",
              "</style>\n",
              "<table border=\"1\" class=\"dataframe\">\n",
              "  <thead>\n",
              "    <tr style=\"text-align: right;\">\n",
              "      <th></th>\n",
              "      <th>ID</th>\n",
              "      <th>No_Pation</th>\n",
              "      <th>Gender</th>\n",
              "      <th>AGE</th>\n",
              "      <th>Urea</th>\n",
              "      <th>Cr</th>\n",
              "      <th>HbA1c</th>\n",
              "      <th>Chol</th>\n",
              "      <th>TG</th>\n",
              "      <th>HDL</th>\n",
              "      <th>LDL</th>\n",
              "      <th>VLDL</th>\n",
              "      <th>BMI</th>\n",
              "      <th>CLASS</th>\n",
              "    </tr>\n",
              "  </thead>\n",
              "  <tbody>\n",
              "    <tr>\n",
              "      <th>0</th>\n",
              "      <td>502</td>\n",
              "      <td>17975</td>\n",
              "      <td>0</td>\n",
              "      <td>50</td>\n",
              "      <td>4.7</td>\n",
              "      <td>46</td>\n",
              "      <td>4.9</td>\n",
              "      <td>4.2</td>\n",
              "      <td>0.9</td>\n",
              "      <td>2.4</td>\n",
              "      <td>1.4</td>\n",
              "      <td>0.5</td>\n",
              "      <td>24.0</td>\n",
              "      <td>0</td>\n",
              "    </tr>\n",
              "    <tr>\n",
              "      <th>1</th>\n",
              "      <td>735</td>\n",
              "      <td>34221</td>\n",
              "      <td>1</td>\n",
              "      <td>26</td>\n",
              "      <td>4.5</td>\n",
              "      <td>62</td>\n",
              "      <td>4.9</td>\n",
              "      <td>3.7</td>\n",
              "      <td>1.4</td>\n",
              "      <td>1.1</td>\n",
              "      <td>2.1</td>\n",
              "      <td>0.6</td>\n",
              "      <td>23.0</td>\n",
              "      <td>0</td>\n",
              "    </tr>\n",
              "    <tr>\n",
              "      <th>2</th>\n",
              "      <td>420</td>\n",
              "      <td>47975</td>\n",
              "      <td>0</td>\n",
              "      <td>50</td>\n",
              "      <td>4.7</td>\n",
              "      <td>46</td>\n",
              "      <td>4.9</td>\n",
              "      <td>4.2</td>\n",
              "      <td>0.9</td>\n",
              "      <td>2.4</td>\n",
              "      <td>1.4</td>\n",
              "      <td>0.5</td>\n",
              "      <td>24.0</td>\n",
              "      <td>0</td>\n",
              "    </tr>\n",
              "    <tr>\n",
              "      <th>3</th>\n",
              "      <td>680</td>\n",
              "      <td>87656</td>\n",
              "      <td>0</td>\n",
              "      <td>50</td>\n",
              "      <td>4.7</td>\n",
              "      <td>46</td>\n",
              "      <td>4.9</td>\n",
              "      <td>4.2</td>\n",
              "      <td>0.9</td>\n",
              "      <td>2.4</td>\n",
              "      <td>1.4</td>\n",
              "      <td>0.5</td>\n",
              "      <td>24.0</td>\n",
              "      <td>0</td>\n",
              "    </tr>\n",
              "    <tr>\n",
              "      <th>4</th>\n",
              "      <td>504</td>\n",
              "      <td>34223</td>\n",
              "      <td>1</td>\n",
              "      <td>33</td>\n",
              "      <td>7.1</td>\n",
              "      <td>46</td>\n",
              "      <td>4.9</td>\n",
              "      <td>4.9</td>\n",
              "      <td>1.0</td>\n",
              "      <td>0.8</td>\n",
              "      <td>2.0</td>\n",
              "      <td>0.4</td>\n",
              "      <td>21.0</td>\n",
              "      <td>0</td>\n",
              "    </tr>\n",
              "  </tbody>\n",
              "</table>\n",
              "</div>"
            ],
            "text/plain": [
              "    ID  No_Pation  Gender  AGE  Urea  Cr  HbA1c  Chol   TG  HDL  LDL  VLDL  \\\n",
              "0  502      17975       0   50   4.7  46    4.9   4.2  0.9  2.4  1.4   0.5   \n",
              "1  735      34221       1   26   4.5  62    4.9   3.7  1.4  1.1  2.1   0.6   \n",
              "2  420      47975       0   50   4.7  46    4.9   4.2  0.9  2.4  1.4   0.5   \n",
              "3  680      87656       0   50   4.7  46    4.9   4.2  0.9  2.4  1.4   0.5   \n",
              "4  504      34223       1   33   7.1  46    4.9   4.9  1.0  0.8  2.0   0.4   \n",
              "\n",
              "    BMI  CLASS  \n",
              "0  24.0      0  \n",
              "1  23.0      0  \n",
              "2  24.0      0  \n",
              "3  24.0      0  \n",
              "4  21.0      0  "
            ]
          },
          "execution_count": 11,
          "metadata": {},
          "output_type": "execute_result"
        }
      ],
      "source": [
        "df.head()"
      ]
    },
    {
      "cell_type": "markdown",
      "metadata": {
        "id": "SHSUhLZtGkTc"
      },
      "source": [
        "Removing duplicated data points\n",
        " if find any\n",
        "\n"
      ]
    },
    {
      "cell_type": "code",
      "execution_count": null,
      "metadata": {
        "colab": {
          "base_uri": "https://localhost:8080/",
          "height": 68
        },
        "id": "4htppQ2GKR45",
        "outputId": "78376d4f-ac7a-40c3-dd13-ce2cacc464aa"
      },
      "outputs": [
        {
          "name": "stdout",
          "output_type": "stream",
          "text": [
            "There are 0 duplicates data\n"
          ]
        },
        {
          "data": {
            "text/html": [
              "<div>\n",
              "<style scoped>\n",
              "    .dataframe tbody tr th:only-of-type {\n",
              "        vertical-align: middle;\n",
              "    }\n",
              "\n",
              "    .dataframe tbody tr th {\n",
              "        vertical-align: top;\n",
              "    }\n",
              "\n",
              "    .dataframe thead th {\n",
              "        text-align: right;\n",
              "    }\n",
              "</style>\n",
              "<table border=\"1\" class=\"dataframe\">\n",
              "  <thead>\n",
              "    <tr style=\"text-align: right;\">\n",
              "      <th></th>\n",
              "      <th>ID</th>\n",
              "      <th>No_Pation</th>\n",
              "      <th>Gender</th>\n",
              "      <th>AGE</th>\n",
              "      <th>Urea</th>\n",
              "      <th>Cr</th>\n",
              "      <th>HbA1c</th>\n",
              "      <th>Chol</th>\n",
              "      <th>TG</th>\n",
              "      <th>HDL</th>\n",
              "      <th>LDL</th>\n",
              "      <th>VLDL</th>\n",
              "      <th>BMI</th>\n",
              "      <th>CLASS</th>\n",
              "    </tr>\n",
              "  </thead>\n",
              "  <tbody>\n",
              "  </tbody>\n",
              "</table>\n",
              "</div>"
            ],
            "text/plain": [
              "Empty DataFrame\n",
              "Columns: [ID, No_Pation, Gender, AGE, Urea, Cr, HbA1c, Chol, TG, HDL, LDL, VLDL, BMI, CLASS]\n",
              "Index: []"
            ]
          },
          "execution_count": 12,
          "metadata": {},
          "output_type": "execute_result"
        }
      ],
      "source": [
        "print(f\"There are {df.duplicated().sum()} duplicates data\")\n",
        "df.loc[df.duplicated(keep=False)].sort_values(by=df.columns.to_list())"
      ]
    },
    {
      "cell_type": "markdown",
      "metadata": {
        "id": "bbmF1Bs0Nc_i"
      },
      "source": [
        "finding is null value avilable "
      ]
    },
    {
      "cell_type": "code",
      "execution_count": null,
      "metadata": {
        "colab": {
          "base_uri": "https://localhost:8080/"
        },
        "id": "w1fui7-zNhAA",
        "outputId": "d3086cba-3b3c-498c-ab35-6df88318ff2c"
      },
      "outputs": [
        {
          "data": {
            "text/plain": [
              "ID           0\n",
              "No_Pation    0\n",
              "Gender       0\n",
              "AGE          0\n",
              "Urea         0\n",
              "Cr           0\n",
              "HbA1c        0\n",
              "Chol         0\n",
              "TG           0\n",
              "HDL          0\n",
              "LDL          0\n",
              "VLDL         0\n",
              "BMI          0\n",
              "CLASS        0\n",
              "dtype: int64"
            ]
          },
          "execution_count": 13,
          "metadata": {},
          "output_type": "execute_result"
        }
      ],
      "source": [
        "df.isnull().sum()\n"
      ]
    },
    {
      "cell_type": "markdown",
      "metadata": {
        "id": "gqXLD1nLHExG"
      },
      "source": [
        "**Creating a test set**"
      ]
    },
    {
      "cell_type": "code",
      "execution_count": null,
      "metadata": {
        "id": "sageUT6ZFmad"
      },
      "outputs": [],
      "source": [
        "original_train_df, test_df = train_test_split(df, test_size=0.2)\n",
        "\n",
        "# To be sure we will create a copy for further processing\n",
        "train_df = original_train_df.copy() "
      ]
    },
    {
      "cell_type": "markdown",
      "metadata": {
        "id": "MJen6hf7HIgK"
      },
      "source": [
        "Gaining further insight\n",
        "**bold text**"
      ]
    },
    {
      "cell_type": "code",
      "execution_count": null,
      "metadata": {
        "id": "A1CLML3hFp-U"
      },
      "outputs": [],
      "source": [
        "df1=df"
      ]
    },
    {
      "cell_type": "code",
      "execution_count": null,
      "metadata": {
        "colab": {
          "base_uri": "https://localhost:8080/",
          "height": 206
        },
        "id": "QupbixyJ5fdG",
        "outputId": "1b10403a-1656-42ac-b0cb-6788ee668802"
      },
      "outputs": [
        {
          "data": {
            "text/html": [
              "<div>\n",
              "<style scoped>\n",
              "    .dataframe tbody tr th:only-of-type {\n",
              "        vertical-align: middle;\n",
              "    }\n",
              "\n",
              "    .dataframe tbody tr th {\n",
              "        vertical-align: top;\n",
              "    }\n",
              "\n",
              "    .dataframe thead th {\n",
              "        text-align: right;\n",
              "    }\n",
              "</style>\n",
              "<table border=\"1\" class=\"dataframe\">\n",
              "  <thead>\n",
              "    <tr style=\"text-align: right;\">\n",
              "      <th></th>\n",
              "      <th>ID</th>\n",
              "      <th>No_Pation</th>\n",
              "      <th>Gender</th>\n",
              "      <th>AGE</th>\n",
              "      <th>Urea</th>\n",
              "      <th>Cr</th>\n",
              "      <th>HbA1c</th>\n",
              "      <th>Chol</th>\n",
              "      <th>TG</th>\n",
              "      <th>HDL</th>\n",
              "      <th>LDL</th>\n",
              "      <th>VLDL</th>\n",
              "      <th>BMI</th>\n",
              "      <th>CLASS</th>\n",
              "    </tr>\n",
              "  </thead>\n",
              "  <tbody>\n",
              "    <tr>\n",
              "      <th>0</th>\n",
              "      <td>502</td>\n",
              "      <td>17975</td>\n",
              "      <td>0</td>\n",
              "      <td>50</td>\n",
              "      <td>4.7</td>\n",
              "      <td>46</td>\n",
              "      <td>4.9</td>\n",
              "      <td>4.2</td>\n",
              "      <td>0.9</td>\n",
              "      <td>2.4</td>\n",
              "      <td>1.4</td>\n",
              "      <td>0.5</td>\n",
              "      <td>24.0</td>\n",
              "      <td>0</td>\n",
              "    </tr>\n",
              "    <tr>\n",
              "      <th>1</th>\n",
              "      <td>735</td>\n",
              "      <td>34221</td>\n",
              "      <td>1</td>\n",
              "      <td>26</td>\n",
              "      <td>4.5</td>\n",
              "      <td>62</td>\n",
              "      <td>4.9</td>\n",
              "      <td>3.7</td>\n",
              "      <td>1.4</td>\n",
              "      <td>1.1</td>\n",
              "      <td>2.1</td>\n",
              "      <td>0.6</td>\n",
              "      <td>23.0</td>\n",
              "      <td>0</td>\n",
              "    </tr>\n",
              "    <tr>\n",
              "      <th>2</th>\n",
              "      <td>420</td>\n",
              "      <td>47975</td>\n",
              "      <td>0</td>\n",
              "      <td>50</td>\n",
              "      <td>4.7</td>\n",
              "      <td>46</td>\n",
              "      <td>4.9</td>\n",
              "      <td>4.2</td>\n",
              "      <td>0.9</td>\n",
              "      <td>2.4</td>\n",
              "      <td>1.4</td>\n",
              "      <td>0.5</td>\n",
              "      <td>24.0</td>\n",
              "      <td>0</td>\n",
              "    </tr>\n",
              "    <tr>\n",
              "      <th>3</th>\n",
              "      <td>680</td>\n",
              "      <td>87656</td>\n",
              "      <td>0</td>\n",
              "      <td>50</td>\n",
              "      <td>4.7</td>\n",
              "      <td>46</td>\n",
              "      <td>4.9</td>\n",
              "      <td>4.2</td>\n",
              "      <td>0.9</td>\n",
              "      <td>2.4</td>\n",
              "      <td>1.4</td>\n",
              "      <td>0.5</td>\n",
              "      <td>24.0</td>\n",
              "      <td>0</td>\n",
              "    </tr>\n",
              "    <tr>\n",
              "      <th>4</th>\n",
              "      <td>504</td>\n",
              "      <td>34223</td>\n",
              "      <td>1</td>\n",
              "      <td>33</td>\n",
              "      <td>7.1</td>\n",
              "      <td>46</td>\n",
              "      <td>4.9</td>\n",
              "      <td>4.9</td>\n",
              "      <td>1.0</td>\n",
              "      <td>0.8</td>\n",
              "      <td>2.0</td>\n",
              "      <td>0.4</td>\n",
              "      <td>21.0</td>\n",
              "      <td>0</td>\n",
              "    </tr>\n",
              "  </tbody>\n",
              "</table>\n",
              "</div>"
            ],
            "text/plain": [
              "    ID  No_Pation  Gender  AGE  Urea  Cr  HbA1c  Chol   TG  HDL  LDL  VLDL  \\\n",
              "0  502      17975       0   50   4.7  46    4.9   4.2  0.9  2.4  1.4   0.5   \n",
              "1  735      34221       1   26   4.5  62    4.9   3.7  1.4  1.1  2.1   0.6   \n",
              "2  420      47975       0   50   4.7  46    4.9   4.2  0.9  2.4  1.4   0.5   \n",
              "3  680      87656       0   50   4.7  46    4.9   4.2  0.9  2.4  1.4   0.5   \n",
              "4  504      34223       1   33   7.1  46    4.9   4.9  1.0  0.8  2.0   0.4   \n",
              "\n",
              "    BMI  CLASS  \n",
              "0  24.0      0  \n",
              "1  23.0      0  \n",
              "2  24.0      0  \n",
              "3  24.0      0  \n",
              "4  21.0      0  "
            ]
          },
          "execution_count": 16,
          "metadata": {},
          "output_type": "execute_result"
        }
      ],
      "source": [
        "df1.head(5)"
      ]
    },
    {
      "cell_type": "code",
      "execution_count": null,
      "metadata": {
        "id": "ttXc1soeFuFN"
      },
      "outputs": [],
      "source": [
        "from sklearn.preprocessing import StandardScaler\n",
        "\n",
        "stan_scaler = StandardScaler()\n",
        "\n",
        "temp2_df = df1\n",
        "df_scaledstd = pd.DataFrame(stan_scaler.fit_transform(temp2_df),columns = df.columns)\n",
        "# transform all attributes\n",
        "#temp2_df[column_names] = stan_scaler.fit_transform(temp2_df[column_names])\n",
        "#temp2_df.sort_index(inplace=True)\n",
        "#temp2_df.head()\n"
      ]
    },
    {
      "cell_type": "code",
      "execution_count": null,
      "metadata": {
        "colab": {
          "base_uri": "https://localhost:8080/",
          "height": 270
        },
        "id": "vSG7rKH2F9bJ",
        "outputId": "51fe6225-790f-44d9-ab6f-31d467097098"
      },
      "outputs": [
        {
          "data": {
            "text/html": [
              "\n",
              "  <div id=\"df-61178d11-a407-4ab9-b674-0199e2cf0325\">\n",
              "    <div class=\"colab-df-container\">\n",
              "      <div>\n",
              "<style scoped>\n",
              "    .dataframe tbody tr th:only-of-type {\n",
              "        vertical-align: middle;\n",
              "    }\n",
              "\n",
              "    .dataframe tbody tr th {\n",
              "        vertical-align: top;\n",
              "    }\n",
              "\n",
              "    .dataframe thead th {\n",
              "        text-align: right;\n",
              "    }\n",
              "</style>\n",
              "<table border=\"1\" class=\"dataframe\">\n",
              "  <thead>\n",
              "    <tr style=\"text-align: right;\">\n",
              "      <th></th>\n",
              "      <th>ID</th>\n",
              "      <th>No_Pation</th>\n",
              "      <th>Gender</th>\n",
              "      <th>AGE</th>\n",
              "      <th>Urea</th>\n",
              "      <th>Cr</th>\n",
              "      <th>HbA1c</th>\n",
              "      <th>Chol</th>\n",
              "      <th>TG</th>\n",
              "      <th>HDL</th>\n",
              "      <th>LDL</th>\n",
              "      <th>VLDL</th>\n",
              "      <th>BMI</th>\n",
              "      <th>CLASS</th>\n",
              "    </tr>\n",
              "  </thead>\n",
              "  <tbody>\n",
              "    <tr>\n",
              "      <th>0</th>\n",
              "      <td>0.672140</td>\n",
              "      <td>-0.074747</td>\n",
              "      <td>-1.139671</td>\n",
              "      <td>-0.401144</td>\n",
              "      <td>-0.144781</td>\n",
              "      <td>-0.382672</td>\n",
              "      <td>-1.334983</td>\n",
              "      <td>-0.509436</td>\n",
              "      <td>-1.035084</td>\n",
              "      <td>1.810756</td>\n",
              "      <td>-1.085457</td>\n",
              "      <td>-0.369958</td>\n",
              "      <td>-1.124622</td>\n",
              "      <td>-2.759951</td>\n",
              "    </tr>\n",
              "    <tr>\n",
              "      <th>1</th>\n",
              "      <td>1.641852</td>\n",
              "      <td>-0.069940</td>\n",
              "      <td>0.877446</td>\n",
              "      <td>-3.130017</td>\n",
              "      <td>-0.212954</td>\n",
              "      <td>-0.115804</td>\n",
              "      <td>-1.334983</td>\n",
              "      <td>-0.893730</td>\n",
              "      <td>-0.678063</td>\n",
              "      <td>-0.158692</td>\n",
              "      <td>-0.457398</td>\n",
              "      <td>-0.342649</td>\n",
              "      <td>-1.326239</td>\n",
              "      <td>-2.759951</td>\n",
              "    </tr>\n",
              "    <tr>\n",
              "      <th>2</th>\n",
              "      <td>0.330868</td>\n",
              "      <td>-0.065869</td>\n",
              "      <td>-1.139671</td>\n",
              "      <td>-0.401144</td>\n",
              "      <td>-0.144781</td>\n",
              "      <td>-0.382672</td>\n",
              "      <td>-1.334983</td>\n",
              "      <td>-0.509436</td>\n",
              "      <td>-1.035084</td>\n",
              "      <td>1.810756</td>\n",
              "      <td>-1.085457</td>\n",
              "      <td>-0.369958</td>\n",
              "      <td>-1.124622</td>\n",
              "      <td>-2.759951</td>\n",
              "    </tr>\n",
              "    <tr>\n",
              "      <th>3</th>\n",
              "      <td>1.412950</td>\n",
              "      <td>-0.054126</td>\n",
              "      <td>-1.139671</td>\n",
              "      <td>-0.401144</td>\n",
              "      <td>-0.144781</td>\n",
              "      <td>-0.382672</td>\n",
              "      <td>-1.334983</td>\n",
              "      <td>-0.509436</td>\n",
              "      <td>-1.035084</td>\n",
              "      <td>1.810756</td>\n",
              "      <td>-1.085457</td>\n",
              "      <td>-0.369958</td>\n",
              "      <td>-1.124622</td>\n",
              "      <td>-2.759951</td>\n",
              "    </tr>\n",
              "    <tr>\n",
              "      <th>4</th>\n",
              "      <td>0.680463</td>\n",
              "      <td>-0.069939</td>\n",
              "      <td>0.877446</td>\n",
              "      <td>-2.334096</td>\n",
              "      <td>0.673299</td>\n",
              "      <td>-0.382672</td>\n",
              "      <td>-1.334983</td>\n",
              "      <td>0.028576</td>\n",
              "      <td>-0.963680</td>\n",
              "      <td>-0.613180</td>\n",
              "      <td>-0.547121</td>\n",
              "      <td>-0.397267</td>\n",
              "      <td>-1.729472</td>\n",
              "      <td>-2.759951</td>\n",
              "    </tr>\n",
              "  </tbody>\n",
              "</table>\n",
              "</div>\n",
              "      <button class=\"colab-df-convert\" onclick=\"convertToInteractive('df-61178d11-a407-4ab9-b674-0199e2cf0325')\"\n",
              "              title=\"Convert this dataframe to an interactive table.\"\n",
              "              style=\"display:none;\">\n",
              "        \n",
              "  <svg xmlns=\"http://www.w3.org/2000/svg\" height=\"24px\"viewBox=\"0 0 24 24\"\n",
              "       width=\"24px\">\n",
              "    <path d=\"M0 0h24v24H0V0z\" fill=\"none\"/>\n",
              "    <path d=\"M18.56 5.44l.94 2.06.94-2.06 2.06-.94-2.06-.94-.94-2.06-.94 2.06-2.06.94zm-11 1L8.5 8.5l.94-2.06 2.06-.94-2.06-.94L8.5 2.5l-.94 2.06-2.06.94zm10 10l.94 2.06.94-2.06 2.06-.94-2.06-.94-.94-2.06-.94 2.06-2.06.94z\"/><path d=\"M17.41 7.96l-1.37-1.37c-.4-.4-.92-.59-1.43-.59-.52 0-1.04.2-1.43.59L10.3 9.45l-7.72 7.72c-.78.78-.78 2.05 0 2.83L4 21.41c.39.39.9.59 1.41.59.51 0 1.02-.2 1.41-.59l7.78-7.78 2.81-2.81c.8-.78.8-2.07 0-2.86zM5.41 20L4 18.59l7.72-7.72 1.47 1.35L5.41 20z\"/>\n",
              "  </svg>\n",
              "      </button>\n",
              "      \n",
              "  <style>\n",
              "    .colab-df-container {\n",
              "      display:flex;\n",
              "      flex-wrap:wrap;\n",
              "      gap: 12px;\n",
              "    }\n",
              "\n",
              "    .colab-df-convert {\n",
              "      background-color: #E8F0FE;\n",
              "      border: none;\n",
              "      border-radius: 50%;\n",
              "      cursor: pointer;\n",
              "      display: none;\n",
              "      fill: #1967D2;\n",
              "      height: 32px;\n",
              "      padding: 0 0 0 0;\n",
              "      width: 32px;\n",
              "    }\n",
              "\n",
              "    .colab-df-convert:hover {\n",
              "      background-color: #E2EBFA;\n",
              "      box-shadow: 0px 1px 2px rgba(60, 64, 67, 0.3), 0px 1px 3px 1px rgba(60, 64, 67, 0.15);\n",
              "      fill: #174EA6;\n",
              "    }\n",
              "\n",
              "    [theme=dark] .colab-df-convert {\n",
              "      background-color: #3B4455;\n",
              "      fill: #D2E3FC;\n",
              "    }\n",
              "\n",
              "    [theme=dark] .colab-df-convert:hover {\n",
              "      background-color: #434B5C;\n",
              "      box-shadow: 0px 1px 3px 1px rgba(0, 0, 0, 0.15);\n",
              "      filter: drop-shadow(0px 1px 2px rgba(0, 0, 0, 0.3));\n",
              "      fill: #FFFFFF;\n",
              "    }\n",
              "  </style>\n",
              "\n",
              "      <script>\n",
              "        const buttonEl =\n",
              "          document.querySelector('#df-61178d11-a407-4ab9-b674-0199e2cf0325 button.colab-df-convert');\n",
              "        buttonEl.style.display =\n",
              "          google.colab.kernel.accessAllowed ? 'block' : 'none';\n",
              "\n",
              "        async function convertToInteractive(key) {\n",
              "          const element = document.querySelector('#df-61178d11-a407-4ab9-b674-0199e2cf0325');\n",
              "          const dataTable =\n",
              "            await google.colab.kernel.invokeFunction('convertToInteractive',\n",
              "                                                     [key], {});\n",
              "          if (!dataTable) return;\n",
              "\n",
              "          const docLinkHtml = 'Like what you see? Visit the ' +\n",
              "            '<a target=\"_blank\" href=https://colab.research.google.com/notebooks/data_table.ipynb>data table notebook</a>'\n",
              "            + ' to learn more about interactive tables.';\n",
              "          element.innerHTML = '';\n",
              "          dataTable['output_type'] = 'display_data';\n",
              "          await google.colab.output.renderOutput(dataTable, element);\n",
              "          const docLink = document.createElement('div');\n",
              "          docLink.innerHTML = docLinkHtml;\n",
              "          element.appendChild(docLink);\n",
              "        }\n",
              "      </script>\n",
              "    </div>\n",
              "  </div>\n",
              "  "
            ],
            "text/plain": [
              "         ID  No_Pation    Gender       AGE      Urea        Cr     HbA1c  \\\n",
              "0  0.672140  -0.074747 -1.139671 -0.401144 -0.144781 -0.382672 -1.334983   \n",
              "1  1.641852  -0.069940  0.877446 -3.130017 -0.212954 -0.115804 -1.334983   \n",
              "2  0.330868  -0.065869 -1.139671 -0.401144 -0.144781 -0.382672 -1.334983   \n",
              "3  1.412950  -0.054126 -1.139671 -0.401144 -0.144781 -0.382672 -1.334983   \n",
              "4  0.680463  -0.069939  0.877446 -2.334096  0.673299 -0.382672 -1.334983   \n",
              "\n",
              "       Chol        TG       HDL       LDL      VLDL       BMI     CLASS  \n",
              "0 -0.509436 -1.035084  1.810756 -1.085457 -0.369958 -1.124622 -2.759951  \n",
              "1 -0.893730 -0.678063 -0.158692 -0.457398 -0.342649 -1.326239 -2.759951  \n",
              "2 -0.509436 -1.035084  1.810756 -1.085457 -0.369958 -1.124622 -2.759951  \n",
              "3 -0.509436 -1.035084  1.810756 -1.085457 -0.369958 -1.124622 -2.759951  \n",
              "4  0.028576 -0.963680 -0.613180 -0.547121 -0.397267 -1.729472 -2.759951  "
            ]
          },
          "execution_count": 474,
          "metadata": {},
          "output_type": "execute_result"
        }
      ],
      "source": [
        "df_scaledstd.head(5)"
      ]
    },
    {
      "cell_type": "markdown",
      "metadata": {
        "id": "9FwCqBAeHj3D"
      },
      "source": [
        "**Rescaling or standardizing attributes**"
      ]
    },
    {
      "cell_type": "code",
      "execution_count": null,
      "metadata": {
        "id": "uKgIILq2GKPr"
      },
      "outputs": [],
      "source": []
    },
    {
      "cell_type": "code",
      "execution_count": null,
      "metadata": {
        "id": "5uYU1WMLGNAG"
      },
      "outputs": [],
      "source": []
    },
    {
      "cell_type": "code",
      "execution_count": null,
      "metadata": {
        "colab": {
          "base_uri": "https://localhost:8080/"
        },
        "id": "29hd8t70RhcJ",
        "outputId": "d6a60cd2-ec16-459e-fe53-5e939e779b71"
      },
      "outputs": [
        {
          "name": "stdout",
          "output_type": "stream",
          "text": [
            "Requirement already satisfied: featurewiz in c:\\users\\ddnest003\\anaconda3\\lib\\site-packages (0.1.996)\n",
            "Requirement already satisfied: fsspec>=0.3.3 in c:\\users\\ddnest003\\anaconda3\\lib\\site-packages (from featurewiz) (2022.8.2)\n",
            "Requirement already satisfied: networkx>=2.6.2 in c:\\users\\ddnest003\\anaconda3\\lib\\site-packages (from featurewiz) (2.6.3)\n",
            "Requirement already satisfied: imbalanced-learn>=0.7 in c:\\users\\ddnest003\\anaconda3\\lib\\site-packages (from featurewiz) (0.9.0)\n",
            "Requirement already satisfied: seaborn in c:\\users\\ddnest003\\anaconda3\\lib\\site-packages (from featurewiz) (0.9.0)\n",
            "Requirement already satisfied: pyarrow~=7.0.0 in c:\\users\\ddnest003\\anaconda3\\lib\\site-packages (from featurewiz) (7.0.0)\n",
            "Requirement already satisfied: dask>=2021.11.0 in c:\\users\\ddnest003\\anaconda3\\lib\\site-packages (from featurewiz) (2022.2.0)\n",
            "Requirement already satisfied: pandas>=1.3.4 in c:\\users\\ddnest003\\anaconda3\\lib\\site-packages (from featurewiz) (1.3.5)\n",
            "Requirement already satisfied: Pillow>=9.0.0 in c:\\users\\ddnest003\\anaconda3\\lib\\site-packages (from featurewiz) (9.0.1)\n",
            "Requirement already satisfied: tqdm>=4.62.0 in c:\\users\\ddnest003\\anaconda3\\lib\\site-packages (from featurewiz) (4.64.1)\n",
            "Requirement already satisfied: distributed>=2021.11.0 in c:\\users\\ddnest003\\anaconda3\\lib\\site-packages (from featurewiz) (2022.2.0)\n",
            "Requirement already satisfied: ipython in c:\\users\\ddnest003\\anaconda3\\lib\\site-packages (from featurewiz) (7.6.1)\n",
            "Requirement already satisfied: xgboost>=1.5.1 in c:\\users\\ddnest003\\anaconda3\\lib\\site-packages (from featurewiz) (1.6.2)\n",
            "Requirement already satisfied: category-encoders>=2.4.0 in c:\\users\\ddnest003\\anaconda3\\lib\\site-packages (from featurewiz) (2.5.0)\n",
            "Requirement already satisfied: jupyter in c:\\users\\ddnest003\\anaconda3\\lib\\site-packages (from featurewiz) (1.0.0)\n",
            "Requirement already satisfied: lightgbm>=3.2.1 in c:\\users\\ddnest003\\anaconda3\\lib\\site-packages (from featurewiz) (3.3.2)\n",
            "Requirement already satisfied: xlrd>=2.0.0 in c:\\users\\ddnest003\\anaconda3\\lib\\site-packages (from featurewiz) (2.0.1)\n",
            "Requirement already satisfied: feather-format>=0.4.1 in c:\\users\\ddnest003\\anaconda3\\lib\\site-packages (from featurewiz) (0.4.1)\n",
            "Requirement already satisfied: matplotlib in c:\\users\\ddnest003\\anaconda3\\lib\\site-packages (from featurewiz) (3.5.3)\n",
            "Requirement already satisfied: scikit-learn>=0.24 in c:\\users\\ddnest003\\anaconda3\\lib\\site-packages (from featurewiz) (1.0.2)\n",
            "Requirement already satisfied: statsmodels>=0.9.0 in c:\\users\\ddnest003\\anaconda3\\lib\\site-packages (from category-encoders>=2.4.0->featurewiz) (0.10.0)\n",
            "Requirement already satisfied: scipy>=1.0.0 in c:\\users\\ddnest003\\anaconda3\\lib\\site-packages (from category-encoders>=2.4.0->featurewiz) (1.2.1)\n",
            "Requirement already satisfied: patsy>=0.5.1 in c:\\users\\ddnest003\\anaconda3\\lib\\site-packages (from category-encoders>=2.4.0->featurewiz) (0.5.1)\n",
            "Requirement already satisfied: numpy>=1.14.0 in c:\\users\\ddnest003\\anaconda3\\lib\\site-packages (from category-encoders>=2.4.0->featurewiz) (1.21.6)\n",
            "Requirement already satisfied: cloudpickle>=1.1.1 in c:\\users\\ddnest003\\anaconda3\\lib\\site-packages (from dask>=2021.11.0->featurewiz) (2.2.0)\n",
            "Requirement already satisfied: packaging>=20.0 in c:\\users\\ddnest003\\anaconda3\\lib\\site-packages (from dask>=2021.11.0->featurewiz) (21.3)\n",
            "Requirement already satisfied: toolz>=0.8.2 in c:\\users\\ddnest003\\anaconda3\\lib\\site-packages (from dask>=2021.11.0->featurewiz) (0.10.0)\n",
            "Collecting pyyaml>=5.3.1\n",
            "  Using cached PyYAML-6.0-cp37-cp37m-win_amd64.whl (153 kB)\n",
            "Requirement already satisfied: partd>=0.3.10 in c:\\users\\ddnest003\\anaconda3\\lib\\site-packages (from dask>=2021.11.0->featurewiz) (1.0.0)\n",
            "Requirement already satisfied: sortedcontainers!=2.0.0,!=2.0.1 in c:\\users\\ddnest003\\anaconda3\\lib\\site-packages (from distributed>=2021.11.0->featurewiz) (2.1.0)\n",
            "Requirement already satisfied: zict>=0.1.3 in c:\\users\\ddnest003\\anaconda3\\lib\\site-packages (from distributed>=2021.11.0->featurewiz) (1.0.0)\n",
            "Requirement already satisfied: msgpack>=0.6.0 in c:\\users\\ddnest003\\anaconda3\\lib\\site-packages (from distributed>=2021.11.0->featurewiz) (0.6.1)\n",
            "Requirement already satisfied: tornado>=5 in c:\\users\\ddnest003\\anaconda3\\lib\\site-packages (from distributed>=2021.11.0->featurewiz) (6.0.3)\n",
            "Requirement already satisfied: jinja2 in c:\\users\\ddnest003\\anaconda3\\lib\\site-packages (from distributed>=2021.11.0->featurewiz) (2.10.1)\n",
            "Requirement already satisfied: click>=6.6 in c:\\users\\ddnest003\\anaconda3\\lib\\site-packages (from distributed>=2021.11.0->featurewiz) (7.0)\n",
            "Requirement already satisfied: tblib>=1.6.0 in c:\\users\\ddnest003\\anaconda3\\lib\\site-packages (from distributed>=2021.11.0->featurewiz) (1.7.0)\n",
            "Requirement already satisfied: psutil>=5.0 in c:\\users\\ddnest003\\anaconda3\\lib\\site-packages (from distributed>=2021.11.0->featurewiz) (5.6.3)\n",
            "Requirement already satisfied: setuptools in c:\\users\\ddnest003\\appdata\\roaming\\python\\python37\\site-packages (from distributed>=2021.11.0->featurewiz) (41.4.0)\n",
            "Requirement already satisfied: threadpoolctl>=2.0.0 in c:\\users\\ddnest003\\anaconda3\\lib\\site-packages (from imbalanced-learn>=0.7->featurewiz) (3.1.0)\n",
            "Requirement already satisfied: joblib>=0.11 in c:\\users\\ddnest003\\anaconda3\\lib\\site-packages (from imbalanced-learn>=0.7->featurewiz) (1.2.0)\n",
            "Requirement already satisfied: wheel in c:\\users\\ddnest003\\appdata\\roaming\\python\\python37\\site-packages (from lightgbm>=3.2.1->featurewiz) (0.33.6)\n",
            "Requirement already satisfied: python-dateutil>=2.7.3 in c:\\users\\ddnest003\\anaconda3\\lib\\site-packages (from pandas>=1.3.4->featurewiz) (2.8.0)\n",
            "Requirement already satisfied: pytz>=2017.3 in c:\\users\\ddnest003\\anaconda3\\lib\\site-packages (from pandas>=1.3.4->featurewiz) (2019.1)\n",
            "Requirement already satisfied: colorama in c:\\users\\ddnest003\\anaconda3\\lib\\site-packages (from tqdm>=4.62.0->featurewiz) (0.4.1)\n",
            "Requirement already satisfied: jedi>=0.10 in c:\\users\\ddnest003\\anaconda3\\lib\\site-packages (from ipython->featurewiz) (0.13.3)\n",
            "Requirement already satisfied: pickleshare in c:\\users\\ddnest003\\anaconda3\\lib\\site-packages (from ipython->featurewiz) (0.7.5)\n",
            "Requirement already satisfied: prompt-toolkit<2.1.0,>=2.0.0 in c:\\users\\ddnest003\\anaconda3\\lib\\site-packages (from ipython->featurewiz) (2.0.9)\n",
            "Requirement already satisfied: pygments in c:\\users\\ddnest003\\anaconda3\\lib\\site-packages (from ipython->featurewiz) (2.4.2)\n",
            "Requirement already satisfied: traitlets>=4.2 in c:\\users\\ddnest003\\anaconda3\\lib\\site-packages (from ipython->featurewiz) (4.3.2)\n",
            "Requirement already satisfied: decorator in c:\\users\\ddnest003\\anaconda3\\lib\\site-packages (from ipython->featurewiz) (4.4.0)\n",
            "Requirement already satisfied: backcall in c:\\users\\ddnest003\\anaconda3\\lib\\site-packages (from ipython->featurewiz) (0.1.0)\n",
            "Requirement already satisfied: qtconsole in c:\\users\\ddnest003\\anaconda3\\lib\\site-packages (from jupyter->featurewiz) (4.5.1)\n",
            "Requirement already satisfied: nbconvert in c:\\users\\ddnest003\\anaconda3\\lib\\site-packages (from jupyter->featurewiz) (5.5.0)\n",
            "Requirement already satisfied: ipykernel in c:\\users\\ddnest003\\anaconda3\\lib\\site-packages (from jupyter->featurewiz) (5.1.1)\n",
            "Requirement already satisfied: jupyter-console in c:\\users\\ddnest003\\anaconda3\\lib\\site-packages (from jupyter->featurewiz) (6.0.0)\n",
            "Requirement already satisfied: notebook in c:\\users\\ddnest003\\anaconda3\\lib\\site-packages (from jupyter->featurewiz) (6.0.0)\n",
            "Requirement already satisfied: ipywidgets in c:\\users\\ddnest003\\anaconda3\\lib\\site-packages (from jupyter->featurewiz) (7.5.0)\n",
            "Requirement already satisfied: kiwisolver>=1.0.1 in c:\\users\\ddnest003\\anaconda3\\lib\\site-packages (from matplotlib->featurewiz) (1.1.0)\n",
            "Requirement already satisfied: fonttools>=4.22.0 in c:\\users\\ddnest003\\anaconda3\\lib\\site-packages (from matplotlib->featurewiz) (4.35.0)\n",
            "Requirement already satisfied: cycler>=0.10 in c:\\users\\ddnest003\\anaconda3\\lib\\site-packages (from matplotlib->featurewiz) (0.10.0)\n",
            "Requirement already satisfied: pyparsing>=2.2.1 in c:\\users\\ddnest003\\anaconda3\\lib\\site-packages (from matplotlib->featurewiz) (2.4.0)\n",
            "Requirement already satisfied: six in c:\\users\\ddnest003\\appdata\\roaming\\python\\python37\\site-packages (from cycler>=0.10->matplotlib->featurewiz) (1.12.0)\n",
            "Requirement already satisfied: parso>=0.3.0 in c:\\users\\ddnest003\\anaconda3\\lib\\site-packages (from jedi>=0.10->ipython->featurewiz) (0.5.0)\n",
            "Requirement already satisfied: locket in c:\\users\\ddnest003\\anaconda3\\lib\\site-packages (from partd>=0.3.10->dask>=2021.11.0->featurewiz) (0.2.0)\n",
            "Requirement already satisfied: wcwidth in c:\\users\\ddnest003\\anaconda3\\lib\\site-packages (from prompt-toolkit<2.1.0,>=2.0.0->ipython->featurewiz) (0.1.7)\n",
            "Requirement already satisfied: ipython-genutils in c:\\users\\ddnest003\\anaconda3\\lib\\site-packages (from traitlets>=4.2->ipython->featurewiz) (0.2.0)\n",
            "Requirement already satisfied: heapdict in c:\\users\\ddnest003\\anaconda3\\lib\\site-packages (from zict>=0.1.3->distributed>=2021.11.0->featurewiz) (1.0.0)\n",
            "Requirement already satisfied: jupyter-client in c:\\users\\ddnest003\\anaconda3\\lib\\site-packages (from ipykernel->jupyter->featurewiz) (5.3.1)\n",
            "Requirement already satisfied: nbformat>=4.2.0 in c:\\users\\ddnest003\\anaconda3\\lib\\site-packages (from ipywidgets->jupyter->featurewiz) (4.4.0)\n",
            "Requirement already satisfied: widgetsnbextension~=3.5.0 in c:\\users\\ddnest003\\anaconda3\\lib\\site-packages (from ipywidgets->jupyter->featurewiz) (3.5.0)\n",
            "Requirement already satisfied: MarkupSafe>=0.23 in c:\\users\\ddnest003\\anaconda3\\lib\\site-packages (from jinja2->distributed>=2021.11.0->featurewiz) (1.1.1)\n",
            "Requirement already satisfied: entrypoints>=0.2.2 in c:\\users\\ddnest003\\anaconda3\\lib\\site-packages (from nbconvert->jupyter->featurewiz) (0.3)\n",
            "Requirement already satisfied: jupyter-core in c:\\users\\ddnest003\\anaconda3\\lib\\site-packages (from nbconvert->jupyter->featurewiz) (4.5.0)\n",
            "Requirement already satisfied: pandocfilters>=1.4.1 in c:\\users\\ddnest003\\anaconda3\\lib\\site-packages (from nbconvert->jupyter->featurewiz) (1.4.2)\n",
            "Requirement already satisfied: mistune>=0.8.1 in c:\\users\\ddnest003\\anaconda3\\lib\\site-packages (from nbconvert->jupyter->featurewiz) (0.8.4)\n",
            "Requirement already satisfied: bleach in c:\\users\\ddnest003\\anaconda3\\lib\\site-packages (from nbconvert->jupyter->featurewiz) (3.1.0)\n",
            "Requirement already satisfied: defusedxml in c:\\users\\ddnest003\\anaconda3\\lib\\site-packages (from nbconvert->jupyter->featurewiz) (0.5.0)\n",
            "Requirement already satisfied: testpath in c:\\users\\ddnest003\\anaconda3\\lib\\site-packages (from nbconvert->jupyter->featurewiz) (0.4.2)\n",
            "Requirement already satisfied: pyzmq>=17 in c:\\users\\ddnest003\\anaconda3\\lib\\site-packages (from notebook->jupyter->featurewiz) (18.0.0)\n",
            "Requirement already satisfied: prometheus-client in c:\\users\\ddnest003\\anaconda3\\lib\\site-packages (from notebook->jupyter->featurewiz) (0.7.1)\n",
            "Requirement already satisfied: Send2Trash in c:\\users\\ddnest003\\anaconda3\\lib\\site-packages (from notebook->jupyter->featurewiz) (1.5.0)\n",
            "Requirement already satisfied: terminado>=0.8.1 in c:\\users\\ddnest003\\anaconda3\\lib\\site-packages (from notebook->jupyter->featurewiz) (0.8.2)\n",
            "Requirement already satisfied: jsonschema!=2.5.0,>=2.4 in c:\\users\\ddnest003\\anaconda3\\lib\\site-packages (from nbformat>=4.2.0->ipywidgets->jupyter->featurewiz) (3.0.1)\n",
            "Requirement already satisfied: webencodings in c:\\users\\ddnest003\\anaconda3\\lib\\site-packages (from bleach->nbconvert->jupyter->featurewiz) (0.5.1)\n",
            "Requirement already satisfied: attrs>=17.4.0 in c:\\users\\ddnest003\\anaconda3\\lib\\site-packages (from jsonschema!=2.5.0,>=2.4->nbformat>=4.2.0->ipywidgets->jupyter->featurewiz) (19.1.0)\n",
            "Requirement already satisfied: pyrsistent>=0.14.0 in c:\\users\\ddnest003\\anaconda3\\lib\\site-packages (from jsonschema!=2.5.0,>=2.4->nbformat>=4.2.0->ipywidgets->jupyter->featurewiz) (0.14.11)\n",
            "Installing collected packages: pyyaml\n",
            "  Attempting uninstall: pyyaml\n",
            "    Found existing installation: PyYAML 5.1.1\n",
            "Note: you may need to restart the kernel to use updated packages.\n"
          ]
        },
        {
          "name": "stderr",
          "output_type": "stream",
          "text": [
            "WARNING: Ignoring invalid distribution -atplotlib (c:\\users\\ddnest003\\anaconda3\\lib\\site-packages)\n",
            "WARNING: Ignoring invalid distribution -atplotlib (c:\\users\\ddnest003\\anaconda3\\lib\\site-packages)\n",
            "    WARNING: Ignoring invalid distribution -atplotlib (c:\\users\\ddnest003\\anaconda3\\lib\\site-packages)\n",
            "ERROR: Cannot uninstall 'PyYAML'. It is a distutils installed project and thus we cannot accurately determine which files belong to it which would lead to only a partial uninstall.\n",
            "WARNING: Ignoring invalid distribution -atplotlib (c:\\users\\ddnest003\\anaconda3\\lib\\site-packages)\n",
            "WARNING: Ignoring invalid distribution -atplotlib (c:\\users\\ddnest003\\anaconda3\\lib\\site-packages)\n"
          ]
        }
      ],
      "source": [
        "pip install featurewiz"
      ]
    },
    {
      "cell_type": "code",
      "execution_count": null,
      "metadata": {
        "id": "Qmmdq5MnRaN2",
        "outputId": "8d998fb2-f309-493a-e8a6-22200e4400d5"
      },
      "outputs": [
        {
          "name": "stdout",
          "output_type": "stream",
          "text": [
            "Imported 0.1.996 version. Select nrows to a small number when running on huge datasets.\n",
            "output = featurewiz(dataname, target, corr_limit=0.70, verbose=2, sep=',', \n",
            "\t\theader=0, test_data='',feature_engg='', category_encoders='',\n",
            "\t\tdask_xgboost_flag=False, nrows=None)\n",
            "Create new features via 'feature_engg' flag : ['interactions','groupby','target']\n",
            "\n"
          ]
        }
      ],
      "source": [
        "from featurewiz import featurewiz\n"
      ]
    },
    {
      "cell_type": "code",
      "execution_count": null,
      "metadata": {
        "colab": {
          "base_uri": "https://localhost:8080/"
        },
        "id": "hQVLpBJHRaLa",
        "outputId": "44390a2d-4d04-4844-efed-5d3943c19b2c"
      },
      "outputs": [
        {
          "name": "stdout",
          "output_type": "stream",
          "text": [
            "############################################################################################\n",
            "############       F A S T   F E A T U R E  E N G G    A N D    S E L E C T I O N ! ########\n",
            "# Be judicious with featurewiz. Don't use it to create too many un-interpretable features! #\n",
            "############################################################################################\n",
            "Skipping feature engineering since no feature_engg input...\n",
            "Skipping category encoding since no category encoders specified in input...\n",
            "#### Single_Label Multi_Classification problem ####\n",
            "    Loaded train data. Shape = (1000, 14)\n",
            "#### Single_Label Multi_Classification problem ####\n",
            "No test data filename given...\n",
            "#######################################################################################\n",
            "######################## C L A S S I F Y I N G  V A R I A B L E S  ####################\n",
            "#######################################################################################\n",
            "        No variables were removed since no ID or low-information variables found in data set\n",
            "No GPU active on this device\n",
            "    Tuning XGBoost using CPU hyper-parameters. This will take time...\n",
            "    After removing redundant variables from further processing, features left = 13\n",
            "No interactions created for categorical vars since feature engg does not specify it\n",
            "#######################################################################################\n",
            "#####  Searching for Uncorrelated List Of Variables (SULOV) in 13 features ############\n",
            "#######################################################################################\n",
            "Selecting all (13) variables since none of numeric vars are highly correlated...\n",
            "Time taken for SULOV method = 0 seconds\n",
            "    Adding 0 categorical variables to reduced numeric variables  of 13\n",
            "Final list of selected 13 vars after SULOV = ['AGE', 'BMI', 'Chol', 'Cr', 'Gender', 'HDL', 'HbA1c', 'ID', 'LDL', 'No_Pation', 'TG', 'Urea', 'VLDL']\n",
            "Converting all features to numeric before sending to XGBoost...\n",
            "#######################################################################################\n",
            "#####    R E C U R S I V E   X G B O O S T : F E A T U R E   S E L E C T I O N  #######\n",
            "#######################################################################################\n",
            "    using regular XGBoost\n",
            "Current number of predictors before recursive XGBoost = 13 \n",
            "    Taking top 3 features per iteration...\n",
            "    XGBoost version using 1.6.2 as tree method: hist\n",
            "Number of booster rounds = 100\n",
            "        using 13 variables...\n",
            "            Time taken for regular XGBoost feature selection = 0 seconds\n",
            "        using 10 variables...\n",
            "            Time taken for regular XGBoost feature selection = 0 seconds\n",
            "        using 7 variables...\n",
            "            Time taken for regular XGBoost feature selection = 0 seconds\n",
            "        using 4 variables...\n",
            "            Time taken for regular XGBoost feature selection = 0 seconds\n"
          ]
        },
        {
          "data": {
            "image/png": "[encoded data removed]",
            "text/plain": [
              "<Figure size 720x720 with 4 Axes>"
            ]
          },
          "metadata": {
            "needs_background": "light"
          },
          "output_type": "display_data"
        },
        {
          "name": "stdout",
          "output_type": "stream",
          "text": [
            "    Completed XGBoost feature selection in 0 seconds\n",
            "#######################################################################################\n",
            "#####          F E A T U R E   S E L E C T I O N   C O M P L E T E D            #######\n",
            "#######################################################################################\n",
            "Selected 7 important features:\n",
            "['HbA1c', 'AGE', 'BMI', 'No_Pation', 'Cr', 'TG', 'VLDL']\n",
            "Total Time taken for featurewiz selection = 1 seconds\n",
            "Output contains a list of 7 important features and a train dataframe\n"
          ]
        }
      ],
      "source": [
        "target = 'CLASS'\n",
        " \n",
        "features= featurewiz(df, target, corr_limit=0.7, verbose=2, sep=\",\",\n",
        "header=0,test_data=\"\", feature_engg=\"\", category_encoders=\"\")"
      ]
    },
    {
      "cell_type": "code",
      "execution_count": null,
      "metadata": {
        "colab": {
          "base_uri": "https://localhost:8080/"
        },
        "id": "o3GhYsP0RaJB",
        "outputId": "9c0213c6-a631-4693-8182-48653f8ad19b"
      },
      "outputs": [
        {
          "name": "stdout",
          "output_type": "stream",
          "text": [
            "['HbA1c', 'AGE', 'BMI', 'No_Pation', 'Cr', 'TG', 'VLDL']\n"
          ]
        }
      ],
      "source": [
        "print(features)\n"
      ]
    },
    {
      "cell_type": "code",
      "execution_count": null,
      "metadata": {
        "id": "k3pAX3oLu-Q3"
      },
      "outputs": [],
      "source": [
        "featuresinit=['AGE', 'BMI', 'Chol', 'Cr', 'Gender', 'HDL', 'HbA1c', 'ID', 'LDL', 'No_Pation', 'TG', 'Urea', 'VLDL']"
      ]
    },
    {
      "cell_type": "code",
      "execution_count": null,
      "metadata": {
        "id": "SDvLWKZ-u-Q3"
      },
      "outputs": [],
      "source": [
        "featuresnewfromfeaturewiz=['HbA1c', 'AGE', 'BMI', 'No_Pation', 'Cr', 'TG', 'VLDL']\n"
      ]
    },
    {
      "cell_type": "code",
      "execution_count": null,
      "metadata": {
        "id": "w8Wun4L5u-Q3"
      },
      "outputs": [],
      "source": [
        "#After Domain Expert Opinion, FeatureWIZ, FilterBased (Chi-Squared) and WrapperBased  Method = Selected Features. \n",
        "featuresfinal=['HbA1c', 'AGE', 'BMI', 'Chol', 'Cr', 'TG', 'VLDL', 'Urea','LDL','HDL']"
      ]
    },
    {
      "cell_type": "code",
      "execution_count": null,
      "metadata": {
        "id": "iV5YHvQcQ7Lu"
      },
      "outputs": [],
      "source": [
        "features_for_lime=featuresfinal"
      ]
    },
    {
      "cell_type": "code",
      "execution_count": null,
      "metadata": {
        "colab": {
          "base_uri": "https://localhost:8080/",
          "height": 270
        },
        "id": "hP70W4gaRaGj",
        "outputId": "7b86be08-317e-486b-bf05-845b4846b93b"
      },
      "outputs": [
        {
          "data": {
            "text/html": [
              "<div>\n",
              "<style scoped>\n",
              "    .dataframe tbody tr th:only-of-type {\n",
              "        vertical-align: middle;\n",
              "    }\n",
              "\n",
              "    .dataframe tbody tr th {\n",
              "        vertical-align: top;\n",
              "    }\n",
              "\n",
              "    .dataframe thead th {\n",
              "        text-align: right;\n",
              "    }\n",
              "</style>\n",
              "<table border=\"1\" class=\"dataframe\">\n",
              "  <thead>\n",
              "    <tr style=\"text-align: right;\">\n",
              "      <th></th>\n",
              "      <th>ID</th>\n",
              "      <th>No_Pation</th>\n",
              "      <th>Gender</th>\n",
              "      <th>AGE</th>\n",
              "      <th>Urea</th>\n",
              "      <th>Cr</th>\n",
              "      <th>HbA1c</th>\n",
              "      <th>Chol</th>\n",
              "      <th>TG</th>\n",
              "      <th>HDL</th>\n",
              "      <th>LDL</th>\n",
              "      <th>VLDL</th>\n",
              "      <th>BMI</th>\n",
              "      <th>CLASS</th>\n",
              "    </tr>\n",
              "  </thead>\n",
              "  <tbody>\n",
              "    <tr>\n",
              "      <th>0</th>\n",
              "      <td>0.672140</td>\n",
              "      <td>-0.074747</td>\n",
              "      <td>-1.139671</td>\n",
              "      <td>-0.401144</td>\n",
              "      <td>-0.144781</td>\n",
              "      <td>-0.382672</td>\n",
              "      <td>-1.334983</td>\n",
              "      <td>-0.509436</td>\n",
              "      <td>-1.035084</td>\n",
              "      <td>1.810756</td>\n",
              "      <td>-1.085457</td>\n",
              "      <td>-0.369958</td>\n",
              "      <td>-1.124622</td>\n",
              "      <td>-2.759951</td>\n",
              "    </tr>\n",
              "    <tr>\n",
              "      <th>1</th>\n",
              "      <td>1.641852</td>\n",
              "      <td>-0.069940</td>\n",
              "      <td>0.877446</td>\n",
              "      <td>-3.130017</td>\n",
              "      <td>-0.212954</td>\n",
              "      <td>-0.115804</td>\n",
              "      <td>-1.334983</td>\n",
              "      <td>-0.893730</td>\n",
              "      <td>-0.678063</td>\n",
              "      <td>-0.158692</td>\n",
              "      <td>-0.457398</td>\n",
              "      <td>-0.342649</td>\n",
              "      <td>-1.326239</td>\n",
              "      <td>-2.759951</td>\n",
              "    </tr>\n",
              "    <tr>\n",
              "      <th>2</th>\n",
              "      <td>0.330868</td>\n",
              "      <td>-0.065869</td>\n",
              "      <td>-1.139671</td>\n",
              "      <td>-0.401144</td>\n",
              "      <td>-0.144781</td>\n",
              "      <td>-0.382672</td>\n",
              "      <td>-1.334983</td>\n",
              "      <td>-0.509436</td>\n",
              "      <td>-1.035084</td>\n",
              "      <td>1.810756</td>\n",
              "      <td>-1.085457</td>\n",
              "      <td>-0.369958</td>\n",
              "      <td>-1.124622</td>\n",
              "      <td>-2.759951</td>\n",
              "    </tr>\n",
              "    <tr>\n",
              "      <th>3</th>\n",
              "      <td>1.412950</td>\n",
              "      <td>-0.054126</td>\n",
              "      <td>-1.139671</td>\n",
              "      <td>-0.401144</td>\n",
              "      <td>-0.144781</td>\n",
              "      <td>-0.382672</td>\n",
              "      <td>-1.334983</td>\n",
              "      <td>-0.509436</td>\n",
              "      <td>-1.035084</td>\n",
              "      <td>1.810756</td>\n",
              "      <td>-1.085457</td>\n",
              "      <td>-0.369958</td>\n",
              "      <td>-1.124622</td>\n",
              "      <td>-2.759951</td>\n",
              "    </tr>\n",
              "    <tr>\n",
              "      <th>4</th>\n",
              "      <td>0.680463</td>\n",
              "      <td>-0.069939</td>\n",
              "      <td>0.877446</td>\n",
              "      <td>-2.334096</td>\n",
              "      <td>0.673299</td>\n",
              "      <td>-0.382672</td>\n",
              "      <td>-1.334983</td>\n",
              "      <td>0.028576</td>\n",
              "      <td>-0.963680</td>\n",
              "      <td>-0.613180</td>\n",
              "      <td>-0.547121</td>\n",
              "      <td>-0.397267</td>\n",
              "      <td>-1.729472</td>\n",
              "      <td>-2.759951</td>\n",
              "    </tr>\n",
              "  </tbody>\n",
              "</table>\n",
              "</div>"
            ],
            "text/plain": [
              "         ID  No_Pation    Gender       AGE      Urea        Cr     HbA1c  \\\n",
              "0  0.672140  -0.074747 -1.139671 -0.401144 -0.144781 -0.382672 -1.334983   \n",
              "1  1.641852  -0.069940  0.877446 -3.130017 -0.212954 -0.115804 -1.334983   \n",
              "2  0.330868  -0.065869 -1.139671 -0.401144 -0.144781 -0.382672 -1.334983   \n",
              "3  1.412950  -0.054126 -1.139671 -0.401144 -0.144781 -0.382672 -1.334983   \n",
              "4  0.680463  -0.069939  0.877446 -2.334096  0.673299 -0.382672 -1.334983   \n",
              "\n",
              "       Chol        TG       HDL       LDL      VLDL       BMI     CLASS  \n",
              "0 -0.509436 -1.035084  1.810756 -1.085457 -0.369958 -1.124622 -2.759951  \n",
              "1 -0.893730 -0.678063 -0.158692 -0.457398 -0.342649 -1.326239 -2.759951  \n",
              "2 -0.509436 -1.035084  1.810756 -1.085457 -0.369958 -1.124622 -2.759951  \n",
              "3 -0.509436 -1.035084  1.810756 -1.085457 -0.369958 -1.124622 -2.759951  \n",
              "4  0.028576 -0.963680 -0.613180 -0.547121 -0.397267 -1.729472 -2.759951  "
            ]
          },
          "execution_count": 35,
          "metadata": {},
          "output_type": "execute_result"
        }
      ],
      "source": [
        "#df.head(5)\n",
        "df_scaledstd.head(5)"
      ]
    },
    {
      "cell_type": "markdown",
      "metadata": {
        "id": "1ZnGaGlpRkE_"
      },
      "source": []
    },
    {
      "cell_type": "code",
      "execution_count": null,
      "metadata": {
        "id": "jz8XHvbPRnPm"
      },
      "outputs": [],
      "source": [
        "#df_new=df_scaledstd.drop('ID', axis=1)\n",
        "df_new=df_scaledstd.drop(columns=['ID', 'Gender', 'No_Pation'])\n"
      ]
    },
    {
      "cell_type": "code",
      "execution_count": null,
      "metadata": {
        "colab": {
          "base_uri": "https://localhost:8080/",
          "height": 206
        },
        "id": "QBConG645fdI",
        "outputId": "82b2f600-b7fa-4a3e-9e38-ef5ad6ceb531"
      },
      "outputs": [
        {
          "data": {
            "text/html": [
              "<div>\n",
              "<style scoped>\n",
              "    .dataframe tbody tr th:only-of-type {\n",
              "        vertical-align: middle;\n",
              "    }\n",
              "\n",
              "    .dataframe tbody tr th {\n",
              "        vertical-align: top;\n",
              "    }\n",
              "\n",
              "    .dataframe thead th {\n",
              "        text-align: right;\n",
              "    }\n",
              "</style>\n",
              "<table border=\"1\" class=\"dataframe\">\n",
              "  <thead>\n",
              "    <tr style=\"text-align: right;\">\n",
              "      <th></th>\n",
              "      <th>AGE</th>\n",
              "      <th>Urea</th>\n",
              "      <th>Cr</th>\n",
              "      <th>HbA1c</th>\n",
              "      <th>Chol</th>\n",
              "      <th>TG</th>\n",
              "      <th>HDL</th>\n",
              "      <th>LDL</th>\n",
              "      <th>VLDL</th>\n",
              "      <th>BMI</th>\n",
              "      <th>CLASS</th>\n",
              "    </tr>\n",
              "  </thead>\n",
              "  <tbody>\n",
              "    <tr>\n",
              "      <th>0</th>\n",
              "      <td>-0.401144</td>\n",
              "      <td>-0.144781</td>\n",
              "      <td>-0.382672</td>\n",
              "      <td>-1.334983</td>\n",
              "      <td>-0.509436</td>\n",
              "      <td>-1.035084</td>\n",
              "      <td>1.810756</td>\n",
              "      <td>-1.085457</td>\n",
              "      <td>-0.369958</td>\n",
              "      <td>-1.124622</td>\n",
              "      <td>-2.759951</td>\n",
              "    </tr>\n",
              "    <tr>\n",
              "      <th>1</th>\n",
              "      <td>-3.130017</td>\n",
              "      <td>-0.212954</td>\n",
              "      <td>-0.115804</td>\n",
              "      <td>-1.334983</td>\n",
              "      <td>-0.893730</td>\n",
              "      <td>-0.678063</td>\n",
              "      <td>-0.158692</td>\n",
              "      <td>-0.457398</td>\n",
              "      <td>-0.342649</td>\n",
              "      <td>-1.326239</td>\n",
              "      <td>-2.759951</td>\n",
              "    </tr>\n",
              "    <tr>\n",
              "      <th>2</th>\n",
              "      <td>-0.401144</td>\n",
              "      <td>-0.144781</td>\n",
              "      <td>-0.382672</td>\n",
              "      <td>-1.334983</td>\n",
              "      <td>-0.509436</td>\n",
              "      <td>-1.035084</td>\n",
              "      <td>1.810756</td>\n",
              "      <td>-1.085457</td>\n",
              "      <td>-0.369958</td>\n",
              "      <td>-1.124622</td>\n",
              "      <td>-2.759951</td>\n",
              "    </tr>\n",
              "    <tr>\n",
              "      <th>3</th>\n",
              "      <td>-0.401144</td>\n",
              "      <td>-0.144781</td>\n",
              "      <td>-0.382672</td>\n",
              "      <td>-1.334983</td>\n",
              "      <td>-0.509436</td>\n",
              "      <td>-1.035084</td>\n",
              "      <td>1.810756</td>\n",
              "      <td>-1.085457</td>\n",
              "      <td>-0.369958</td>\n",
              "      <td>-1.124622</td>\n",
              "      <td>-2.759951</td>\n",
              "    </tr>\n",
              "    <tr>\n",
              "      <th>4</th>\n",
              "      <td>-2.334096</td>\n",
              "      <td>0.673299</td>\n",
              "      <td>-0.382672</td>\n",
              "      <td>-1.334983</td>\n",
              "      <td>0.028576</td>\n",
              "      <td>-0.963680</td>\n",
              "      <td>-0.613180</td>\n",
              "      <td>-0.547121</td>\n",
              "      <td>-0.397267</td>\n",
              "      <td>-1.729472</td>\n",
              "      <td>-2.759951</td>\n",
              "    </tr>\n",
              "  </tbody>\n",
              "</table>\n",
              "</div>"
            ],
            "text/plain": [
              "        AGE      Urea        Cr     HbA1c      Chol        TG       HDL  \\\n",
              "0 -0.401144 -0.144781 -0.382672 -1.334983 -0.509436 -1.035084  1.810756   \n",
              "1 -3.130017 -0.212954 -0.115804 -1.334983 -0.893730 -0.678063 -0.158692   \n",
              "2 -0.401144 -0.144781 -0.382672 -1.334983 -0.509436 -1.035084  1.810756   \n",
              "3 -0.401144 -0.144781 -0.382672 -1.334983 -0.509436 -1.035084  1.810756   \n",
              "4 -2.334096  0.673299 -0.382672 -1.334983  0.028576 -0.963680 -0.613180   \n",
              "\n",
              "        LDL      VLDL       BMI     CLASS  \n",
              "0 -1.085457 -0.369958 -1.124622 -2.759951  \n",
              "1 -0.457398 -0.342649 -1.326239 -2.759951  \n",
              "2 -1.085457 -0.369958 -1.124622 -2.759951  \n",
              "3 -1.085457 -0.369958 -1.124622 -2.759951  \n",
              "4 -0.547121 -0.397267 -1.729472 -2.759951  "
            ]
          },
          "execution_count": 39,
          "metadata": {},
          "output_type": "execute_result"
        }
      ],
      "source": [
        "df_new.head(5)"
      ]
    },
    {
      "cell_type": "code",
      "execution_count": null,
      "metadata": {
        "colab": {
          "base_uri": "https://localhost:8080/"
        },
        "id": "as2rSG4h5fdI",
        "outputId": "b6468e6e-c560-4a4d-a3ed-6a285a1b15b8"
      },
      "outputs": [
        {
          "data": {
            "text/plain": [
              "array([0, 1, 2])"
            ]
          },
          "execution_count": 40,
          "metadata": {},
          "output_type": "execute_result"
        }
      ],
      "source": [
        "dfnew=df_new\n",
        "#dfnew.info()\n",
        "df['CLASS'].unique()"
      ]
    },
    {
      "cell_type": "code",
      "execution_count": null,
      "metadata": {
        "id": "YhQx_QbnwgvG"
      },
      "outputs": [],
      "source": [
        "X = dfnew.drop( 'CLASS', axis=1)\n",
        "y = df['CLASS']\n"
      ]
    },
    {
      "cell_type": "code",
      "execution_count": null,
      "metadata": {
        "colab": {
          "base_uri": "https://localhost:8080/"
        },
        "id": "DqjkWVZV5fdI",
        "outputId": "de6eb934-0e71-4c1b-ed2b-2a4c3392f464"
      },
      "outputs": [
        {
          "data": {
            "text/plain": [
              "(1000, 10)"
            ]
          },
          "execution_count": 42,
          "metadata": {},
          "output_type": "execute_result"
        }
      ],
      "source": [
        "X.shape\n",
        "\n"
      ]
    },
    {
      "cell_type": "code",
      "execution_count": null,
      "metadata": {
        "colab": {
          "base_uri": "https://localhost:8080/"
        },
        "id": "XHxxEqAj5fdI",
        "outputId": "73fa7ced-ffba-4127-8b8f-67431b365a9c"
      },
      "outputs": [
        {
          "data": {
            "text/plain": [
              "(1000,)"
            ]
          },
          "execution_count": 43,
          "metadata": {},
          "output_type": "execute_result"
        }
      ],
      "source": [
        "y.shape"
      ]
    },
    {
      "cell_type": "code",
      "execution_count": null,
      "metadata": {
        "id": "4DG9nVBcQaoK"
      },
      "outputs": [],
      "source": [
        "#Splitting the dataset into the Training set and Test set\n",
        "X_train, X_test, y_train, y_test = train_test_split(X.values, y.values, test_size = 0.2, random_state = 0, stratify = y)"
      ]
    },
    {
      "cell_type": "code",
      "execution_count": null,
      "metadata": {
        "colab": {
          "base_uri": "https://localhost:8080/"
        },
        "id": "S_YXnS6E5fdJ",
        "outputId": "26ace494-e120-407b-e5c1-d2a5c08c5526"
      },
      "outputs": [
        {
          "name": "stdout",
          "output_type": "stream",
          "text": [
            "Number transactions X_train dataset:  (800, 10)\n",
            "Number transactions y_train dataset:  (800,)\n",
            "Number transactions X_test dataset:  (200, 10)\n",
            "Number transactions y_test dataset:  (200,)\n"
          ]
        }
      ],
      "source": [
        "from sklearn.model_selection import KFold\n",
        "from sklearn.model_selection import cross_val_score\n",
        "from sklearn.metrics import ConfusionMatrixDisplay\n",
        "from sklearn import metrics\n",
        "from sklearn.metrics import classification_report\n",
        "# describes info about train and test set\n",
        "print(\"Number transactions X_train dataset: \", X_train.shape)\n",
        "print(\"Number transactions y_train dataset: \", y_train.shape)\n",
        "print(\"Number transactions X_test dataset: \", X_test.shape)\n",
        "print(\"Number transactions y_test dataset: \", y_test.shape)"
      ]
    },
    {
      "cell_type": "code",
      "execution_count": null,
      "metadata": {
        "colab": {
          "base_uri": "https://localhost:8080/"
        },
        "id": "w3d0dBcG5fdJ",
        "outputId": "d1145a4e-736a-4477-ad18-22a25a258962"
      },
      "outputs": [
        {
          "name": "stdout",
          "output_type": "stream",
          "text": [
            "              precision    recall  f1-score   support\n",
            "\n",
            "           0       0.75      0.86      0.80        21\n",
            "           1       0.25      0.10      0.14        10\n",
            "           2       0.96      0.98      0.97       169\n",
            "\n",
            "    accuracy                           0.92       200\n",
            "   macro avg       0.65      0.64      0.64       200\n",
            "weighted avg       0.90      0.92      0.91       200\n",
            "\n"
          ]
        }
      ],
      "source": [
        "\n",
        "# logistic regression object\n",
        "lr = LogisticRegression()\n",
        "  \n",
        "# train the model on train set\n",
        "lr.fit(X_train, y_train.ravel())\n",
        "  \n",
        "predictions = lr.predict(X_test)\n",
        "  \n",
        "# print classification report\n",
        "print(classification_report(y_test, predictions))"
      ]
    },
    {
      "cell_type": "code",
      "execution_count": null,
      "metadata": {
        "id": "LrNSzVqAu-Q5",
        "outputId": "28612201-a640-4b30-91fe-d4869e0427e0"
      },
      "outputs": [
        {
          "name": "stdout",
          "output_type": "stream",
          "text": [
            "mse= 0.105\n",
            "msle= 0.02824902806358078\n",
            "mae= 0.065\n",
            "rmse= 0.324037034920393\n"
          ]
        }
      ],
      "source": [
        "#import result of mse\n",
        "print(\"mse=\",  metrics.mean_squared_error(y_test, predictions))\n",
        "#import result of mae\n",
        "print(\"msle=\",  metrics.mean_squared_log_error(y_test, predictions))\n",
        "#import result of mae\n",
        "print(\"mae=\", metrics.mean_absolute_error(y_test, predictions))\n",
        "\n",
        "#import result of rmse\n",
        "print(\"rmse=\", np.sqrt(metrics.mean_squared_error(y_test, predictions)))"
      ]
    },
    {
      "cell_type": "code",
      "execution_count": null,
      "metadata": {
        "colab": {
          "base_uri": "https://localhost:8080/"
        },
        "id": "Ali_ZXCi9bPj",
        "outputId": "67d761af-aa1d-4753-8fec-f99c0a03c2f2"
      },
      "outputs": [
        {
          "name": "stdout",
          "output_type": "stream",
          "text": [
            "              precision    recall  f1-score   support\n",
            "\n",
            "           0       0.95      0.95      0.95        21\n",
            "           1       0.90      0.90      0.90        10\n",
            "           2       0.99      0.99      0.99       169\n",
            "\n",
            "    accuracy                           0.98       200\n",
            "   macro avg       0.95      0.95      0.95       200\n",
            "weighted avg       0.98      0.98      0.98       200\n",
            "\n",
            "mse= 0.05\n",
            "msle= 0.013713509147057476\n",
            "mae= 0.03\n",
            "rmse= 0.22360679774997896\n"
          ]
        }
      ],
      "source": [
        "DT = DecisionTreeClassifier()\n",
        "DT.fit(X_train, y_train.ravel())\n",
        "predictions = DT.predict(X_test)\n",
        "  \n",
        "# print classification report\n",
        "print(classification_report(y_test, predictions))\n",
        "#import result of mse\n",
        "print(\"mse=\",  metrics.mean_squared_error(y_test, predictions))\n",
        "#import result of mae\n",
        "print(\"msle=\",  metrics.mean_squared_log_error(y_test, predictions))\n",
        "#import result of mae\n",
        "print(\"mae=\", metrics.mean_absolute_error(y_test, predictions))\n",
        "\n",
        "#import result of rmse\n",
        "print(\"rmse=\", np.sqrt(metrics.mean_squared_error(y_test, predictions)))"
      ]
    },
    {
      "cell_type": "code",
      "execution_count": null,
      "metadata": {
        "colab": {
          "base_uri": "https://localhost:8080/"
        },
        "id": "wJvjUO-y_hVy",
        "outputId": "61e373b0-e7f1-417b-911a-aa89ffa11853"
      },
      "outputs": [
        {
          "name": "stdout",
          "output_type": "stream",
          "text": [
            "              precision    recall  f1-score   support\n",
            "\n",
            "           0       0.77      0.81      0.79        21\n",
            "           1       0.75      0.30      0.43        10\n",
            "           2       0.95      0.98      0.97       169\n",
            "\n",
            "    accuracy                           0.93       200\n",
            "   macro avg       0.83      0.70      0.73       200\n",
            "weighted avg       0.92      0.93      0.92       200\n",
            "\n",
            "mse= 0.16\n",
            "msle= 0.04752531288047962\n",
            "mae= 0.1\n",
            "rmse= 0.4\n"
          ]
        }
      ],
      "source": [
        "# support vector machine object\n",
        "svm = SVC(kernel='linear')\n",
        "  \n",
        "# train the model on train set\n",
        "svm.fit(X_train, y_train.ravel())\n",
        "  \n",
        "predictions = svm.predict(X_test)\n",
        "  \n",
        "# print classification report\n",
        "print(classification_report(y_test, predictions))\n",
        "#import result of mse\n",
        "print(\"mse=\",  metrics.mean_squared_error(y_test, predictions))\n",
        "#import result of mae\n",
        "print(\"msle=\",  metrics.mean_squared_log_error(y_test, predictions))\n",
        "#import result of mae\n",
        "print(\"mae=\", metrics.mean_absolute_error(y_test, predictions))\n",
        "\n",
        "#import result of rmse\n",
        "print(\"rmse=\", np.sqrt(metrics.mean_squared_error(y_test, predictions)))"
      ]
    },
    {
      "cell_type": "code",
      "execution_count": null,
      "metadata": {
        "id": "L9z6HsQqu-Q5",
        "outputId": "c67eb86a-6114-48f4-f911-5438e3ffeb9a"
      },
      "outputs": [
        {
          "name": "stdout",
          "output_type": "stream",
          "text": [
            "              precision    recall  f1-score   support\n",
            "\n",
            "           0       0.75      0.71      0.73        21\n",
            "           1       0.67      0.20      0.31        10\n",
            "           2       0.94      0.99      0.97       169\n",
            "\n",
            "    accuracy                           0.92       200\n",
            "   macro avg       0.79      0.63      0.67       200\n",
            "weighted avg       0.91      0.92      0.91       200\n",
            "\n",
            "mse= 0.185\n",
            "msle= 0.05596232275413354\n",
            "mae= 0.115\n",
            "rmse= 0.4301162633521313\n"
          ]
        }
      ],
      "source": [
        "# support vector machine object rbf\n",
        "svm = SVC(kernel='rbf')\n",
        "  \n",
        "# train the model on train set\n",
        "svm.fit(X_train, y_train.ravel())\n",
        "  \n",
        "predictions = svm.predict(X_test)\n",
        "  \n",
        "# print classification report\n",
        "print(classification_report(y_test, predictions))\n",
        "#import result of mse\n",
        "print(\"mse=\",  metrics.mean_squared_error(y_test, predictions))\n",
        "#import result of mae\n",
        "print(\"msle=\",  metrics.mean_squared_log_error(y_test, predictions))\n",
        "#import result of mae\n",
        "print(\"mae=\", metrics.mean_absolute_error(y_test, predictions))\n",
        "\n",
        "#import result of rmse\n",
        "print(\"rmse=\", np.sqrt(metrics.mean_squared_error(y_test, predictions)))"
      ]
    },
    {
      "cell_type": "code",
      "execution_count": null,
      "metadata": {
        "colab": {
          "base_uri": "https://localhost:8080/"
        },
        "id": "LyYCrNHN_hS_",
        "outputId": "f5495590-38f6-4c1c-f9f5-1adf3ff28ebe"
      },
      "outputs": [
        {
          "name": "stdout",
          "output_type": "stream",
          "text": [
            "              precision    recall  f1-score   support\n",
            "\n",
            "           0       0.70      0.67      0.68        21\n",
            "           1       0.33      0.30      0.32        10\n",
            "           2       0.95      0.96      0.96       169\n",
            "\n",
            "    accuracy                           0.90       200\n",
            "   macro avg       0.66      0.64      0.65       200\n",
            "weighted avg       0.90      0.90      0.90       200\n",
            "\n",
            "mse= 0.205\n",
            "msle= 0.06241087243224721\n",
            "mae= 0.135\n",
            "rmse= 0.4527692569068708\n"
          ]
        }
      ],
      "source": [
        "# KNN classifier machine object\n",
        "KNN =  KNeighborsClassifier()\n",
        "  \n",
        "# train the model on train set\n",
        "KNN.fit(X_train, y_train.ravel())\n",
        "  \n",
        "predictions = KNN.predict(X_test)\n",
        "  \n",
        "# print classification report\n",
        "print(classification_report(y_test, predictions))\n",
        "#import result of mse\n",
        "print(\"mse=\",  metrics.mean_squared_error(y_test, predictions))\n",
        "#import result of mae\n",
        "print(\"msle=\",  metrics.mean_squared_log_error(y_test, predictions))\n",
        "#import result of mae\n",
        "print(\"mae=\", metrics.mean_absolute_error(y_test, predictions))\n",
        "\n",
        "#import result of rmse\n",
        "print(\"rmse=\", np.sqrt(metrics.mean_squared_error(y_test, predictions)))"
      ]
    },
    {
      "cell_type": "code",
      "execution_count": null,
      "metadata": {
        "colab": {
          "base_uri": "https://localhost:8080/"
        },
        "id": "OshVDx7q_hQf",
        "outputId": "1fb44b90-2352-45fd-f741-17c7388e8f4c"
      },
      "outputs": [
        {
          "name": "stdout",
          "output_type": "stream",
          "text": [
            "              precision    recall  f1-score   support\n",
            "\n",
            "           0       0.60      0.86      0.71        21\n",
            "           1       0.55      0.60      0.57        10\n",
            "           2       0.97      0.92      0.95       169\n",
            "\n",
            "    accuracy                           0.90       200\n",
            "   macro avg       0.71      0.79      0.74       200\n",
            "weighted avg       0.91      0.90      0.90       200\n",
            "\n",
            "mse= 0.285\n",
            "msle= 0.08455579147432292\n",
            "mae= 0.165\n",
            "rmse= 0.5338539126015656\n"
          ]
        }
      ],
      "source": [
        "# GNB classifier machine object\n",
        "GNB =  GaussianNB()\n",
        "  \n",
        "# train the model on train set\n",
        "GNB.fit(X_train, y_train.ravel())\n",
        "  \n",
        "predictions = GNB.predict(X_test)\n",
        "  \n",
        "# print classification report\n",
        "print(classification_report(y_test, predictions))\n",
        "#import result of mse\n",
        "print(\"mse=\",  metrics.mean_squared_error(y_test, predictions))\n",
        "#import result of mae\n",
        "print(\"msle=\",  metrics.mean_squared_log_error(y_test, predictions))\n",
        "#import result of mae\n",
        "print(\"mae=\", metrics.mean_absolute_error(y_test, predictions))\n",
        "\n",
        "#import result of rmse\n",
        "print(\"rmse=\", np.sqrt(metrics.mean_squared_error(y_test, predictions)))"
      ]
    },
    {
      "cell_type": "code",
      "execution_count": null,
      "metadata": {
        "colab": {
          "base_uri": "https://localhost:8080/"
        },
        "id": "aNqM3qiF_hN3",
        "outputId": "e0560631-ae67-489d-b9a8-e2c232871789"
      },
      "outputs": [
        {
          "name": "stdout",
          "output_type": "stream",
          "text": [
            "              precision    recall  f1-score   support\n",
            "\n",
            "           0       0.95      1.00      0.98        21\n",
            "           1       1.00      1.00      1.00        10\n",
            "           2       1.00      0.99      1.00       169\n",
            "\n",
            "    accuracy                           0.99       200\n",
            "   macro avg       0.98      1.00      0.99       200\n",
            "weighted avg       1.00      0.99      1.00       200\n",
            "\n",
            "mse= 0.02\n",
            "msle= 0.006034744804062911\n",
            "mae= 0.01\n",
            "rmse= 0.1414213562373095\n"
          ]
        }
      ],
      "source": [
        "# XGB classifier machine object\n",
        "XGB = XGBClassifier()\n",
        "  \n",
        "# train the model on train set\n",
        "XGB.fit(X_train, y_train.ravel())\n",
        "  \n",
        "predictions = XGB.predict(X_test)\n",
        "  \n",
        "# print classification report\n",
        "print(classification_report(y_test, predictions))\n",
        "#import result of mse\n",
        "print(\"mse=\",  metrics.mean_squared_error(y_test, predictions))\n",
        "#import result of mae\n",
        "print(\"msle=\",  metrics.mean_squared_log_error(y_test, predictions))\n",
        "#import result of mae\n",
        "print(\"mae=\", metrics.mean_absolute_error(y_test, predictions))\n",
        "\n",
        "#import result of rmse\n",
        "print(\"rmse=\", np.sqrt(metrics.mean_squared_error(y_test, predictions)))"
      ]
    },
    {
      "cell_type": "code",
      "execution_count": null,
      "metadata": {
        "colab": {
          "base_uri": "https://localhost:8080/"
        },
        "id": "aOG4ePqe_hK_",
        "outputId": "61fd2a4e-5096-4ffa-9802-d3a7143fa3c1"
      },
      "outputs": [
        {
          "name": "stdout",
          "output_type": "stream",
          "text": [
            "              precision    recall  f1-score   support\n",
            "\n",
            "           0       0.82      0.86      0.84        21\n",
            "           1       0.67      0.40      0.50        10\n",
            "           2       0.97      0.98      0.97       169\n",
            "\n",
            "    accuracy                           0.94       200\n",
            "   macro avg       0.82      0.75      0.77       200\n",
            "weighted avg       0.93      0.94      0.94       200\n",
            "\n",
            "mse= 0.12\n",
            "msle= 0.035455823272353804\n",
            "mae= 0.08\n",
            "rmse= 0.34641016151377546\n"
          ]
        }
      ],
      "source": [
        "# MLP classifier machine object\n",
        "MLP = MLPClassifier(random_state=1, max_iter=300)\n",
        "# train the model on train set\n",
        "MLP.fit(X_train, y_train.ravel())\n",
        "  \n",
        "predictions = MLP.predict(X_test)\n",
        "  \n",
        "# print classification report\n",
        "print(classification_report(y_test, predictions))\n",
        "#import result of mse\n",
        "print(\"mse=\",  metrics.mean_squared_error(y_test, predictions))\n",
        "#import result of mae\n",
        "print(\"msle=\",  metrics.mean_squared_log_error(y_test, predictions))\n",
        "#import result of mae\n",
        "print(\"mae=\", metrics.mean_absolute_error(y_test, predictions))\n",
        "\n",
        "#import result of rmse\n",
        "print(\"rmse=\", np.sqrt(metrics.mean_squared_error(y_test, predictions)))"
      ]
    },
    {
      "cell_type": "code",
      "execution_count": null,
      "metadata": {
        "colab": {
          "base_uri": "https://localhost:8080/"
        },
        "id": "gT-dKHM7_hIQ",
        "outputId": "db0464ce-ba7b-4bf2-e477-9ba4dcdad707"
      },
      "outputs": [
        {
          "name": "stdout",
          "output_type": "stream",
          "text": [
            "              precision    recall  f1-score   support\n",
            "\n",
            "           0       0.95      1.00      0.98        21\n",
            "           1       0.56      1.00      0.71        10\n",
            "           2       1.00      0.95      0.97       169\n",
            "\n",
            "    accuracy                           0.95       200\n",
            "   macro avg       0.84      0.98      0.89       200\n",
            "weighted avg       0.97      0.95      0.96       200\n",
            "\n",
            "mse= 0.06\n",
            "msle= 0.012610822959789533\n",
            "mae= 0.05\n",
            "rmse= 0.2449489742783178\n"
          ]
        }
      ],
      "source": [
        "# adaboost classifier machine object\n",
        "adaboost =AdaBoostClassifier(random_state=96)\n",
        "# train the model on train set\n",
        "adaboost.fit(X_train, y_train.ravel())\n",
        "  \n",
        "predictions = adaboost.predict(X_test)\n",
        "  \n",
        "# print classification report\n",
        "print(classification_report(y_test, predictions))\n",
        "#import result of mse\n",
        "print(\"mse=\",  metrics.mean_squared_error(y_test, predictions))\n",
        "#import result of mae\n",
        "print(\"msle=\",  metrics.mean_squared_log_error(y_test, predictions))\n",
        "#import result of mae\n",
        "print(\"mae=\", metrics.mean_absolute_error(y_test, predictions))\n",
        "\n",
        "#import result of rmse\n",
        "print(\"rmse=\", np.sqrt(metrics.mean_squared_error(y_test, predictions)))"
      ]
    },
    {
      "cell_type": "code",
      "execution_count": null,
      "metadata": {
        "colab": {
          "base_uri": "https://localhost:8080/"
        },
        "id": "gXKh6VHfGyN7",
        "outputId": "3aed2183-2264-47e0-ff9d-f900fb3cfd2e"
      },
      "outputs": [
        {
          "name": "stdout",
          "output_type": "stream",
          "text": [
            "              precision    recall  f1-score   support\n",
            "\n",
            "           0       0.81      1.00      0.89        21\n",
            "           1       0.00      0.00      0.00        10\n",
            "           2       0.96      0.99      0.97       169\n",
            "\n",
            "    accuracy                           0.94       200\n",
            "   macro avg       0.59      0.66      0.62       200\n",
            "weighted avg       0.90      0.94      0.92       200\n",
            "\n",
            "mse= 0.09\n",
            "msle= 0.025030353203159637\n",
            "mae= 0.07\n",
            "rmse= 0.3\n"
          ]
        }
      ],
      "source": [
        "# random Forest classifier machine object\n",
        "RF =RandomForestClassifier(max_depth=2, random_state=0)\n",
        "# train the model on train set\n",
        "RF.fit(X_train, y_train.ravel())\n",
        "  \n",
        "predictions = RF.predict(X_test)\n",
        "  \n",
        "# print classification report\n",
        "print(classification_report(y_test, predictions))\n",
        "#import result of mse\n",
        "print(\"mse=\",  metrics.mean_squared_error(y_test, predictions))\n",
        "#import result of mae\n",
        "print(\"msle=\",  metrics.mean_squared_log_error(y_test, predictions))\n",
        "#import result of mae\n",
        "print(\"mae=\", metrics.mean_absolute_error(y_test, predictions))\n",
        "\n",
        "#import result of rmse\n",
        "print(\"rmse=\", np.sqrt(metrics.mean_squared_error(y_test, predictions)))"
      ]
    },
    {
      "cell_type": "code",
      "execution_count": null,
      "metadata": {
        "colab": {
          "base_uri": "https://localhost:8080/"
        },
        "id": "KL94QhTi5fdJ",
        "outputId": "c0341233-5bad-4cd6-bbca-4362075facd4"
      },
      "outputs": [
        {
          "name": "stdout",
          "output_type": "stream",
          "text": [
            "Before OverSampling, counts of label '2': 675 \n",
            "Before OverSampling, counts of label '1': 43\n",
            "Before OverSampling, counts of label '0': 82 \n",
            "\n",
            "Before OverSampling, the shape of train_X: (1000, 10)\n",
            "Before OverSampling, the shape of train_y: (1000,) \n",
            "\n"
          ]
        }
      ],
      "source": [
        "print(\"Before OverSampling, counts of label '2': {} \".format(sum(y_train == 2)))\n",
        "print(\"Before OverSampling, counts of label '1': {}\".format(sum(y_train == 1)))\n",
        "print(\"Before OverSampling, counts of label '0': {} \\n\".format(sum(y_train == 0)))\n",
        "\n",
        "print('Before OverSampling, the shape of train_X: {}'.format(X.shape))\n",
        "print('Before OverSampling, the shape of train_y: {} \\n'.format(y.shape))\n",
        "\n",
        "\n",
        "\n"
      ]
    },
    {
      "cell_type": "code",
      "execution_count": null,
      "metadata": {
        "colab": {
          "base_uri": "https://localhost:8080/"
        },
        "id": "YsiT6cWW5fdJ",
        "outputId": "b35a5bea-e35c-4e5f-e76f-380950308f40"
      },
      "outputs": [
        {
          "name": "stdout",
          "output_type": "stream",
          "text": [
            "Requirement already satisfied: imblearn in c:\\users\\ddnest003\\anaconda3\\lib\\site-packages (0.0)\n",
            "Requirement already satisfied: imbalanced-learn in c:\\users\\ddnest003\\anaconda3\\lib\\site-packages (from imblearn) (0.9.0)\n",
            "Requirement already satisfied: threadpoolctl>=2.0.0 in c:\\users\\ddnest003\\anaconda3\\lib\\site-packages (from imbalanced-learn->imblearn) (3.1.0)\n",
            "Requirement already satisfied: joblib>=0.11 in c:\\users\\ddnest003\\anaconda3\\lib\\site-packages (from imbalanced-learn->imblearn) (1.2.0)\n",
            "Requirement already satisfied: scikit-learn>=1.0.1 in c:\\users\\ddnest003\\anaconda3\\lib\\site-packages (from imbalanced-learn->imblearn) (1.0.2)\n",
            "Requirement already satisfied: numpy>=1.14.6 in c:\\users\\ddnest003\\anaconda3\\lib\\site-packages (from imbalanced-learn->imblearn) (1.21.6)\n",
            "Requirement already satisfied: scipy>=1.1.0 in c:\\users\\ddnest003\\anaconda3\\lib\\site-packages (from imbalanced-learn->imblearn) (1.2.1)\n",
            "Note: you may need to restart the kernel to use updated packages.\n"
          ]
        },
        {
          "name": "stderr",
          "output_type": "stream",
          "text": [
            "WARNING: Ignoring invalid distribution -atplotlib (c:\\users\\ddnest003\\anaconda3\\lib\\site-packages)\n",
            "WARNING: Ignoring invalid distribution -atplotlib (c:\\users\\ddnest003\\anaconda3\\lib\\site-packages)\n",
            "WARNING: Ignoring invalid distribution -atplotlib (c:\\users\\ddnest003\\anaconda3\\lib\\site-packages)\n",
            "WARNING: Ignoring invalid distribution -atplotlib (c:\\users\\ddnest003\\anaconda3\\lib\\site-packages)\n"
          ]
        }
      ],
      "source": [
        "pip install imblearn"
      ]
    },
    {
      "cell_type": "code",
      "execution_count": null,
      "metadata": {
        "id": "FsZ4PJ715fdJ"
      },
      "outputs": [],
      "source": [
        "# import SMOTE module from imblearn library\n",
        "\n",
        "from imblearn.over_sampling import SMOTE\n",
        "sm_over = SMOTE(random_state = 2)\n",
        "\n",
        "X_train_res, y_train_res = sm_over.fit_resample(X_train, y_train.ravel())"
      ]
    },
    {
      "cell_type": "code",
      "execution_count": null,
      "metadata": {
        "colab": {
          "base_uri": "https://localhost:8080/"
        },
        "id": "gg3cWT4e5fdJ",
        "outputId": "07a053c0-7453-4232-dbb1-e41a17958423"
      },
      "outputs": [
        {
          "name": "stdout",
          "output_type": "stream",
          "text": [
            "After OverSampling, the shape of train_X: (2025, 10)\n",
            "After OverSampling, the shape of train_y: (2025,) \n",
            "\n",
            "After OverSampling, counts of label '2': 675\n",
            "After OverSampling, counts of label '1': 675\n",
            "After OverSampling, counts of label '0': 675\n"
          ]
        }
      ],
      "source": [
        "print('After OverSampling, the shape of train_X: {}'.format(X_train_res.shape))\n",
        "print('After OverSampling, the shape of train_y: {} \\n'.format(y_train_res.shape))\n",
        "\n",
        "print(\"After OverSampling, counts of label '2': {}\".format(sum(y_train_res == 2)))\n",
        "print(\"After OverSampling, counts of label '1': {}\".format(sum(y_train_res == 1)))\n",
        "print(\"After OverSampling, counts of label '0': {}\".format(sum(y_train_res == 0)))"
      ]
    },
    {
      "cell_type": "code",
      "execution_count": null,
      "metadata": {
        "id": "fc-SLRVBu-Q7"
      },
      "outputs": [],
      "source": [
        "# apply near miss\n",
        "from imblearn.under_sampling import NearMiss\n",
        "nr = NearMiss()\n",
        "  \n",
        "X_train_miss, y_train_miss = nr.fit_resample(X_train, y_train.ravel())"
      ]
    },
    {
      "cell_type": "code",
      "execution_count": null,
      "metadata": {
        "colab": {
          "base_uri": "https://localhost:8080/"
        },
        "id": "DGk0KEqp5fdJ",
        "outputId": "cd36ce35-5f9f-45ca-97b9-c72723a3f053"
      },
      "outputs": [
        {
          "name": "stdout",
          "output_type": "stream",
          "text": [
            "              precision    recall  f1-score   support\n",
            "\n",
            "           0       0.72      0.86      0.78        21\n",
            "           1       0.35      0.60      0.44        10\n",
            "           2       0.99      0.92      0.95       169\n",
            "\n",
            "    accuracy                           0.90       200\n",
            "   macro avg       0.69      0.79      0.73       200\n",
            "weighted avg       0.93      0.90      0.91       200\n",
            "\n",
            "mse= 0.175\n",
            "msle= 0.05040514706292787\n",
            "mae= 0.125\n",
            "rmse= 0.4183300132670378\n"
          ]
        }
      ],
      "source": [
        "\n",
        "lr1 = LogisticRegression()\n",
        "lr1.fit(X_train_res, y_train_res.ravel())\n",
        "predictions = lr1.predict(X_test)\n",
        "  \n",
        "# print classification report\n",
        "print(classification_report(y_test, predictions))\n",
        "#import result of mse\n",
        "print(\"mse=\",  metrics.mean_squared_error(y_test, predictions))\n",
        "#import result of mae\n",
        "print(\"msle=\",  metrics.mean_squared_log_error(y_test, predictions))\n",
        "#import result of mae\n",
        "print(\"mae=\", metrics.mean_absolute_error(y_test, predictions))\n",
        "\n",
        "#import result of rmse\n",
        "print(\"rmse=\", np.sqrt(metrics.mean_squared_error(y_test, predictions)))"
      ]
    },
    {
      "cell_type": "code",
      "execution_count": null,
      "metadata": {
        "colab": {
          "base_uri": "https://localhost:8080/"
        },
        "id": "q5PrILoH-XEv",
        "outputId": "f32bfab9-c73d-44db-8888-408add2d69d8"
      },
      "outputs": [
        {
          "name": "stdout",
          "output_type": "stream",
          "text": [
            "              precision    recall  f1-score   support\n",
            "\n",
            "           0       0.95      1.00      0.98        21\n",
            "           1       1.00      0.90      0.95        10\n",
            "           2       0.99      0.99      0.99       169\n",
            "\n",
            "    accuracy                           0.99       200\n",
            "   macro avg       0.98      0.96      0.97       200\n",
            "weighted avg       0.99      0.99      0.99       200\n",
            "\n",
            "mse= 0.025\n",
            "msle= 0.006856754573528738\n",
            "mae= 0.015\n",
            "rmse= 0.15811388300841897\n"
          ]
        }
      ],
      "source": [
        "#decision tree after \n",
        "DT1 = DecisionTreeClassifier()\n",
        "DT1.fit(X_train_res, y_train_res.ravel())\n",
        "predictions = DT1.predict(X_test)\n",
        "  \n",
        "# print classification report\n",
        "print(classification_report(y_test, predictions))\n",
        "#import result of mse\n",
        "print(\"mse=\",  metrics.mean_squared_error(y_test, predictions))\n",
        "#import result of mae\n",
        "print(\"msle=\",  metrics.mean_squared_log_error(y_test, predictions))\n",
        "#import result of mae\n",
        "print(\"mae=\", metrics.mean_absolute_error(y_test, predictions))\n",
        "\n",
        "#import result of rmse\n",
        "print(\"rmse=\", np.sqrt(metrics.mean_squared_error(y_test, predictions)))"
      ]
    },
    {
      "cell_type": "code",
      "execution_count": null,
      "metadata": {
        "colab": {
          "base_uri": "https://localhost:8080/"
        },
        "id": "D78B0kphBkIQ",
        "outputId": "602dd05e-cfae-4a14-ae0a-e327a172ceac"
      },
      "outputs": [
        {
          "name": "stdout",
          "output_type": "stream",
          "text": [
            "              precision    recall  f1-score   support\n",
            "\n",
            "           0       0.71      0.95      0.82        21\n",
            "           1       0.53      0.80      0.64        10\n",
            "           2       0.99      0.92      0.96       169\n",
            "\n",
            "    accuracy                           0.92       200\n",
            "   macro avg       0.75      0.89      0.80       200\n",
            "weighted avg       0.94      0.92      0.93       200\n",
            "\n",
            "mse= 0.185\n",
            "msle= 0.052801812153883174\n",
            "mae= 0.115\n",
            "rmse= 0.4301162633521313\n"
          ]
        }
      ],
      "source": [
        "# support vector machine object\n",
        "svm1 = SVC(kernel='linear')\n",
        "  \n",
        "# train the model on train set\n",
        "svm1.fit(X_train_res, y_train_res.ravel())\n",
        "  \n",
        "predictions = svm1.predict(X_test)\n",
        "  \n",
        "# print classification report\n",
        "print(classification_report(y_test, predictions))\n",
        "#import result of mse\n",
        "print(\"mse=\",  metrics.mean_squared_error(y_test, predictions))\n",
        "#import result of mae\n",
        "print(\"msle=\",  metrics.mean_squared_log_error(y_test, predictions))\n",
        "#import result of mae\n",
        "print(\"mae=\", metrics.mean_absolute_error(y_test, predictions))\n",
        "\n",
        "#import result of rmse\n",
        "print(\"rmse=\", np.sqrt(metrics.mean_squared_error(y_test, predictions)))"
      ]
    },
    {
      "cell_type": "code",
      "execution_count": null,
      "metadata": {
        "id": "3ZC9Xwslu-Q8",
        "outputId": "80fb8d30-6845-4b92-97e9-c64579048dd4"
      },
      "outputs": [
        {
          "name": "stdout",
          "output_type": "stream",
          "text": [
            "              precision    recall  f1-score   support\n",
            "\n",
            "           0       0.71      0.95      0.82        21\n",
            "           1       0.53      0.80      0.64        10\n",
            "           2       0.99      0.92      0.96       169\n",
            "\n",
            "    accuracy                           0.92       200\n",
            "   macro avg       0.75      0.89      0.80       200\n",
            "weighted avg       0.94      0.92      0.93       200\n",
            "\n",
            "mse= 0.185\n",
            "msle= 0.052801812153883174\n",
            "mae= 0.115\n",
            "rmse= 0.4301162633521313\n"
          ]
        }
      ],
      "source": [
        "# support vector machine object\n",
        "svm2 = SVC(kernel='rbf')\n",
        "  \n",
        "# train the model on train set\n",
        "svm2.fit(X_train_res, y_train_res.ravel())\n",
        "  \n",
        "predictions = svm1.predict(X_test)\n",
        "  \n",
        "# print classification report\n",
        "print(classification_report(y_test, predictions))\n",
        "#import result of mse\n",
        "print(\"mse=\",  metrics.mean_squared_error(y_test, predictions))\n",
        "#import result of mae\n",
        "print(\"msle=\",  metrics.mean_squared_log_error(y_test, predictions))\n",
        "#import result of mae\n",
        "print(\"mae=\", metrics.mean_absolute_error(y_test, predictions))\n",
        "\n",
        "#import result of rmse\n",
        "print(\"rmse=\", np.sqrt(metrics.mean_squared_error(y_test, predictions)))"
      ]
    },
    {
      "cell_type": "code",
      "execution_count": null,
      "metadata": {
        "colab": {
          "base_uri": "https://localhost:8080/"
        },
        "id": "zbJuQ9eVCJdY",
        "outputId": "6d95bcfa-51be-4bf5-c193-14292349cf2a"
      },
      "outputs": [
        {
          "name": "stdout",
          "output_type": "stream",
          "text": [
            "              precision    recall  f1-score   support\n",
            "\n",
            "           0       0.70      0.76      0.73        21\n",
            "           1       0.41      0.70      0.52        10\n",
            "           2       0.99      0.93      0.96       169\n",
            "\n",
            "    accuracy                           0.91       200\n",
            "   macro avg       0.70      0.80      0.74       200\n",
            "weighted avg       0.93      0.91      0.91       200\n",
            "\n",
            "mse= 0.185\n",
            "msle= 0.056376127628184294\n",
            "mae= 0.125\n",
            "rmse= 0.4301162633521313\n"
          ]
        }
      ],
      "source": [
        "# KNN classifier machine object\n",
        "KNN1 =  KNeighborsClassifier()\n",
        "  \n",
        "# train the model on train set\n",
        "KNN1.fit(X_train_res, y_train_res.ravel())\n",
        "  \n",
        "predictions = KNN1.predict(X_test)\n",
        "  \n",
        "# print classification report\n",
        "print(classification_report(y_test, predictions))\n",
        "#import result of mse\n",
        "print(\"mse=\",  metrics.mean_squared_error(y_test, predictions))\n",
        "#import result of mae\n",
        "print(\"msle=\",  metrics.mean_squared_log_error(y_test, predictions))\n",
        "#import result of mae\n",
        "print(\"mae=\", metrics.mean_absolute_error(y_test, predictions))\n",
        "\n",
        "#import result of rmse\n",
        "print(\"rmse=\", np.sqrt(metrics.mean_squared_error(y_test, predictions)))"
      ]
    },
    {
      "cell_type": "code",
      "execution_count": null,
      "metadata": {
        "colab": {
          "base_uri": "https://localhost:8080/"
        },
        "id": "xF0tpz6rDnRw",
        "outputId": "73b98152-e674-4ac9-9787-f079b1ecb68b"
      },
      "outputs": [
        {
          "name": "stdout",
          "output_type": "stream",
          "text": [
            "              precision    recall  f1-score   support\n",
            "\n",
            "           0       0.61      0.81      0.69        21\n",
            "           1       0.64      0.70      0.67        10\n",
            "           2       0.96      0.92      0.94       169\n",
            "\n",
            "    accuracy                           0.90       200\n",
            "   macro avg       0.74      0.81      0.77       200\n",
            "weighted avg       0.91      0.90      0.90       200\n",
            "\n",
            "mse= 0.315\n",
            "msle= 0.09182075094326672\n",
            "mae= 0.175\n",
            "rmse= 0.5612486080160912\n"
          ]
        }
      ],
      "source": [
        "# GNB classifier machine object\n",
        "GNB1 =  GaussianNB()\n",
        "  \n",
        "# train the model on train set\n",
        "GNB1.fit(X_train_res, y_train_res.ravel())\n",
        "  \n",
        "predictions = GNB1.predict(X_test)\n",
        "  \n",
        "# print classification report\n",
        "print(classification_report(y_test, predictions))\n",
        "#import result of mse\n",
        "print(\"mse=\",  metrics.mean_squared_error(y_test, predictions))\n",
        "#import result of mae\n",
        "print(\"msle=\",  metrics.mean_squared_log_error(y_test, predictions))\n",
        "#import result of mae\n",
        "print(\"mae=\", metrics.mean_absolute_error(y_test, predictions))\n",
        "\n",
        "#import result of rmse\n",
        "print(\"rmse=\", np.sqrt(metrics.mean_squared_error(y_test, predictions)))"
      ]
    },
    {
      "cell_type": "code",
      "execution_count": null,
      "metadata": {
        "colab": {
          "base_uri": "https://localhost:8080/"
        },
        "id": "GNi9smlVDnPJ",
        "outputId": "eba8c434-d8da-47fb-e87c-e480ecdc6560"
      },
      "outputs": [
        {
          "name": "stdout",
          "output_type": "stream",
          "text": [
            "              precision    recall  f1-score   support\n",
            "\n",
            "           0       0.95      1.00      0.98        21\n",
            "           1       1.00      1.00      1.00        10\n",
            "           2       1.00      0.99      1.00       169\n",
            "\n",
            "    accuracy                           0.99       200\n",
            "   macro avg       0.98      1.00      0.99       200\n",
            "weighted avg       1.00      0.99      1.00       200\n",
            "\n",
            "mse= 0.02\n",
            "msle= 0.006034744804062911\n",
            "mae= 0.01\n",
            "rmse= 0.1414213562373095\n"
          ]
        }
      ],
      "source": [
        "# XGB classifier machine object\n",
        "XGB1 =XGBClassifier()\n",
        "XGB1.fit(X_train_res, y_train_res.ravel())\n",
        "predictions = XGB1.predict(X_test)\n",
        "\n",
        "# print classification report\n",
        "print(classification_report(y_test, predictions))\n",
        "#import result of mse\n",
        "print(\"mse=\",  metrics.mean_squared_error(y_test, predictions))\n",
        "#import result of mae\n",
        "print(\"msle=\",  metrics.mean_squared_log_error(y_test, predictions))\n",
        "#import result of mae\n",
        "print(\"mae=\", metrics.mean_absolute_error(y_test, predictions))\n",
        "\n",
        "#import result of rmse\n",
        "print(\"rmse=\", np.sqrt(metrics.mean_squared_error(y_test, predictions)))"
      ]
    },
    {
      "cell_type": "code",
      "execution_count": null,
      "metadata": {
        "id": "96840kJtSmA1"
      },
      "outputs": [],
      "source": []
    },
    {
      "cell_type": "code",
      "execution_count": null,
      "metadata": {
        "id": "EJq9vbRiOuud"
      },
      "outputs": [],
      "source": []
    },
    {
      "cell_type": "code",
      "execution_count": null,
      "metadata": {
        "colab": {
          "base_uri": "https://localhost:8080/"
        },
        "id": "ur65MrE2DnMp",
        "outputId": "4bb907ee-417f-4129-ae84-25be2a1ce828"
      },
      "outputs": [
        {
          "name": "stdout",
          "output_type": "stream",
          "text": [
            "              precision    recall  f1-score   support\n",
            "\n",
            "           0       0.86      0.86      0.86        21\n",
            "           1       0.78      0.70      0.74        10\n",
            "           2       0.98      0.99      0.99       169\n",
            "\n",
            "    accuracy                           0.96       200\n",
            "   macro avg       0.87      0.85      0.86       200\n",
            "weighted avg       0.96      0.96      0.96       200\n",
            "\n",
            "mse= 0.085\n",
            "msle= 0.02695504915989341\n",
            "mae= 0.055\n",
            "rmse= 0.29154759474226505\n"
          ]
        }
      ],
      "source": [
        "# MLP classifier machine object\n",
        "MLP1 = MLPClassifier(random_state=1, max_iter=300)\n",
        "# train the model on train set\n",
        "MLP1.fit(X_train_res, y_train_res.ravel())\n",
        "  \n",
        "predictions = MLP1.predict(X_test)\n",
        "  \n",
        "# print classification report\n",
        "print(classification_report(y_test, predictions))\n",
        "#import result of mse\n",
        "print(\"mse=\",  metrics.mean_squared_error(y_test, predictions))\n",
        "#import result of mae\n",
        "print(\"msle=\",  metrics.mean_squared_log_error(y_test, predictions))\n",
        "#import result of mae\n",
        "print(\"mae=\", metrics.mean_absolute_error(y_test, predictions))\n",
        "\n",
        "#import result of rmse\n",
        "print(\"rmse=\", np.sqrt(metrics.mean_squared_error(y_test, predictions)))"
      ]
    },
    {
      "cell_type": "code",
      "execution_count": null,
      "metadata": {
        "colab": {
          "base_uri": "https://localhost:8080/"
        },
        "id": "mOAKqiGdDnKI",
        "outputId": "ca836d0a-95c7-400e-d6f6-8c03392b2d24"
      },
      "outputs": [
        {
          "name": "stdout",
          "output_type": "stream",
          "text": [
            "              precision    recall  f1-score   support\n",
            "\n",
            "           0       0.73      0.90      0.81        21\n",
            "           1       0.50      0.90      0.64        10\n",
            "           2       0.98      0.91      0.94       169\n",
            "\n",
            "    accuracy                           0.91       200\n",
            "   macro avg       0.74      0.90      0.80       200\n",
            "weighted avg       0.93      0.91      0.91       200\n",
            "\n",
            "mse= 0.23\n",
            "msle= 0.06253280093122447\n",
            "mae= 0.14\n",
            "rmse= 0.47958315233127197\n"
          ]
        }
      ],
      "source": [
        "# adaboost classifier machine object\n",
        "adaboost1 =AdaBoostClassifier(random_state=96)\n",
        "# train the model on train set\n",
        "adaboost1.fit(X_train_res, y_train_res.ravel())\n",
        "  \n",
        "predictions = adaboost1.predict(X_test)\n",
        "  \n",
        "# print classification report\n",
        "print(classification_report(y_test, predictions))\n",
        "#import result of mse\n",
        "print(\"mse=\",  metrics.mean_squared_error(y_test, predictions))\n",
        "#import result of mae\n",
        "print(\"msle=\",  metrics.mean_squared_log_error(y_test, predictions))\n",
        "#import result of mae\n",
        "print(\"mae=\", metrics.mean_absolute_error(y_test, predictions))\n",
        "\n",
        "#import result of rmse\n",
        "print(\"rmse=\", np.sqrt(metrics.mean_squared_error(y_test, predictions)))"
      ]
    },
    {
      "cell_type": "code",
      "execution_count": null,
      "metadata": {
        "colab": {
          "base_uri": "https://localhost:8080/"
        },
        "id": "E1HsJkCRDnH4",
        "outputId": "f452eab7-b073-4446-b073-73fe53f852ca"
      },
      "outputs": [
        {
          "name": "stdout",
          "output_type": "stream",
          "text": [
            "              precision    recall  f1-score   support\n",
            "\n",
            "           0       0.75      1.00      0.86        21\n",
            "           1       0.69      0.90      0.78        10\n",
            "           2       0.99      0.93      0.96       169\n",
            "\n",
            "    accuracy                           0.94       200\n",
            "   macro avg       0.81      0.94      0.87       200\n",
            "weighted avg       0.95      0.94      0.94       200\n",
            "\n",
            "mse= 0.165\n",
            "msle= 0.04635326247576951\n",
            "mae= 0.095\n",
            "rmse= 0.406201920231798\n"
          ]
        }
      ],
      "source": [
        "# random Forest classifier machine object\n",
        "RF1 =RandomForestClassifier(max_depth=2, random_state=0)\n",
        "# train the model on train set\n",
        "RF1.fit(X_train_res, y_train_res.ravel())\n",
        "  \n",
        "predictions = RF1.predict(X_test)\n",
        "  \n",
        "# print classification report\n",
        "print(classification_report(y_test, predictions))\n",
        "#import result of mse\n",
        "print(\"mse=\",  metrics.mean_squared_error(y_test, predictions))\n",
        "#import result of mae\n",
        "print(\"msle=\",  metrics.mean_squared_log_error(y_test, predictions))\n",
        "#import result of mae\n",
        "print(\"mae=\", metrics.mean_absolute_error(y_test, predictions))\n",
        "\n",
        "#import result of rmse\n",
        "print(\"rmse=\", np.sqrt(metrics.mean_squared_error(y_test, predictions)))"
      ]
    },
    {
      "cell_type": "code",
      "execution_count": null,
      "metadata": {
        "id": "YR5jzdpeYacm",
        "outputId": "6aa8c782-cad1-435e-975f-3b9bc56c2aaa"
      },
      "outputs": [
        {
          "name": "stdout",
          "output_type": "stream",
          "text": [
            "After UnderSampling, the shape of train_X: (129, 10)\n",
            "After UnderSampling, the shape of train_y: (129,) \n",
            "\n",
            "After UnderSampling, counts of label '2': 43\n",
            "After UnderSampling, counts of label '1': 43\n",
            "After UnderSampling, counts of label '0': 43\n"
          ]
        }
      ],
      "source": [
        "#NEAR MISS RESULT \n",
        "print('After UnderSampling, the shape of train_X: {}'.format(X_train_miss.shape))\n",
        "print('After UnderSampling, the shape of train_y: {} \\n'.format(y_train_miss.shape))\n",
        "\n",
        "print(\"After UnderSampling, counts of label '2': {}\".format(sum(y_train_miss == 2)))\n",
        "print(\"After UnderSampling, counts of label '1': {}\".format(sum(y_train_miss == 1)))\n",
        "print(\"After UnderSampling, counts of label '0': {}\".format(sum(y_train_miss == 0)))"
      ]
    },
    {
      "cell_type": "code",
      "execution_count": null,
      "metadata": {
        "id": "_R48B0VzYaaW",
        "outputId": "1659a5fe-77bb-40d2-ebee-0f1105bbf4a1"
      },
      "outputs": [
        {
          "name": "stdout",
          "output_type": "stream",
          "text": [
            "              precision    recall  f1-score   support\n",
            "\n",
            "           0       0.75      0.86      0.80        21\n",
            "           1       0.23      0.50      0.31        10\n",
            "           2       0.99      0.91      0.95       169\n",
            "\n",
            "    accuracy                           0.88       200\n",
            "   macro avg       0.66      0.75      0.69       200\n",
            "weighted avg       0.93      0.88      0.90       200\n",
            "\n",
            "mse= 0.15\n",
            "msle= 0.04121549163725028\n",
            "mae= 0.13\n",
            "rmse= 0.3872983346207417\n"
          ]
        }
      ],
      "source": [
        "\n",
        "lr1 = LogisticRegression()\n",
        "lr1.fit(X_train_miss, y_train_miss.ravel())\n",
        "predictions = lr1.predict(X_test)\n",
        "  \n",
        "# print classification report\n",
        "print(classification_report(y_test, predictions))\n",
        "#import result of mse\n",
        "print(\"mse=\",  metrics.mean_squared_error(y_test, predictions))\n",
        "#import result of mae\n",
        "print(\"msle=\",  metrics.mean_squared_log_error(y_test, predictions))\n",
        "#import result of mae\n",
        "print(\"mae=\", metrics.mean_absolute_error(y_test, predictions))\n",
        "\n",
        "#import result of rmse\n",
        "print(\"rmse=\", np.sqrt(metrics.mean_squared_error(y_test, predictions)))"
      ]
    },
    {
      "cell_type": "code",
      "execution_count": null,
      "metadata": {
        "id": "flQLvrJAu-Q9",
        "outputId": "22bbd9d7-02f0-48cd-c8bb-d0d8b896f044"
      },
      "outputs": [
        {
          "name": "stdout",
          "output_type": "stream",
          "text": [
            "              precision    recall  f1-score   support\n",
            "\n",
            "           0       0.95      1.00      0.98        21\n",
            "           1       0.71      1.00      0.83        10\n",
            "           2       1.00      0.97      0.98       169\n",
            "\n",
            "    accuracy                           0.97       200\n",
            "   macro avg       0.89      0.99      0.93       200\n",
            "weighted avg       0.98      0.97      0.98       200\n",
            "\n",
            "mse= 0.04\n",
            "msle= 0.009322783881926222\n",
            "mae= 0.03\n",
            "rmse= 0.2\n"
          ]
        }
      ],
      "source": [
        "#decision tree after \n",
        "DT1 = DecisionTreeClassifier()\n",
        "DT1.fit(X_train_miss, y_train_miss.ravel())\n",
        "predictions = DT1.predict(X_test)\n",
        "  \n",
        "# print classification report\n",
        "print(classification_report(y_test, predictions))\n",
        "#import result of mse\n",
        "print(\"mse=\",  metrics.mean_squared_error(y_test, predictions))\n",
        "#import result of mae\n",
        "print(\"msle=\",  metrics.mean_squared_log_error(y_test, predictions))\n",
        "#import result of mae\n",
        "print(\"mae=\", metrics.mean_absolute_error(y_test, predictions))\n",
        "\n",
        "#import result of rmse\n",
        "print(\"rmse=\", np.sqrt(metrics.mean_squared_error(y_test, predictions)))"
      ]
    },
    {
      "cell_type": "code",
      "execution_count": null,
      "metadata": {
        "id": "RRcZVf_xu-Q9",
        "outputId": "03635dff-206c-48ad-d97a-8c6ec4d0ce45"
      },
      "outputs": [
        {
          "name": "stdout",
          "output_type": "stream",
          "text": [
            "              precision    recall  f1-score   support\n",
            "\n",
            "           0       0.68      0.90      0.78        21\n",
            "           1       0.33      0.80      0.47        10\n",
            "           2       1.00      0.88      0.93       169\n",
            "\n",
            "    accuracy                           0.88       200\n",
            "   macro avg       0.67      0.86      0.73       200\n",
            "weighted avg       0.93      0.88      0.89       200\n",
            "\n",
            "mse= 0.23\n",
            "msle= 0.06336041067932599\n",
            "mae= 0.16\n",
            "rmse= 0.47958315233127197\n"
          ]
        }
      ],
      "source": [
        "# support vector machine object\n",
        "svm1 = SVC(kernel='linear')\n",
        "  \n",
        "# train the model on train set\n",
        "svm1.fit(X_train_miss, y_train_miss.ravel())\n",
        "  \n",
        "predictions = svm1.predict(X_test)\n",
        "  \n",
        "# print classification report\n",
        "print(classification_report(y_test, predictions))\n",
        "#import result of mse\n",
        "print(\"mse=\",  metrics.mean_squared_error(y_test, predictions))\n",
        "#import result of mae\n",
        "print(\"msle=\",  metrics.mean_squared_log_error(y_test, predictions))\n",
        "#import result of mae\n",
        "print(\"mae=\", metrics.mean_absolute_error(y_test, predictions))\n",
        "\n",
        "#import result of rmse\n",
        "print(\"rmse=\", np.sqrt(metrics.mean_squared_error(y_test, predictions)))"
      ]
    },
    {
      "cell_type": "code",
      "execution_count": null,
      "metadata": {
        "id": "vltuHwhgu-Q9",
        "outputId": "d7f0a998-2a39-464d-ff57-f9c7b554cabb"
      },
      "outputs": [
        {
          "name": "stdout",
          "output_type": "stream",
          "text": [
            "              precision    recall  f1-score   support\n",
            "\n",
            "           0       0.78      0.67      0.72        21\n",
            "           1       0.12      0.80      0.21        10\n",
            "           2       1.00      0.69      0.81       169\n",
            "\n",
            "    accuracy                           0.69       200\n",
            "   macro avg       0.63      0.72      0.58       200\n",
            "weighted avg       0.93      0.69      0.77       200\n",
            "\n",
            "mse= 0.34\n",
            "msle= 0.0756123734772021\n",
            "mae= 0.32\n",
            "rmse= 0.5830951894845301\n"
          ]
        }
      ],
      "source": [
        "# support vector machine object\n",
        "svm1 = SVC(kernel='rbf')\n",
        "  \n",
        "# train the model on train set\n",
        "svm1.fit(X_train_miss, y_train_miss.ravel())\n",
        "  \n",
        "predictions = svm1.predict(X_test)\n",
        "  \n",
        "# print classification report\n",
        "print(classification_report(y_test, predictions))\n",
        "#import result of mse\n",
        "print(\"mse=\",  metrics.mean_squared_error(y_test, predictions))\n",
        "#import result of mae\n",
        "print(\"msle=\",  metrics.mean_squared_log_error(y_test, predictions))\n",
        "#import result of mae\n",
        "print(\"mae=\", metrics.mean_absolute_error(y_test, predictions))\n",
        "\n",
        "#import result of rmse\n",
        "print(\"rmse=\", np.sqrt(metrics.mean_squared_error(y_test, predictions)))"
      ]
    },
    {
      "cell_type": "code",
      "execution_count": null,
      "metadata": {
        "id": "7U43LFtXu-Q-",
        "outputId": "d1b3155a-29a3-4d3f-adb2-dc3371d92f6a"
      },
      "outputs": [
        {
          "name": "stdout",
          "output_type": "stream",
          "text": [
            "              precision    recall  f1-score   support\n",
            "\n",
            "           0       0.65      0.81      0.72        21\n",
            "           1       0.21      0.40      0.28        10\n",
            "           2       0.99      0.91      0.94       169\n",
            "\n",
            "    accuracy                           0.87       200\n",
            "   macro avg       0.62      0.70      0.65       200\n",
            "weighted avg       0.91      0.87      0.89       200\n",
            "\n",
            "mse= 0.205\n",
            "msle= 0.060077971580098366\n",
            "mae= 0.155\n",
            "rmse= 0.4527692569068708\n"
          ]
        }
      ],
      "source": [
        "# KNN classifier machine object\n",
        "KNN1 =  KNeighborsClassifier()\n",
        "  \n",
        "# train the model on train set\n",
        "KNN1.fit(X_train_miss, y_train_miss.ravel())\n",
        "  \n",
        "predictions = KNN1.predict(X_test)\n",
        "  \n",
        "# print classification report\n",
        "print(classification_report(y_test, predictions))\n",
        "#import result of mse\n",
        "print(\"mse=\",  metrics.mean_squared_error(y_test, predictions))\n",
        "#import result of mae\n",
        "print(\"msle=\",  metrics.mean_squared_log_error(y_test, predictions))\n",
        "#import result of mae\n",
        "print(\"mae=\", metrics.mean_absolute_error(y_test, predictions))\n",
        "\n",
        "#import result of rmse\n",
        "print(\"rmse=\", np.sqrt(metrics.mean_squared_error(y_test, predictions)))"
      ]
    },
    {
      "cell_type": "code",
      "execution_count": null,
      "metadata": {
        "id": "AMge3VQZu-Q-",
        "outputId": "21617c23-8ffd-4058-c519-cdbea6734e96"
      },
      "outputs": [
        {
          "name": "stdout",
          "output_type": "stream",
          "text": [
            "              precision    recall  f1-score   support\n",
            "\n",
            "           0       0.48      0.71      0.58        21\n",
            "           1       0.47      0.90      0.62        10\n",
            "           2       0.99      0.88      0.93       169\n",
            "\n",
            "    accuracy                           0.86       200\n",
            "   macro avg       0.65      0.83      0.71       200\n",
            "weighted avg       0.91      0.86      0.88       200\n",
            "\n",
            "mse= 0.395\n",
            "msle= 0.11953404563381947\n",
            "mae= 0.225\n",
            "rmse= 0.6284902544988268\n"
          ]
        }
      ],
      "source": [
        "# GNB classifier machine object\n",
        "GNB1 =  GaussianNB()\n",
        "  \n",
        "# train the model on train set\n",
        "GNB1.fit(X_train_miss, y_train_miss.ravel())\n",
        "  \n",
        "predictions = GNB1.predict(X_test)\n",
        "  \n",
        "# print classification report\n",
        "print(classification_report(y_test, predictions))\n",
        "#import result of mse\n",
        "print(\"mse=\",  metrics.mean_squared_error(y_test, predictions))\n",
        "#import result of mae\n",
        "print(\"msle=\",  metrics.mean_squared_log_error(y_test, predictions))\n",
        "#import result of mae\n",
        "print(\"mae=\", metrics.mean_absolute_error(y_test, predictions))\n",
        "\n",
        "#import result of rmse\n",
        "print(\"rmse=\", np.sqrt(metrics.mean_squared_error(y_test, predictions)))"
      ]
    },
    {
      "cell_type": "code",
      "execution_count": null,
      "metadata": {
        "id": "mnElP_tcu-Q-",
        "outputId": "234dd8d1-da52-4ffe-e2f4-8885f17b6aa1"
      },
      "outputs": [
        {
          "name": "stdout",
          "output_type": "stream",
          "text": [
            "              precision    recall  f1-score   support\n",
            "\n",
            "           0       0.95      1.00      0.98        21\n",
            "           1       0.59      1.00      0.74        10\n",
            "           2       1.00      0.95      0.98       169\n",
            "\n",
            "    accuracy                           0.96       200\n",
            "   macro avg       0.85      0.98      0.90       200\n",
            "weighted avg       0.97      0.96      0.96       200\n",
            "\n",
            "mse= 0.055\n",
            "msle= 0.011788813190323705\n",
            "mae= 0.045\n",
            "rmse= 0.2345207879911715\n"
          ]
        }
      ],
      "source": [
        "# XGB classifier machine object\n",
        "XGB1 =XGBClassifier()\n",
        "XGB1.fit(X_train_miss, y_train_miss.ravel())\n",
        "predictions = XGB1.predict(X_test)\n",
        "\n",
        "# print classification report\n",
        "print(classification_report(y_test, predictions))\n",
        "#import result of mse\n",
        "print(\"mse=\",  metrics.mean_squared_error(y_test, predictions))\n",
        "#import result of mae\n",
        "print(\"msle=\",  metrics.mean_squared_log_error(y_test, predictions))\n",
        "#import result of mae\n",
        "print(\"mae=\", metrics.mean_absolute_error(y_test, predictions))\n",
        "\n",
        "#import result of rmse\n",
        "print(\"rmse=\", np.sqrt(metrics.mean_squared_error(y_test, predictions)))"
      ]
    },
    {
      "cell_type": "code",
      "execution_count": null,
      "metadata": {
        "id": "RhFxfg8Qu-Q-",
        "outputId": "e9a1be0c-1bc8-4006-bf25-46b80431fdec"
      },
      "outputs": [
        {
          "name": "stdout",
          "output_type": "stream",
          "text": [
            "              precision    recall  f1-score   support\n",
            "\n",
            "           0       0.73      0.76      0.74        21\n",
            "           1       0.30      0.80      0.43        10\n",
            "           2       0.99      0.89      0.94       169\n",
            "\n",
            "    accuracy                           0.87       200\n",
            "   macro avg       0.67      0.82      0.70       200\n",
            "weighted avg       0.93      0.87      0.89       200\n",
            "\n",
            "mse= 0.205\n",
            "msle= 0.05691746097984801\n",
            "mae= 0.155\n",
            "rmse= 0.4527692569068708\n"
          ]
        }
      ],
      "source": [
        "# MLP classifier machine object\n",
        "MLP1 = MLPClassifier(random_state=1, max_iter=300)\n",
        "# train the model on train set\n",
        "MLP1.fit(X_train_miss, y_train_miss.ravel())\n",
        "  \n",
        "predictions = MLP1.predict(X_test)\n",
        "  \n",
        "# print classification report\n",
        "print(classification_report(y_test, predictions))\n",
        "#import result of mse\n",
        "print(\"mse=\",  metrics.mean_squared_error(y_test, predictions))\n",
        "#import result of mae\n",
        "print(\"msle=\",  metrics.mean_squared_log_error(y_test, predictions))\n",
        "#import result of mae\n",
        "print(\"mae=\", metrics.mean_absolute_error(y_test, predictions))\n",
        "\n",
        "#import result of rmse\n",
        "print(\"rmse=\", np.sqrt(metrics.mean_squared_error(y_test, predictions)))"
      ]
    },
    {
      "cell_type": "code",
      "execution_count": null,
      "metadata": {
        "id": "9XLcAl1Ku-Q-",
        "outputId": "3d22c762-67b4-487d-db76-86c98ad50b86"
      },
      "outputs": [
        {
          "name": "stdout",
          "output_type": "stream",
          "text": [
            "              precision    recall  f1-score   support\n",
            "\n",
            "           0       0.94      0.76      0.84        21\n",
            "           1       0.29      1.00      0.45        10\n",
            "           2       0.97      0.85      0.91       169\n",
            "\n",
            "    accuracy                           0.85       200\n",
            "   macro avg       0.73      0.87      0.73       200\n",
            "weighted avg       0.93      0.85      0.88       200\n",
            "\n",
            "mse= 0.24\n",
            "msle= 0.05593670329155733\n",
            "mae= 0.18\n",
            "rmse= 0.4898979485566356\n"
          ]
        }
      ],
      "source": [
        "# adaboost classifier machine object\n",
        "adaboost1 =AdaBoostClassifier(random_state=96)\n",
        "# train the model on train set\n",
        "adaboost1.fit(X_train_miss, y_train_miss.ravel())\n",
        "  \n",
        "predictions = adaboost1.predict(X_test)\n",
        "  \n",
        "# print classification report\n",
        "print(classification_report(y_test, predictions))\n",
        "#import result of mse\n",
        "print(\"mse=\",  metrics.mean_squared_error(y_test, predictions))\n",
        "#import result of mae\n",
        "print(\"msle=\",  metrics.mean_squared_log_error(y_test, predictions))\n",
        "#import result of mae\n",
        "print(\"mae=\", metrics.mean_absolute_error(y_test, predictions))\n",
        "\n",
        "#import result of rmse\n",
        "print(\"rmse=\", np.sqrt(metrics.mean_squared_error(y_test, predictions)))"
      ]
    },
    {
      "cell_type": "code",
      "execution_count": null,
      "metadata": {
        "id": "IoDOpHFju-Q-",
        "outputId": "6d5995cc-5641-45b4-aae9-214009facd84"
      },
      "outputs": [
        {
          "name": "stdout",
          "output_type": "stream",
          "text": [
            "              precision    recall  f1-score   support\n",
            "\n",
            "           0       0.84      1.00      0.91        21\n",
            "           1       0.67      1.00      0.80        10\n",
            "           2       1.00      0.95      0.97       169\n",
            "\n",
            "    accuracy                           0.95       200\n",
            "   macro avg       0.84      0.98      0.90       200\n",
            "weighted avg       0.97      0.95      0.96       200\n",
            "\n",
            "mse= 0.105\n",
            "msle= 0.02824902806358078\n",
            "mae= 0.065\n",
            "rmse= 0.324037034920393\n"
          ]
        }
      ],
      "source": [
        "# random Forest classifier machine object\n",
        "RF1 =RandomForestClassifier(max_depth=2, random_state=0)\n",
        "# train the model on train set\n",
        "RF1.fit(X_train_miss, y_train_miss.ravel())\n",
        "  \n",
        "predictions = RF1.predict(X_test)\n",
        "  \n",
        "# print classification report\n",
        "print(classification_report(y_test, predictions))\n",
        "#import result of mse\n",
        "print(\"mse=\",  metrics.mean_squared_error(y_test, predictions))\n",
        "#import result of mae\n",
        "print(\"msle=\",  metrics.mean_squared_log_error(y_test, predictions))\n",
        "#import result of mae\n",
        "print(\"mae=\", metrics.mean_absolute_error(y_test, predictions))\n",
        "\n",
        "#import result of rmse\n",
        "print(\"rmse=\", np.sqrt(metrics.mean_squared_error(y_test, predictions)))"
      ]
    },
    {
      "cell_type": "code",
      "execution_count": null,
      "metadata": {
        "colab": {
          "base_uri": "https://localhost:8080/"
        },
        "id": "uGmA3E_QIeq6",
        "outputId": "dc4a2d76-ce14-4149-82c4-ee9f26493258"
      },
      "outputs": [
        {
          "name": "stdout",
          "output_type": "stream",
          "text": [
            "Looking in indexes: https://pypi.org/simple, https://us-python.pkg.dev/colab-wheels/public/simple/\n",
            "Requirement already satisfied: shap in /usr/local/lib/python3.7/dist-packages (0.41.0)\n",
            "Requirement already satisfied: cloudpickle in /usr/local/lib/python3.7/dist-packages (from shap) (1.5.0)\n",
            "Requirement already satisfied: packaging>20.9 in /usr/local/lib/python3.7/dist-packages (from shap) (21.3)\n",
            "Requirement already satisfied: scikit-learn in /usr/local/lib/python3.7/dist-packages (from shap) (1.0.2)\n",
            "Requirement already satisfied: slicer==0.0.7 in /usr/local/lib/python3.7/dist-packages (from shap) (0.0.7)\n",
            "Requirement already satisfied: tqdm>4.25.0 in /usr/local/lib/python3.7/dist-packages (from shap) (4.64.1)\n",
            "Requirement already satisfied: numpy in /usr/local/lib/python3.7/dist-packages (from shap) (1.21.6)\n",
            "Requirement already satisfied: pandas in /usr/local/lib/python3.7/dist-packages (from shap) (1.3.5)\n",
            "Requirement already satisfied: scipy in /usr/local/lib/python3.7/dist-packages (from shap) (1.7.3)\n",
            "Requirement already satisfied: numba in /usr/local/lib/python3.7/dist-packages (from shap) (0.56.2)\n",
            "Requirement already satisfied: pyparsing!=3.0.5,>=2.0.2 in /usr/local/lib/python3.7/dist-packages (from packaging>20.9->shap) (3.0.9)\n",
            "Requirement already satisfied: llvmlite<0.40,>=0.39.0dev0 in /usr/local/lib/python3.7/dist-packages (from numba->shap) (0.39.1)\n",
            "Requirement already satisfied: importlib-metadata in /usr/local/lib/python3.7/dist-packages (from numba->shap) (4.12.0)\n",
            "Requirement already satisfied: setuptools<60 in /usr/local/lib/python3.7/dist-packages (from numba->shap) (57.4.0)\n",
            "Requirement already satisfied: zipp>=0.5 in /usr/local/lib/python3.7/dist-packages (from importlib-metadata->numba->shap) (3.8.1)\n",
            "Requirement already satisfied: typing-extensions>=3.6.4 in /usr/local/lib/python3.7/dist-packages (from importlib-metadata->numba->shap) (4.1.1)\n",
            "Requirement already satisfied: pytz>=2017.3 in /usr/local/lib/python3.7/dist-packages (from pandas->shap) (2022.2.1)\n",
            "Requirement already satisfied: python-dateutil>=2.7.3 in /usr/local/lib/python3.7/dist-packages (from pandas->shap) (2.8.2)\n",
            "Requirement already satisfied: six>=1.5 in /usr/local/lib/python3.7/dist-packages (from python-dateutil>=2.7.3->pandas->shap) (1.15.0)\n",
            "Requirement already satisfied: threadpoolctl>=2.0.0 in /usr/local/lib/python3.7/dist-packages (from scikit-learn->shap) (3.1.0)\n",
            "Requirement already satisfied: joblib>=0.11 in /usr/local/lib/python3.7/dist-packages (from scikit-learn->shap) (1.1.0)\n"
          ]
        }
      ],
      "source": [
        "pip install shap"
      ]
    },
    {
      "cell_type": "code",
      "execution_count": null,
      "metadata": {
        "id": "ToB5d9FtInRH"
      },
      "outputs": [],
      "source": [
        "import shap\n"
      ]
    },
    {
      "cell_type": "code",
      "execution_count": null,
      "metadata": {
        "id": "Hv5c8WdF5fdK"
      },
      "outputs": [],
      "source": [
        "explainer = shap.TreeExplainer(XGB1)\n",
        "shap_values = explainer.shap_values(X)\n",
        "expected_value = explainer.expected_value"
      ]
    },
    {
      "cell_type": "code",
      "execution_count": null,
      "metadata": {
        "colab": {
          "base_uri": "https://localhost:8080/",
          "height": 319
        },
        "id": "hKlJYxPkPvZp",
        "outputId": "4d798dad-1941-4bed-8b3f-cdcecf190646"
      },
      "outputs": [
        {
          "data": {
            "image/png": "[encoded data removed]",
            "text/plain": [
              "<Figure size 576x309.6 with 1 Axes>"
            ]
          },
          "metadata": {
            "needs_background": "light"
          },
          "output_type": "display_data"
        }
      ],
      "source": [
        "# Generate summary bar plot \n",
        "shap.summary_plot(shap_values, X,plot_type=\"bar\") "
      ]
    }
  ],
  "metadata": {
    "colab": {
      "provenance": []
    },
    "kernelspec": {
      "display_name": "Python 3",
      "language": "python",
      "name": "python3"
    },
    "language_info": {
      "codemirror_mode": {
        "name": "ipython",
        "version": 3
      },
      "file_extension": ".py",
      "mimetype": "text/x-python",
      "name": "python",
      "nbconvert_exporter": "python",
      "pygments_lexer": "ipython3",
      "version": "3.7.3"
    }
  },
  "nbformat": 4,
  "nbformat_minor": 0
}