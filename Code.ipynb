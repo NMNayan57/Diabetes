{
  "cells": [
    {
      "cell_type": "code",
      "execution_count": 78,
      "metadata": {
        "id": "IyLFG3lQ_urK"
      },
      "outputs": [],
      "source": [
        "#Relevant Libraries Import \n",
        "\n",
        "import pandas as pd\n",
        "import matplotlib.pyplot as plt\n",
        "import numpy as np\n",
        "from sklearn.model_selection import train_test_split\n",
        "import os\n",
        "\n",
        "#import shap\n",
        "#%matplotlib inline\n",
        "from sklearn.metrics import confusion_matrix\n",
        "#from sklearn.metrics import ConfusionMatrixDisplay\n",
        "from sklearn import metrics\n",
        "#from sklearn.metrics import ConfusionMatrixDisplay\n",
        "from sklearn.metrics import accuracy_score , recall_score, precision_score, f1_score\n",
        "\n",
        "\n",
        "from sklearn.preprocessing import LabelEncoder\n",
        "le = LabelEncoder()\n",
        "\n",
        "\n",
        "import seaborn as sns\n",
        "\n",
        "\n",
        "from sklearn.tree import DecisionTreeClassifier\n",
        "from sklearn.linear_model import LogisticRegression\n",
        "from sklearn.svm import SVC\n",
        "from sklearn.neighbors import KNeighborsClassifier\n",
        "from sklearn.naive_bayes import GaussianNB\n",
        "from sklearn.ensemble import VotingClassifier\n",
        "from sklearn import model_selection\n",
        "from sklearn.metrics import confusion_matrix\n",
        "from sklearn. preprocessing import StandardScaler\n",
        "from sklearn.model_selection import train_test_split\n",
        "from sklearn.ensemble import RandomForestClassifier\n",
        "\n",
        "import xgboost\n",
        "from xgboost import XGBClassifier\n",
        "from sklearn.ensemble import AdaBoostClassifier\n",
        "from sklearn.neural_network import MLPClassifier\n"
      ]
    },
    {
      "cell_type": "markdown",
      "metadata": {
        "id": "vgxuJQmlwY_7"
      },
      "source": [
        "\n"
      ]
    },
    {
      "cell_type": "code",
      "execution_count": 79,
      "metadata": {
        "id": "Oq6HVCg6C-Yr"
      },
      "outputs": [],
      "source": [
        "#Dataset Import\n",
        "df = pd.read_csv(\"/content/Dataset of Diabetes .csv\") "
      ]
    },
    {
      "cell_type": "code",
      "execution_count": 80,
      "metadata": {
        "colab": {
          "base_uri": "https://localhost:8080/",
          "height": 206
        },
        "id": "AN41yZJWC0_v",
        "outputId": "afefb0e4-7efd-44c5-e30e-b7b6acf822f8"
      },
      "outputs": [
        {
          "output_type": "execute_result",
          "data": {
            "text/plain": [
              "    ID  No_Pation Gender  AGE  Urea  Cr  HbA1c  Chol   TG  HDL  LDL  VLDL  \\\n",
              "0  502      17975      F   50   4.7  46    4.9   4.2  0.9  2.4  1.4   0.5   \n",
              "1  735      34221      M   26   4.5  62    4.9   3.7  1.4  1.1  2.1   0.6   \n",
              "2  420      47975      F   50   4.7  46    4.9   4.2  0.9  2.4  1.4   0.5   \n",
              "3  680      87656      F   50   4.7  46    4.9   4.2  0.9  2.4  1.4   0.5   \n",
              "4  504      34223      M   33   7.1  46    4.9   4.9  1.0  0.8  2.0   0.4   \n",
              "\n",
              "    BMI CLASS  \n",
              "0  24.0     N  \n",
              "1  23.0     N  \n",
              "2  24.0     N  \n",
              "3  24.0     N  \n",
              "4  21.0     N  "
            ],
            "text/html": [
              "\n",
              "  <div id=\"df-b3027417-1560-49b3-b992-820e2f0c3fa7\">\n",
              "    <div class=\"colab-df-container\">\n",
              "      <div>\n",
              "<style scoped>\n",
              "    .dataframe tbody tr th:only-of-type {\n",
              "        vertical-align: middle;\n",
              "    }\n",
              "\n",
              "    .dataframe tbody tr th {\n",
              "        vertical-align: top;\n",
              "    }\n",
              "\n",
              "    .dataframe thead th {\n",
              "        text-align: right;\n",
              "    }\n",
              "</style>\n",
              "<table border=\"1\" class=\"dataframe\">\n",
              "  <thead>\n",
              "    <tr style=\"text-align: right;\">\n",
              "      <th></th>\n",
              "      <th>ID</th>\n",
              "      <th>No_Pation</th>\n",
              "      <th>Gender</th>\n",
              "      <th>AGE</th>\n",
              "      <th>Urea</th>\n",
              "      <th>Cr</th>\n",
              "      <th>HbA1c</th>\n",
              "      <th>Chol</th>\n",
              "      <th>TG</th>\n",
              "      <th>HDL</th>\n",
              "      <th>LDL</th>\n",
              "      <th>VLDL</th>\n",
              "      <th>BMI</th>\n",
              "      <th>CLASS</th>\n",
              "    </tr>\n",
              "  </thead>\n",
              "  <tbody>\n",
              "    <tr>\n",
              "      <th>0</th>\n",
              "      <td>502</td>\n",
              "      <td>17975</td>\n",
              "      <td>F</td>\n",
              "      <td>50</td>\n",
              "      <td>4.7</td>\n",
              "      <td>46</td>\n",
              "      <td>4.9</td>\n",
              "      <td>4.2</td>\n",
              "      <td>0.9</td>\n",
              "      <td>2.4</td>\n",
              "      <td>1.4</td>\n",
              "      <td>0.5</td>\n",
              "      <td>24.0</td>\n",
              "      <td>N</td>\n",
              "    </tr>\n",
              "    <tr>\n",
              "      <th>1</th>\n",
              "      <td>735</td>\n",
              "      <td>34221</td>\n",
              "      <td>M</td>\n",
              "      <td>26</td>\n",
              "      <td>4.5</td>\n",
              "      <td>62</td>\n",
              "      <td>4.9</td>\n",
              "      <td>3.7</td>\n",
              "      <td>1.4</td>\n",
              "      <td>1.1</td>\n",
              "      <td>2.1</td>\n",
              "      <td>0.6</td>\n",
              "      <td>23.0</td>\n",
              "      <td>N</td>\n",
              "    </tr>\n",
              "    <tr>\n",
              "      <th>2</th>\n",
              "      <td>420</td>\n",
              "      <td>47975</td>\n",
              "      <td>F</td>\n",
              "      <td>50</td>\n",
              "      <td>4.7</td>\n",
              "      <td>46</td>\n",
              "      <td>4.9</td>\n",
              "      <td>4.2</td>\n",
              "      <td>0.9</td>\n",
              "      <td>2.4</td>\n",
              "      <td>1.4</td>\n",
              "      <td>0.5</td>\n",
              "      <td>24.0</td>\n",
              "      <td>N</td>\n",
              "    </tr>\n",
              "    <tr>\n",
              "      <th>3</th>\n",
              "      <td>680</td>\n",
              "      <td>87656</td>\n",
              "      <td>F</td>\n",
              "      <td>50</td>\n",
              "      <td>4.7</td>\n",
              "      <td>46</td>\n",
              "      <td>4.9</td>\n",
              "      <td>4.2</td>\n",
              "      <td>0.9</td>\n",
              "      <td>2.4</td>\n",
              "      <td>1.4</td>\n",
              "      <td>0.5</td>\n",
              "      <td>24.0</td>\n",
              "      <td>N</td>\n",
              "    </tr>\n",
              "    <tr>\n",
              "      <th>4</th>\n",
              "      <td>504</td>\n",
              "      <td>34223</td>\n",
              "      <td>M</td>\n",
              "      <td>33</td>\n",
              "      <td>7.1</td>\n",
              "      <td>46</td>\n",
              "      <td>4.9</td>\n",
              "      <td>4.9</td>\n",
              "      <td>1.0</td>\n",
              "      <td>0.8</td>\n",
              "      <td>2.0</td>\n",
              "      <td>0.4</td>\n",
              "      <td>21.0</td>\n",
              "      <td>N</td>\n",
              "    </tr>\n",
              "  </tbody>\n",
              "</table>\n",
              "</div>\n",
              "      <button class=\"colab-df-convert\" onclick=\"convertToInteractive('df-b3027417-1560-49b3-b992-820e2f0c3fa7')\"\n",
              "              title=\"Convert this dataframe to an interactive table.\"\n",
              "              style=\"display:none;\">\n",
              "        \n",
              "  <svg xmlns=\"http://www.w3.org/2000/svg\" height=\"24px\"viewBox=\"0 0 24 24\"\n",
              "       width=\"24px\">\n",
              "    <path d=\"M0 0h24v24H0V0z\" fill=\"none\"/>\n",
              "    <path d=\"M18.56 5.44l.94 2.06.94-2.06 2.06-.94-2.06-.94-.94-2.06-.94 2.06-2.06.94zm-11 1L8.5 8.5l.94-2.06 2.06-.94-2.06-.94L8.5 2.5l-.94 2.06-2.06.94zm10 10l.94 2.06.94-2.06 2.06-.94-2.06-.94-.94-2.06-.94 2.06-2.06.94z\"/><path d=\"M17.41 7.96l-1.37-1.37c-.4-.4-.92-.59-1.43-.59-.52 0-1.04.2-1.43.59L10.3 9.45l-7.72 7.72c-.78.78-.78 2.05 0 2.83L4 21.41c.39.39.9.59 1.41.59.51 0 1.02-.2 1.41-.59l7.78-7.78 2.81-2.81c.8-.78.8-2.07 0-2.86zM5.41 20L4 18.59l7.72-7.72 1.47 1.35L5.41 20z\"/>\n",
              "  </svg>\n",
              "      </button>\n",
              "      \n",
              "  <style>\n",
              "    .colab-df-container {\n",
              "      display:flex;\n",
              "      flex-wrap:wrap;\n",
              "      gap: 12px;\n",
              "    }\n",
              "\n",
              "    .colab-df-convert {\n",
              "      background-color: #E8F0FE;\n",
              "      border: none;\n",
              "      border-radius: 50%;\n",
              "      cursor: pointer;\n",
              "      display: none;\n",
              "      fill: #1967D2;\n",
              "      height: 32px;\n",
              "      padding: 0 0 0 0;\n",
              "      width: 32px;\n",
              "    }\n",
              "\n",
              "    .colab-df-convert:hover {\n",
              "      background-color: #E2EBFA;\n",
              "      box-shadow: 0px 1px 2px rgba(60, 64, 67, 0.3), 0px 1px 3px 1px rgba(60, 64, 67, 0.15);\n",
              "      fill: #174EA6;\n",
              "    }\n",
              "\n",
              "    [theme=dark] .colab-df-convert {\n",
              "      background-color: #3B4455;\n",
              "      fill: #D2E3FC;\n",
              "    }\n",
              "\n",
              "    [theme=dark] .colab-df-convert:hover {\n",
              "      background-color: #434B5C;\n",
              "      box-shadow: 0px 1px 3px 1px rgba(0, 0, 0, 0.15);\n",
              "      filter: drop-shadow(0px 1px 2px rgba(0, 0, 0, 0.3));\n",
              "      fill: #FFFFFF;\n",
              "    }\n",
              "  </style>\n",
              "\n",
              "      <script>\n",
              "        const buttonEl =\n",
              "          document.querySelector('#df-b3027417-1560-49b3-b992-820e2f0c3fa7 button.colab-df-convert');\n",
              "        buttonEl.style.display =\n",
              "          google.colab.kernel.accessAllowed ? 'block' : 'none';\n",
              "\n",
              "        async function convertToInteractive(key) {\n",
              "          const element = document.querySelector('#df-b3027417-1560-49b3-b992-820e2f0c3fa7');\n",
              "          const dataTable =\n",
              "            await google.colab.kernel.invokeFunction('convertToInteractive',\n",
              "                                                     [key], {});\n",
              "          if (!dataTable) return;\n",
              "\n",
              "          const docLinkHtml = 'Like what you see? Visit the ' +\n",
              "            '<a target=\"_blank\" href=https://colab.research.google.com/notebooks/data_table.ipynb>data table notebook</a>'\n",
              "            + ' to learn more about interactive tables.';\n",
              "          element.innerHTML = '';\n",
              "          dataTable['output_type'] = 'display_data';\n",
              "          await google.colab.output.renderOutput(dataTable, element);\n",
              "          const docLink = document.createElement('div');\n",
              "          docLink.innerHTML = docLinkHtml;\n",
              "          element.appendChild(docLink);\n",
              "        }\n",
              "      </script>\n",
              "    </div>\n",
              "  </div>\n",
              "  "
            ]
          },
          "metadata": {},
          "execution_count": 80
        }
      ],
      "source": [
        "#data preprocessing Start\n",
        "\n",
        "df.head()"
      ]
    },
    {
      "cell_type": "code",
      "execution_count": 81,
      "metadata": {
        "colab": {
          "base_uri": "https://localhost:8080/"
        },
        "id": "9umMrwjWRd87",
        "outputId": "75e21799-e03e-40d4-9c3e-314708e874e4"
      },
      "outputs": [
        {
          "output_type": "execute_result",
          "data": {
            "text/plain": [
              "Y     844\n",
              "N     102\n",
              "P      53\n",
              "N       1\n",
              "Name: CLASS, dtype: int64"
            ]
          },
          "metadata": {},
          "execution_count": 81
        }
      ],
      "source": [
        "df['CLASS'].value_counts()\n"
      ]
    },
    {
      "cell_type": "markdown",
      "metadata": {
        "id": "5e6KziWNHR_e"
      },
      "source": [
        "Replace Simillar Values to Unique Values "
      ]
    },
    {
      "cell_type": "code",
      "execution_count": 82,
      "metadata": {
        "id": "u3LrP-eFfjNH"
      },
      "outputs": [],
      "source": [
        "df['CLASS'] = df['CLASS'].str.replace(\"N \",\"N\")\n",
        "df['CLASS'] = df['CLASS'].str.replace(\"Y \",\"Y\")\n",
        "df['Gender'] = df['Gender'].str.replace(\"f\",\"F\")"
      ]
    },
    {
      "cell_type": "code",
      "execution_count": 83,
      "metadata": {
        "colab": {
          "base_uri": "https://localhost:8080/"
        },
        "id": "8lt9lc8lHbM-",
        "outputId": "cc9ffec6-0b9c-4dc0-b087-6a4c1da1c3d9"
      },
      "outputs": [
        {
          "output_type": "execute_result",
          "data": {
            "text/plain": [
              "array(['F', 'M'], dtype=object)"
            ]
          },
          "metadata": {},
          "execution_count": 83
        }
      ],
      "source": [
        "#now check the unique value of gender\n",
        "df['Gender'].unique()\n",
        "#df['Gender'].value_counts()"
      ]
    },
    {
      "cell_type": "code",
      "execution_count": 84,
      "metadata": {
        "colab": {
          "base_uri": "https://localhost:8080/"
        },
        "id": "1Daabh7NBbYR",
        "outputId": "875ec9c4-7f0a-48d6-a048-63c881dc07d8"
      },
      "outputs": [
        {
          "output_type": "execute_result",
          "data": {
            "text/plain": [
              "Y    844\n",
              "N    103\n",
              "P     53\n",
              "Name: CLASS, dtype: int64"
            ]
          },
          "metadata": {},
          "execution_count": 84
        }
      ],
      "source": [
        "#now check the unique value of gender\n",
        "df['CLASS'].unique()\n",
        "df['CLASS'].value_counts()\n"
      ]
    },
    {
      "cell_type": "markdown",
      "metadata": {
        "id": "sS4ix_0GIIif"
      },
      "source": [
        "information about dataset"
      ]
    },
    {
      "cell_type": "code",
      "execution_count": 85,
      "metadata": {
        "colab": {
          "base_uri": "https://localhost:8080/"
        },
        "id": "e66QxpJqBcRd",
        "outputId": "5d6081e4-3299-4967-cd80-1bc7de48e0ef"
      },
      "outputs": [
        {
          "output_type": "stream",
          "name": "stdout",
          "text": [
            "<class 'pandas.core.frame.DataFrame'>\n",
            "RangeIndex: 1000 entries, 0 to 999\n",
            "Data columns (total 14 columns):\n",
            " #   Column     Non-Null Count  Dtype  \n",
            "---  ------     --------------  -----  \n",
            " 0   ID         1000 non-null   int64  \n",
            " 1   No_Pation  1000 non-null   int64  \n",
            " 2   Gender     1000 non-null   object \n",
            " 3   AGE        1000 non-null   int64  \n",
            " 4   Urea       1000 non-null   float64\n",
            " 5   Cr         1000 non-null   int64  \n",
            " 6   HbA1c      1000 non-null   float64\n",
            " 7   Chol       1000 non-null   float64\n",
            " 8   TG         1000 non-null   float64\n",
            " 9   HDL        1000 non-null   float64\n",
            " 10  LDL        1000 non-null   float64\n",
            " 11  VLDL       1000 non-null   float64\n",
            " 12  BMI        1000 non-null   float64\n",
            " 13  CLASS      1000 non-null   object \n",
            "dtypes: float64(8), int64(4), object(2)\n",
            "memory usage: 109.5+ KB\n"
          ]
        }
      ],
      "source": [
        "df.info()"
      ]
    },
    {
      "cell_type": "markdown",
      "metadata": {
        "id": "9YLqT91lIM4O"
      },
      "source": [
        "Here we find class and Gender has object value so we need to convert them into Encoded label through label encoder"
      ]
    },
    {
      "cell_type": "markdown",
      "source": [
        "Heat map\n"
      ],
      "metadata": {
        "id": "34Ef77Ui4BfD"
      }
    },
    {
      "cell_type": "code",
      "source": [
        "plt.figure(figsize=(15,12))\n",
        "sns.heatmap(df.corr(), annot=True)\n",
        "plt.show()"
      ],
      "metadata": {
        "colab": {
          "base_uri": "https://localhost:8080/",
          "height": 705
        },
        "id": "swOyJlaO4EF7",
        "outputId": "fae76693-724a-49af-f55e-8bb2e1397bf2"
      },
      "execution_count": 86,
      "outputs": [
        {
          "output_type": "display_data",
          "data": {
            "text/plain": [
              "<Figure size 1080x864 with 2 Axes>"
            ],
            "image/png": "[encoded data removed]"
          },
          "metadata": {
            "needs_background": "light"
          }
        }
      ]
    },
    {
      "cell_type": "markdown",
      "metadata": {
        "id": "hiIBMnooRfkP"
      },
      "source": [
        "# **Label Encoder**"
      ]
    },
    {
      "cell_type": "code",
      "source": [],
      "metadata": {
        "id": "U7pps1Is4DNh"
      },
      "execution_count": 86,
      "outputs": []
    },
    {
      "cell_type": "code",
      "execution_count": 87,
      "metadata": {
        "id": "7VY3qAm0xWEZ"
      },
      "outputs": [],
      "source": [
        "df.CLASS= le.fit_transform(df.CLASS.values)\n",
        "df.Gender= le.fit_transform(df.Gender.values)"
      ]
    },
    {
      "cell_type": "code",
      "execution_count": 88,
      "metadata": {
        "colab": {
          "base_uri": "https://localhost:8080/"
        },
        "id": "EvOrNG2VIbJf",
        "outputId": "73d9a8fe-96d6-49b0-9c8d-774f94c28e86"
      },
      "outputs": [
        {
          "output_type": "stream",
          "name": "stdout",
          "text": [
            "<class 'pandas.core.frame.DataFrame'>\n",
            "RangeIndex: 1000 entries, 0 to 999\n",
            "Data columns (total 14 columns):\n",
            " #   Column     Non-Null Count  Dtype  \n",
            "---  ------     --------------  -----  \n",
            " 0   ID         1000 non-null   int64  \n",
            " 1   No_Pation  1000 non-null   int64  \n",
            " 2   Gender     1000 non-null   int64  \n",
            " 3   AGE        1000 non-null   int64  \n",
            " 4   Urea       1000 non-null   float64\n",
            " 5   Cr         1000 non-null   int64  \n",
            " 6   HbA1c      1000 non-null   float64\n",
            " 7   Chol       1000 non-null   float64\n",
            " 8   TG         1000 non-null   float64\n",
            " 9   HDL        1000 non-null   float64\n",
            " 10  LDL        1000 non-null   float64\n",
            " 11  VLDL       1000 non-null   float64\n",
            " 12  BMI        1000 non-null   float64\n",
            " 13  CLASS      1000 non-null   int64  \n",
            "dtypes: float64(8), int64(6)\n",
            "memory usage: 109.5 KB\n"
          ]
        }
      ],
      "source": [
        "df.info()"
      ]
    },
    {
      "cell_type": "code",
      "execution_count": 89,
      "metadata": {
        "colab": {
          "base_uri": "https://localhost:8080/",
          "height": 206
        },
        "id": "TISU-oo6yElz",
        "outputId": "d021ab02-b63e-4d0f-d66b-e8346b46b195"
      },
      "outputs": [
        {
          "output_type": "execute_result",
          "data": {
            "text/plain": [
              "    ID  No_Pation  Gender  AGE  Urea  Cr  HbA1c  Chol   TG  HDL  LDL  VLDL  \\\n",
              "0  502      17975       0   50   4.7  46    4.9   4.2  0.9  2.4  1.4   0.5   \n",
              "1  735      34221       1   26   4.5  62    4.9   3.7  1.4  1.1  2.1   0.6   \n",
              "2  420      47975       0   50   4.7  46    4.9   4.2  0.9  2.4  1.4   0.5   \n",
              "3  680      87656       0   50   4.7  46    4.9   4.2  0.9  2.4  1.4   0.5   \n",
              "4  504      34223       1   33   7.1  46    4.9   4.9  1.0  0.8  2.0   0.4   \n",
              "\n",
              "    BMI  CLASS  \n",
              "0  24.0      0  \n",
              "1  23.0      0  \n",
              "2  24.0      0  \n",
              "3  24.0      0  \n",
              "4  21.0      0  "
            ],
            "text/html": [
              "\n",
              "  <div id=\"df-40fa3bdd-67d5-4bad-a76e-af85579ce200\">\n",
              "    <div class=\"colab-df-container\">\n",
              "      <div>\n",
              "<style scoped>\n",
              "    .dataframe tbody tr th:only-of-type {\n",
              "        vertical-align: middle;\n",
              "    }\n",
              "\n",
              "    .dataframe tbody tr th {\n",
              "        vertical-align: top;\n",
              "    }\n",
              "\n",
              "    .dataframe thead th {\n",
              "        text-align: right;\n",
              "    }\n",
              "</style>\n",
              "<table border=\"1\" class=\"dataframe\">\n",
              "  <thead>\n",
              "    <tr style=\"text-align: right;\">\n",
              "      <th></th>\n",
              "      <th>ID</th>\n",
              "      <th>No_Pation</th>\n",
              "      <th>Gender</th>\n",
              "      <th>AGE</th>\n",
              "      <th>Urea</th>\n",
              "      <th>Cr</th>\n",
              "      <th>HbA1c</th>\n",
              "      <th>Chol</th>\n",
              "      <th>TG</th>\n",
              "      <th>HDL</th>\n",
              "      <th>LDL</th>\n",
              "      <th>VLDL</th>\n",
              "      <th>BMI</th>\n",
              "      <th>CLASS</th>\n",
              "    </tr>\n",
              "  </thead>\n",
              "  <tbody>\n",
              "    <tr>\n",
              "      <th>0</th>\n",
              "      <td>502</td>\n",
              "      <td>17975</td>\n",
              "      <td>0</td>\n",
              "      <td>50</td>\n",
              "      <td>4.7</td>\n",
              "      <td>46</td>\n",
              "      <td>4.9</td>\n",
              "      <td>4.2</td>\n",
              "      <td>0.9</td>\n",
              "      <td>2.4</td>\n",
              "      <td>1.4</td>\n",
              "      <td>0.5</td>\n",
              "      <td>24.0</td>\n",
              "      <td>0</td>\n",
              "    </tr>\n",
              "    <tr>\n",
              "      <th>1</th>\n",
              "      <td>735</td>\n",
              "      <td>34221</td>\n",
              "      <td>1</td>\n",
              "      <td>26</td>\n",
              "      <td>4.5</td>\n",
              "      <td>62</td>\n",
              "      <td>4.9</td>\n",
              "      <td>3.7</td>\n",
              "      <td>1.4</td>\n",
              "      <td>1.1</td>\n",
              "      <td>2.1</td>\n",
              "      <td>0.6</td>\n",
              "      <td>23.0</td>\n",
              "      <td>0</td>\n",
              "    </tr>\n",
              "    <tr>\n",
              "      <th>2</th>\n",
              "      <td>420</td>\n",
              "      <td>47975</td>\n",
              "      <td>0</td>\n",
              "      <td>50</td>\n",
              "      <td>4.7</td>\n",
              "      <td>46</td>\n",
              "      <td>4.9</td>\n",
              "      <td>4.2</td>\n",
              "      <td>0.9</td>\n",
              "      <td>2.4</td>\n",
              "      <td>1.4</td>\n",
              "      <td>0.5</td>\n",
              "      <td>24.0</td>\n",
              "      <td>0</td>\n",
              "    </tr>\n",
              "    <tr>\n",
              "      <th>3</th>\n",
              "      <td>680</td>\n",
              "      <td>87656</td>\n",
              "      <td>0</td>\n",
              "      <td>50</td>\n",
              "      <td>4.7</td>\n",
              "      <td>46</td>\n",
              "      <td>4.9</td>\n",
              "      <td>4.2</td>\n",
              "      <td>0.9</td>\n",
              "      <td>2.4</td>\n",
              "      <td>1.4</td>\n",
              "      <td>0.5</td>\n",
              "      <td>24.0</td>\n",
              "      <td>0</td>\n",
              "    </tr>\n",
              "    <tr>\n",
              "      <th>4</th>\n",
              "      <td>504</td>\n",
              "      <td>34223</td>\n",
              "      <td>1</td>\n",
              "      <td>33</td>\n",
              "      <td>7.1</td>\n",
              "      <td>46</td>\n",
              "      <td>4.9</td>\n",
              "      <td>4.9</td>\n",
              "      <td>1.0</td>\n",
              "      <td>0.8</td>\n",
              "      <td>2.0</td>\n",
              "      <td>0.4</td>\n",
              "      <td>21.0</td>\n",
              "      <td>0</td>\n",
              "    </tr>\n",
              "  </tbody>\n",
              "</table>\n",
              "</div>\n",
              "      <button class=\"colab-df-convert\" onclick=\"convertToInteractive('df-40fa3bdd-67d5-4bad-a76e-af85579ce200')\"\n",
              "              title=\"Convert this dataframe to an interactive table.\"\n",
              "              style=\"display:none;\">\n",
              "        \n",
              "  <svg xmlns=\"http://www.w3.org/2000/svg\" height=\"24px\"viewBox=\"0 0 24 24\"\n",
              "       width=\"24px\">\n",
              "    <path d=\"M0 0h24v24H0V0z\" fill=\"none\"/>\n",
              "    <path d=\"M18.56 5.44l.94 2.06.94-2.06 2.06-.94-2.06-.94-.94-2.06-.94 2.06-2.06.94zm-11 1L8.5 8.5l.94-2.06 2.06-.94-2.06-.94L8.5 2.5l-.94 2.06-2.06.94zm10 10l.94 2.06.94-2.06 2.06-.94-2.06-.94-.94-2.06-.94 2.06-2.06.94z\"/><path d=\"M17.41 7.96l-1.37-1.37c-.4-.4-.92-.59-1.43-.59-.52 0-1.04.2-1.43.59L10.3 9.45l-7.72 7.72c-.78.78-.78 2.05 0 2.83L4 21.41c.39.39.9.59 1.41.59.51 0 1.02-.2 1.41-.59l7.78-7.78 2.81-2.81c.8-.78.8-2.07 0-2.86zM5.41 20L4 18.59l7.72-7.72 1.47 1.35L5.41 20z\"/>\n",
              "  </svg>\n",
              "      </button>\n",
              "      \n",
              "  <style>\n",
              "    .colab-df-container {\n",
              "      display:flex;\n",
              "      flex-wrap:wrap;\n",
              "      gap: 12px;\n",
              "    }\n",
              "\n",
              "    .colab-df-convert {\n",
              "      background-color: #E8F0FE;\n",
              "      border: none;\n",
              "      border-radius: 50%;\n",
              "      cursor: pointer;\n",
              "      display: none;\n",
              "      fill: #1967D2;\n",
              "      height: 32px;\n",
              "      padding: 0 0 0 0;\n",
              "      width: 32px;\n",
              "    }\n",
              "\n",
              "    .colab-df-convert:hover {\n",
              "      background-color: #E2EBFA;\n",
              "      box-shadow: 0px 1px 2px rgba(60, 64, 67, 0.3), 0px 1px 3px 1px rgba(60, 64, 67, 0.15);\n",
              "      fill: #174EA6;\n",
              "    }\n",
              "\n",
              "    [theme=dark] .colab-df-convert {\n",
              "      background-color: #3B4455;\n",
              "      fill: #D2E3FC;\n",
              "    }\n",
              "\n",
              "    [theme=dark] .colab-df-convert:hover {\n",
              "      background-color: #434B5C;\n",
              "      box-shadow: 0px 1px 3px 1px rgba(0, 0, 0, 0.15);\n",
              "      filter: drop-shadow(0px 1px 2px rgba(0, 0, 0, 0.3));\n",
              "      fill: #FFFFFF;\n",
              "    }\n",
              "  </style>\n",
              "\n",
              "      <script>\n",
              "        const buttonEl =\n",
              "          document.querySelector('#df-40fa3bdd-67d5-4bad-a76e-af85579ce200 button.colab-df-convert');\n",
              "        buttonEl.style.display =\n",
              "          google.colab.kernel.accessAllowed ? 'block' : 'none';\n",
              "\n",
              "        async function convertToInteractive(key) {\n",
              "          const element = document.querySelector('#df-40fa3bdd-67d5-4bad-a76e-af85579ce200');\n",
              "          const dataTable =\n",
              "            await google.colab.kernel.invokeFunction('convertToInteractive',\n",
              "                                                     [key], {});\n",
              "          if (!dataTable) return;\n",
              "\n",
              "          const docLinkHtml = 'Like what you see? Visit the ' +\n",
              "            '<a target=\"_blank\" href=https://colab.research.google.com/notebooks/data_table.ipynb>data table notebook</a>'\n",
              "            + ' to learn more about interactive tables.';\n",
              "          element.innerHTML = '';\n",
              "          dataTable['output_type'] = 'display_data';\n",
              "          await google.colab.output.renderOutput(dataTable, element);\n",
              "          const docLink = document.createElement('div');\n",
              "          docLink.innerHTML = docLinkHtml;\n",
              "          element.appendChild(docLink);\n",
              "        }\n",
              "      </script>\n",
              "    </div>\n",
              "  </div>\n",
              "  "
            ]
          },
          "metadata": {},
          "execution_count": 89
        }
      ],
      "source": [
        "df.head()"
      ]
    },
    {
      "cell_type": "markdown",
      "metadata": {
        "id": "SHSUhLZtGkTc"
      },
      "source": [
        "Removing duplicated data points\n",
        " if find any\n",
        "\n"
      ]
    },
    {
      "cell_type": "code",
      "execution_count": 90,
      "metadata": {
        "colab": {
          "base_uri": "https://localhost:8080/",
          "height": 68
        },
        "id": "4htppQ2GKR45",
        "outputId": "75b644b6-23f6-43a5-ca27-2d6e9787213a"
      },
      "outputs": [
        {
          "output_type": "stream",
          "name": "stdout",
          "text": [
            "There are 0 duplicates data\n"
          ]
        },
        {
          "output_type": "execute_result",
          "data": {
            "text/plain": [
              "Empty DataFrame\n",
              "Columns: [ID, No_Pation, Gender, AGE, Urea, Cr, HbA1c, Chol, TG, HDL, LDL, VLDL, BMI, CLASS]\n",
              "Index: []"
            ],
            "text/html": [
              "\n",
              "  <div id=\"df-a83c93b9-e9bb-4cc0-b2b8-718c90ccffc7\">\n",
              "    <div class=\"colab-df-container\">\n",
              "      <div>\n",
              "<style scoped>\n",
              "    .dataframe tbody tr th:only-of-type {\n",
              "        vertical-align: middle;\n",
              "    }\n",
              "\n",
              "    .dataframe tbody tr th {\n",
              "        vertical-align: top;\n",
              "    }\n",
              "\n",
              "    .dataframe thead th {\n",
              "        text-align: right;\n",
              "    }\n",
              "</style>\n",
              "<table border=\"1\" class=\"dataframe\">\n",
              "  <thead>\n",
              "    <tr style=\"text-align: right;\">\n",
              "      <th></th>\n",
              "      <th>ID</th>\n",
              "      <th>No_Pation</th>\n",
              "      <th>Gender</th>\n",
              "      <th>AGE</th>\n",
              "      <th>Urea</th>\n",
              "      <th>Cr</th>\n",
              "      <th>HbA1c</th>\n",
              "      <th>Chol</th>\n",
              "      <th>TG</th>\n",
              "      <th>HDL</th>\n",
              "      <th>LDL</th>\n",
              "      <th>VLDL</th>\n",
              "      <th>BMI</th>\n",
              "      <th>CLASS</th>\n",
              "    </tr>\n",
              "  </thead>\n",
              "  <tbody>\n",
              "  </tbody>\n",
              "</table>\n",
              "</div>\n",
              "      <button class=\"colab-df-convert\" onclick=\"convertToInteractive('df-a83c93b9-e9bb-4cc0-b2b8-718c90ccffc7')\"\n",
              "              title=\"Convert this dataframe to an interactive table.\"\n",
              "              style=\"display:none;\">\n",
              "        \n",
              "  <svg xmlns=\"http://www.w3.org/2000/svg\" height=\"24px\"viewBox=\"0 0 24 24\"\n",
              "       width=\"24px\">\n",
              "    <path d=\"M0 0h24v24H0V0z\" fill=\"none\"/>\n",
              "    <path d=\"M18.56 5.44l.94 2.06.94-2.06 2.06-.94-2.06-.94-.94-2.06-.94 2.06-2.06.94zm-11 1L8.5 8.5l.94-2.06 2.06-.94-2.06-.94L8.5 2.5l-.94 2.06-2.06.94zm10 10l.94 2.06.94-2.06 2.06-.94-2.06-.94-.94-2.06-.94 2.06-2.06.94z\"/><path d=\"M17.41 7.96l-1.37-1.37c-.4-.4-.92-.59-1.43-.59-.52 0-1.04.2-1.43.59L10.3 9.45l-7.72 7.72c-.78.78-.78 2.05 0 2.83L4 21.41c.39.39.9.59 1.41.59.51 0 1.02-.2 1.41-.59l7.78-7.78 2.81-2.81c.8-.78.8-2.07 0-2.86zM5.41 20L4 18.59l7.72-7.72 1.47 1.35L5.41 20z\"/>\n",
              "  </svg>\n",
              "      </button>\n",
              "      \n",
              "  <style>\n",
              "    .colab-df-container {\n",
              "      display:flex;\n",
              "      flex-wrap:wrap;\n",
              "      gap: 12px;\n",
              "    }\n",
              "\n",
              "    .colab-df-convert {\n",
              "      background-color: #E8F0FE;\n",
              "      border: none;\n",
              "      border-radius: 50%;\n",
              "      cursor: pointer;\n",
              "      display: none;\n",
              "      fill: #1967D2;\n",
              "      height: 32px;\n",
              "      padding: 0 0 0 0;\n",
              "      width: 32px;\n",
              "    }\n",
              "\n",
              "    .colab-df-convert:hover {\n",
              "      background-color: #E2EBFA;\n",
              "      box-shadow: 0px 1px 2px rgba(60, 64, 67, 0.3), 0px 1px 3px 1px rgba(60, 64, 67, 0.15);\n",
              "      fill: #174EA6;\n",
              "    }\n",
              "\n",
              "    [theme=dark] .colab-df-convert {\n",
              "      background-color: #3B4455;\n",
              "      fill: #D2E3FC;\n",
              "    }\n",
              "\n",
              "    [theme=dark] .colab-df-convert:hover {\n",
              "      background-color: #434B5C;\n",
              "      box-shadow: 0px 1px 3px 1px rgba(0, 0, 0, 0.15);\n",
              "      filter: drop-shadow(0px 1px 2px rgba(0, 0, 0, 0.3));\n",
              "      fill: #FFFFFF;\n",
              "    }\n",
              "  </style>\n",
              "\n",
              "      <script>\n",
              "        const buttonEl =\n",
              "          document.querySelector('#df-a83c93b9-e9bb-4cc0-b2b8-718c90ccffc7 button.colab-df-convert');\n",
              "        buttonEl.style.display =\n",
              "          google.colab.kernel.accessAllowed ? 'block' : 'none';\n",
              "\n",
              "        async function convertToInteractive(key) {\n",
              "          const element = document.querySelector('#df-a83c93b9-e9bb-4cc0-b2b8-718c90ccffc7');\n",
              "          const dataTable =\n",
              "            await google.colab.kernel.invokeFunction('convertToInteractive',\n",
              "                                                     [key], {});\n",
              "          if (!dataTable) return;\n",
              "\n",
              "          const docLinkHtml = 'Like what you see? Visit the ' +\n",
              "            '<a target=\"_blank\" href=https://colab.research.google.com/notebooks/data_table.ipynb>data table notebook</a>'\n",
              "            + ' to learn more about interactive tables.';\n",
              "          element.innerHTML = '';\n",
              "          dataTable['output_type'] = 'display_data';\n",
              "          await google.colab.output.renderOutput(dataTable, element);\n",
              "          const docLink = document.createElement('div');\n",
              "          docLink.innerHTML = docLinkHtml;\n",
              "          element.appendChild(docLink);\n",
              "        }\n",
              "      </script>\n",
              "    </div>\n",
              "  </div>\n",
              "  "
            ]
          },
          "metadata": {},
          "execution_count": 90
        }
      ],
      "source": [
        "print(f\"There are {df.duplicated().sum()} duplicates data\")\n",
        "df.loc[df.duplicated(keep=False)].sort_values(by=df.columns.to_list())"
      ]
    },
    {
      "cell_type": "markdown",
      "metadata": {
        "id": "bbmF1Bs0Nc_i"
      },
      "source": [
        "finding is null value avilable "
      ]
    },
    {
      "cell_type": "code",
      "execution_count": 91,
      "metadata": {
        "colab": {
          "base_uri": "https://localhost:8080/"
        },
        "id": "w1fui7-zNhAA",
        "outputId": "61a60e28-997e-4b08-fb69-29068ef2903a"
      },
      "outputs": [
        {
          "output_type": "execute_result",
          "data": {
            "text/plain": [
              "ID           0\n",
              "No_Pation    0\n",
              "Gender       0\n",
              "AGE          0\n",
              "Urea         0\n",
              "Cr           0\n",
              "HbA1c        0\n",
              "Chol         0\n",
              "TG           0\n",
              "HDL          0\n",
              "LDL          0\n",
              "VLDL         0\n",
              "BMI          0\n",
              "CLASS        0\n",
              "dtype: int64"
            ]
          },
          "metadata": {},
          "execution_count": 91
        }
      ],
      "source": [
        "df.isnull().sum()\n"
      ]
    },
    {
      "cell_type": "markdown",
      "metadata": {
        "id": "gqXLD1nLHExG"
      },
      "source": [
        "**Creating a test set**"
      ]
    },
    {
      "cell_type": "code",
      "execution_count": 92,
      "metadata": {
        "id": "sageUT6ZFmad"
      },
      "outputs": [],
      "source": [
        "original_train_df, test_df = train_test_split(df, test_size=0.2)\n",
        "\n",
        "# To be sure we will create a copy for further processing\n",
        "train_df = original_train_df.copy() "
      ]
    },
    {
      "cell_type": "markdown",
      "metadata": {
        "id": "MJen6hf7HIgK"
      },
      "source": [
        "Gaining further insight\n",
        "**bold text**"
      ]
    },
    {
      "cell_type": "code",
      "execution_count": 93,
      "metadata": {
        "id": "A1CLML3hFp-U"
      },
      "outputs": [],
      "source": [
        "df1=df"
      ]
    },
    {
      "cell_type": "code",
      "execution_count": 94,
      "metadata": {
        "colab": {
          "base_uri": "https://localhost:8080/",
          "height": 206
        },
        "id": "QupbixyJ5fdG",
        "outputId": "b9d33c5a-daad-4cf9-e254-574b105d457d"
      },
      "outputs": [
        {
          "output_type": "execute_result",
          "data": {
            "text/plain": [
              "    ID  No_Pation  Gender  AGE  Urea  Cr  HbA1c  Chol   TG  HDL  LDL  VLDL  \\\n",
              "0  502      17975       0   50   4.7  46    4.9   4.2  0.9  2.4  1.4   0.5   \n",
              "1  735      34221       1   26   4.5  62    4.9   3.7  1.4  1.1  2.1   0.6   \n",
              "2  420      47975       0   50   4.7  46    4.9   4.2  0.9  2.4  1.4   0.5   \n",
              "3  680      87656       0   50   4.7  46    4.9   4.2  0.9  2.4  1.4   0.5   \n",
              "4  504      34223       1   33   7.1  46    4.9   4.9  1.0  0.8  2.0   0.4   \n",
              "\n",
              "    BMI  CLASS  \n",
              "0  24.0      0  \n",
              "1  23.0      0  \n",
              "2  24.0      0  \n",
              "3  24.0      0  \n",
              "4  21.0      0  "
            ],
            "text/html": [
              "\n",
              "  <div id=\"df-4b042016-ffcf-44cd-a838-8d122d33026c\">\n",
              "    <div class=\"colab-df-container\">\n",
              "      <div>\n",
              "<style scoped>\n",
              "    .dataframe tbody tr th:only-of-type {\n",
              "        vertical-align: middle;\n",
              "    }\n",
              "\n",
              "    .dataframe tbody tr th {\n",
              "        vertical-align: top;\n",
              "    }\n",
              "\n",
              "    .dataframe thead th {\n",
              "        text-align: right;\n",
              "    }\n",
              "</style>\n",
              "<table border=\"1\" class=\"dataframe\">\n",
              "  <thead>\n",
              "    <tr style=\"text-align: right;\">\n",
              "      <th></th>\n",
              "      <th>ID</th>\n",
              "      <th>No_Pation</th>\n",
              "      <th>Gender</th>\n",
              "      <th>AGE</th>\n",
              "      <th>Urea</th>\n",
              "      <th>Cr</th>\n",
              "      <th>HbA1c</th>\n",
              "      <th>Chol</th>\n",
              "      <th>TG</th>\n",
              "      <th>HDL</th>\n",
              "      <th>LDL</th>\n",
              "      <th>VLDL</th>\n",
              "      <th>BMI</th>\n",
              "      <th>CLASS</th>\n",
              "    </tr>\n",
              "  </thead>\n",
              "  <tbody>\n",
              "    <tr>\n",
              "      <th>0</th>\n",
              "      <td>502</td>\n",
              "      <td>17975</td>\n",
              "      <td>0</td>\n",
              "      <td>50</td>\n",
              "      <td>4.7</td>\n",
              "      <td>46</td>\n",
              "      <td>4.9</td>\n",
              "      <td>4.2</td>\n",
              "      <td>0.9</td>\n",
              "      <td>2.4</td>\n",
              "      <td>1.4</td>\n",
              "      <td>0.5</td>\n",
              "      <td>24.0</td>\n",
              "      <td>0</td>\n",
              "    </tr>\n",
              "    <tr>\n",
              "      <th>1</th>\n",
              "      <td>735</td>\n",
              "      <td>34221</td>\n",
              "      <td>1</td>\n",
              "      <td>26</td>\n",
              "      <td>4.5</td>\n",
              "      <td>62</td>\n",
              "      <td>4.9</td>\n",
              "      <td>3.7</td>\n",
              "      <td>1.4</td>\n",
              "      <td>1.1</td>\n",
              "      <td>2.1</td>\n",
              "      <td>0.6</td>\n",
              "      <td>23.0</td>\n",
              "      <td>0</td>\n",
              "    </tr>\n",
              "    <tr>\n",
              "      <th>2</th>\n",
              "      <td>420</td>\n",
              "      <td>47975</td>\n",
              "      <td>0</td>\n",
              "      <td>50</td>\n",
              "      <td>4.7</td>\n",
              "      <td>46</td>\n",
              "      <td>4.9</td>\n",
              "      <td>4.2</td>\n",
              "      <td>0.9</td>\n",
              "      <td>2.4</td>\n",
              "      <td>1.4</td>\n",
              "      <td>0.5</td>\n",
              "      <td>24.0</td>\n",
              "      <td>0</td>\n",
              "    </tr>\n",
              "    <tr>\n",
              "      <th>3</th>\n",
              "      <td>680</td>\n",
              "      <td>87656</td>\n",
              "      <td>0</td>\n",
              "      <td>50</td>\n",
              "      <td>4.7</td>\n",
              "      <td>46</td>\n",
              "      <td>4.9</td>\n",
              "      <td>4.2</td>\n",
              "      <td>0.9</td>\n",
              "      <td>2.4</td>\n",
              "      <td>1.4</td>\n",
              "      <td>0.5</td>\n",
              "      <td>24.0</td>\n",
              "      <td>0</td>\n",
              "    </tr>\n",
              "    <tr>\n",
              "      <th>4</th>\n",
              "      <td>504</td>\n",
              "      <td>34223</td>\n",
              "      <td>1</td>\n",
              "      <td>33</td>\n",
              "      <td>7.1</td>\n",
              "      <td>46</td>\n",
              "      <td>4.9</td>\n",
              "      <td>4.9</td>\n",
              "      <td>1.0</td>\n",
              "      <td>0.8</td>\n",
              "      <td>2.0</td>\n",
              "      <td>0.4</td>\n",
              "      <td>21.0</td>\n",
              "      <td>0</td>\n",
              "    </tr>\n",
              "  </tbody>\n",
              "</table>\n",
              "</div>\n",
              "      <button class=\"colab-df-convert\" onclick=\"convertToInteractive('df-4b042016-ffcf-44cd-a838-8d122d33026c')\"\n",
              "              title=\"Convert this dataframe to an interactive table.\"\n",
              "              style=\"display:none;\">\n",
              "        \n",
              "  <svg xmlns=\"http://www.w3.org/2000/svg\" height=\"24px\"viewBox=\"0 0 24 24\"\n",
              "       width=\"24px\">\n",
              "    <path d=\"M0 0h24v24H0V0z\" fill=\"none\"/>\n",
              "    <path d=\"M18.56 5.44l.94 2.06.94-2.06 2.06-.94-2.06-.94-.94-2.06-.94 2.06-2.06.94zm-11 1L8.5 8.5l.94-2.06 2.06-.94-2.06-.94L8.5 2.5l-.94 2.06-2.06.94zm10 10l.94 2.06.94-2.06 2.06-.94-2.06-.94-.94-2.06-.94 2.06-2.06.94z\"/><path d=\"M17.41 7.96l-1.37-1.37c-.4-.4-.92-.59-1.43-.59-.52 0-1.04.2-1.43.59L10.3 9.45l-7.72 7.72c-.78.78-.78 2.05 0 2.83L4 21.41c.39.39.9.59 1.41.59.51 0 1.02-.2 1.41-.59l7.78-7.78 2.81-2.81c.8-.78.8-2.07 0-2.86zM5.41 20L4 18.59l7.72-7.72 1.47 1.35L5.41 20z\"/>\n",
              "  </svg>\n",
              "      </button>\n",
              "      \n",
              "  <style>\n",
              "    .colab-df-container {\n",
              "      display:flex;\n",
              "      flex-wrap:wrap;\n",
              "      gap: 12px;\n",
              "    }\n",
              "\n",
              "    .colab-df-convert {\n",
              "      background-color: #E8F0FE;\n",
              "      border: none;\n",
              "      border-radius: 50%;\n",
              "      cursor: pointer;\n",
              "      display: none;\n",
              "      fill: #1967D2;\n",
              "      height: 32px;\n",
              "      padding: 0 0 0 0;\n",
              "      width: 32px;\n",
              "    }\n",
              "\n",
              "    .colab-df-convert:hover {\n",
              "      background-color: #E2EBFA;\n",
              "      box-shadow: 0px 1px 2px rgba(60, 64, 67, 0.3), 0px 1px 3px 1px rgba(60, 64, 67, 0.15);\n",
              "      fill: #174EA6;\n",
              "    }\n",
              "\n",
              "    [theme=dark] .colab-df-convert {\n",
              "      background-color: #3B4455;\n",
              "      fill: #D2E3FC;\n",
              "    }\n",
              "\n",
              "    [theme=dark] .colab-df-convert:hover {\n",
              "      background-color: #434B5C;\n",
              "      box-shadow: 0px 1px 3px 1px rgba(0, 0, 0, 0.15);\n",
              "      filter: drop-shadow(0px 1px 2px rgba(0, 0, 0, 0.3));\n",
              "      fill: #FFFFFF;\n",
              "    }\n",
              "  </style>\n",
              "\n",
              "      <script>\n",
              "        const buttonEl =\n",
              "          document.querySelector('#df-4b042016-ffcf-44cd-a838-8d122d33026c button.colab-df-convert');\n",
              "        buttonEl.style.display =\n",
              "          google.colab.kernel.accessAllowed ? 'block' : 'none';\n",
              "\n",
              "        async function convertToInteractive(key) {\n",
              "          const element = document.querySelector('#df-4b042016-ffcf-44cd-a838-8d122d33026c');\n",
              "          const dataTable =\n",
              "            await google.colab.kernel.invokeFunction('convertToInteractive',\n",
              "                                                     [key], {});\n",
              "          if (!dataTable) return;\n",
              "\n",
              "          const docLinkHtml = 'Like what you see? Visit the ' +\n",
              "            '<a target=\"_blank\" href=https://colab.research.google.com/notebooks/data_table.ipynb>data table notebook</a>'\n",
              "            + ' to learn more about interactive tables.';\n",
              "          element.innerHTML = '';\n",
              "          dataTable['output_type'] = 'display_data';\n",
              "          await google.colab.output.renderOutput(dataTable, element);\n",
              "          const docLink = document.createElement('div');\n",
              "          docLink.innerHTML = docLinkHtml;\n",
              "          element.appendChild(docLink);\n",
              "        }\n",
              "      </script>\n",
              "    </div>\n",
              "  </div>\n",
              "  "
            ]
          },
          "metadata": {},
          "execution_count": 94
        }
      ],
      "source": [
        "df1.head(5)"
      ]
    },
    {
      "cell_type": "code",
      "execution_count": 95,
      "metadata": {
        "id": "ttXc1soeFuFN"
      },
      "outputs": [],
      "source": [
        "from sklearn.preprocessing import StandardScaler\n",
        "\n",
        "stan_scaler = StandardScaler()\n",
        "\n",
        "temp2_df = df1\n",
        "df_scaledstd = pd.DataFrame(stan_scaler.fit_transform(temp2_df),columns = df.columns)\n",
        "# transform all attributes\n",
        "#temp2_df[column_names] = stan_scaler.fit_transform(temp2_df[column_names])\n",
        "#temp2_df.sort_index(inplace=True)\n",
        "#temp2_df.head()\n"
      ]
    },
    {
      "cell_type": "code",
      "execution_count": 96,
      "metadata": {
        "colab": {
          "base_uri": "https://localhost:8080/",
          "height": 206
        },
        "id": "vSG7rKH2F9bJ",
        "outputId": "0d3ff45c-325b-488b-95b0-b6912bc44cd9"
      },
      "outputs": [
        {
          "output_type": "execute_result",
          "data": {
            "text/plain": [
              "         ID  No_Pation    Gender       AGE      Urea        Cr     HbA1c  \\\n",
              "0  0.672140  -0.074747 -1.139671 -0.401144 -0.144781 -0.382672 -1.334983   \n",
              "1  1.641852  -0.069940  0.877446 -3.130017 -0.212954 -0.115804 -1.334983   \n",
              "2  0.330868  -0.065869 -1.139671 -0.401144 -0.144781 -0.382672 -1.334983   \n",
              "3  1.412950  -0.054126 -1.139671 -0.401144 -0.144781 -0.382672 -1.334983   \n",
              "4  0.680463  -0.069939  0.877446 -2.334096  0.673299 -0.382672 -1.334983   \n",
              "\n",
              "       Chol        TG       HDL       LDL      VLDL       BMI     CLASS  \n",
              "0 -0.509436 -1.035084  1.810756 -1.085457 -0.369958 -1.124622 -2.759951  \n",
              "1 -0.893730 -0.678063 -0.158692 -0.457398 -0.342649 -1.326239 -2.759951  \n",
              "2 -0.509436 -1.035084  1.810756 -1.085457 -0.369958 -1.124622 -2.759951  \n",
              "3 -0.509436 -1.035084  1.810756 -1.085457 -0.369958 -1.124622 -2.759951  \n",
              "4  0.028576 -0.963680 -0.613180 -0.547121 -0.397267 -1.729472 -2.759951  "
            ],
            "text/html": [
              "\n",
              "  <div id=\"df-669a724a-4f90-408d-bd5d-6338adadd69e\">\n",
              "    <div class=\"colab-df-container\">\n",
              "      <div>\n",
              "<style scoped>\n",
              "    .dataframe tbody tr th:only-of-type {\n",
              "        vertical-align: middle;\n",
              "    }\n",
              "\n",
              "    .dataframe tbody tr th {\n",
              "        vertical-align: top;\n",
              "    }\n",
              "\n",
              "    .dataframe thead th {\n",
              "        text-align: right;\n",
              "    }\n",
              "</style>\n",
              "<table border=\"1\" class=\"dataframe\">\n",
              "  <thead>\n",
              "    <tr style=\"text-align: right;\">\n",
              "      <th></th>\n",
              "      <th>ID</th>\n",
              "      <th>No_Pation</th>\n",
              "      <th>Gender</th>\n",
              "      <th>AGE</th>\n",
              "      <th>Urea</th>\n",
              "      <th>Cr</th>\n",
              "      <th>HbA1c</th>\n",
              "      <th>Chol</th>\n",
              "      <th>TG</th>\n",
              "      <th>HDL</th>\n",
              "      <th>LDL</th>\n",
              "      <th>VLDL</th>\n",
              "      <th>BMI</th>\n",
              "      <th>CLASS</th>\n",
              "    </tr>\n",
              "  </thead>\n",
              "  <tbody>\n",
              "    <tr>\n",
              "      <th>0</th>\n",
              "      <td>0.672140</td>\n",
              "      <td>-0.074747</td>\n",
              "      <td>-1.139671</td>\n",
              "      <td>-0.401144</td>\n",
              "      <td>-0.144781</td>\n",
              "      <td>-0.382672</td>\n",
              "      <td>-1.334983</td>\n",
              "      <td>-0.509436</td>\n",
              "      <td>-1.035084</td>\n",
              "      <td>1.810756</td>\n",
              "      <td>-1.085457</td>\n",
              "      <td>-0.369958</td>\n",
              "      <td>-1.124622</td>\n",
              "      <td>-2.759951</td>\n",
              "    </tr>\n",
              "    <tr>\n",
              "      <th>1</th>\n",
              "      <td>1.641852</td>\n",
              "      <td>-0.069940</td>\n",
              "      <td>0.877446</td>\n",
              "      <td>-3.130017</td>\n",
              "      <td>-0.212954</td>\n",
              "      <td>-0.115804</td>\n",
              "      <td>-1.334983</td>\n",
              "      <td>-0.893730</td>\n",
              "      <td>-0.678063</td>\n",
              "      <td>-0.158692</td>\n",
              "      <td>-0.457398</td>\n",
              "      <td>-0.342649</td>\n",
              "      <td>-1.326239</td>\n",
              "      <td>-2.759951</td>\n",
              "    </tr>\n",
              "    <tr>\n",
              "      <th>2</th>\n",
              "      <td>0.330868</td>\n",
              "      <td>-0.065869</td>\n",
              "      <td>-1.139671</td>\n",
              "      <td>-0.401144</td>\n",
              "      <td>-0.144781</td>\n",
              "      <td>-0.382672</td>\n",
              "      <td>-1.334983</td>\n",
              "      <td>-0.509436</td>\n",
              "      <td>-1.035084</td>\n",
              "      <td>1.810756</td>\n",
              "      <td>-1.085457</td>\n",
              "      <td>-0.369958</td>\n",
              "      <td>-1.124622</td>\n",
              "      <td>-2.759951</td>\n",
              "    </tr>\n",
              "    <tr>\n",
              "      <th>3</th>\n",
              "      <td>1.412950</td>\n",
              "      <td>-0.054126</td>\n",
              "      <td>-1.139671</td>\n",
              "      <td>-0.401144</td>\n",
              "      <td>-0.144781</td>\n",
              "      <td>-0.382672</td>\n",
              "      <td>-1.334983</td>\n",
              "      <td>-0.509436</td>\n",
              "      <td>-1.035084</td>\n",
              "      <td>1.810756</td>\n",
              "      <td>-1.085457</td>\n",
              "      <td>-0.369958</td>\n",
              "      <td>-1.124622</td>\n",
              "      <td>-2.759951</td>\n",
              "    </tr>\n",
              "    <tr>\n",
              "      <th>4</th>\n",
              "      <td>0.680463</td>\n",
              "      <td>-0.069939</td>\n",
              "      <td>0.877446</td>\n",
              "      <td>-2.334096</td>\n",
              "      <td>0.673299</td>\n",
              "      <td>-0.382672</td>\n",
              "      <td>-1.334983</td>\n",
              "      <td>0.028576</td>\n",
              "      <td>-0.963680</td>\n",
              "      <td>-0.613180</td>\n",
              "      <td>-0.547121</td>\n",
              "      <td>-0.397267</td>\n",
              "      <td>-1.729472</td>\n",
              "      <td>-2.759951</td>\n",
              "    </tr>\n",
              "  </tbody>\n",
              "</table>\n",
              "</div>\n",
              "      <button class=\"colab-df-convert\" onclick=\"convertToInteractive('df-669a724a-4f90-408d-bd5d-6338adadd69e')\"\n",
              "              title=\"Convert this dataframe to an interactive table.\"\n",
              "              style=\"display:none;\">\n",
              "        \n",
              "  <svg xmlns=\"http://www.w3.org/2000/svg\" height=\"24px\"viewBox=\"0 0 24 24\"\n",
              "       width=\"24px\">\n",
              "    <path d=\"M0 0h24v24H0V0z\" fill=\"none\"/>\n",
              "    <path d=\"M18.56 5.44l.94 2.06.94-2.06 2.06-.94-2.06-.94-.94-2.06-.94 2.06-2.06.94zm-11 1L8.5 8.5l.94-2.06 2.06-.94-2.06-.94L8.5 2.5l-.94 2.06-2.06.94zm10 10l.94 2.06.94-2.06 2.06-.94-2.06-.94-.94-2.06-.94 2.06-2.06.94z\"/><path d=\"M17.41 7.96l-1.37-1.37c-.4-.4-.92-.59-1.43-.59-.52 0-1.04.2-1.43.59L10.3 9.45l-7.72 7.72c-.78.78-.78 2.05 0 2.83L4 21.41c.39.39.9.59 1.41.59.51 0 1.02-.2 1.41-.59l7.78-7.78 2.81-2.81c.8-.78.8-2.07 0-2.86zM5.41 20L4 18.59l7.72-7.72 1.47 1.35L5.41 20z\"/>\n",
              "  </svg>\n",
              "      </button>\n",
              "      \n",
              "  <style>\n",
              "    .colab-df-container {\n",
              "      display:flex;\n",
              "      flex-wrap:wrap;\n",
              "      gap: 12px;\n",
              "    }\n",
              "\n",
              "    .colab-df-convert {\n",
              "      background-color: #E8F0FE;\n",
              "      border: none;\n",
              "      border-radius: 50%;\n",
              "      cursor: pointer;\n",
              "      display: none;\n",
              "      fill: #1967D2;\n",
              "      height: 32px;\n",
              "      padding: 0 0 0 0;\n",
              "      width: 32px;\n",
              "    }\n",
              "\n",
              "    .colab-df-convert:hover {\n",
              "      background-color: #E2EBFA;\n",
              "      box-shadow: 0px 1px 2px rgba(60, 64, 67, 0.3), 0px 1px 3px 1px rgba(60, 64, 67, 0.15);\n",
              "      fill: #174EA6;\n",
              "    }\n",
              "\n",
              "    [theme=dark] .colab-df-convert {\n",
              "      background-color: #3B4455;\n",
              "      fill: #D2E3FC;\n",
              "    }\n",
              "\n",
              "    [theme=dark] .colab-df-convert:hover {\n",
              "      background-color: #434B5C;\n",
              "      box-shadow: 0px 1px 3px 1px rgba(0, 0, 0, 0.15);\n",
              "      filter: drop-shadow(0px 1px 2px rgba(0, 0, 0, 0.3));\n",
              "      fill: #FFFFFF;\n",
              "    }\n",
              "  </style>\n",
              "\n",
              "      <script>\n",
              "        const buttonEl =\n",
              "          document.querySelector('#df-669a724a-4f90-408d-bd5d-6338adadd69e button.colab-df-convert');\n",
              "        buttonEl.style.display =\n",
              "          google.colab.kernel.accessAllowed ? 'block' : 'none';\n",
              "\n",
              "        async function convertToInteractive(key) {\n",
              "          const element = document.querySelector('#df-669a724a-4f90-408d-bd5d-6338adadd69e');\n",
              "          const dataTable =\n",
              "            await google.colab.kernel.invokeFunction('convertToInteractive',\n",
              "                                                     [key], {});\n",
              "          if (!dataTable) return;\n",
              "\n",
              "          const docLinkHtml = 'Like what you see? Visit the ' +\n",
              "            '<a target=\"_blank\" href=https://colab.research.google.com/notebooks/data_table.ipynb>data table notebook</a>'\n",
              "            + ' to learn more about interactive tables.';\n",
              "          element.innerHTML = '';\n",
              "          dataTable['output_type'] = 'display_data';\n",
              "          await google.colab.output.renderOutput(dataTable, element);\n",
              "          const docLink = document.createElement('div');\n",
              "          docLink.innerHTML = docLinkHtml;\n",
              "          element.appendChild(docLink);\n",
              "        }\n",
              "      </script>\n",
              "    </div>\n",
              "  </div>\n",
              "  "
            ]
          },
          "metadata": {},
          "execution_count": 96
        }
      ],
      "source": [
        "df_scaledstd.head(5)"
      ]
    },
    {
      "cell_type": "markdown",
      "metadata": {
        "id": "9FwCqBAeHj3D"
      },
      "source": [
        "**Rescaling or standardizing attributes**"
      ]
    },
    {
      "cell_type": "code",
      "execution_count": 96,
      "metadata": {
        "id": "uKgIILq2GKPr"
      },
      "outputs": [],
      "source": []
    },
    {
      "cell_type": "code",
      "execution_count": 96,
      "metadata": {
        "id": "5uYU1WMLGNAG"
      },
      "outputs": [],
      "source": []
    },
    {
      "cell_type": "code",
      "execution_count": 97,
      "metadata": {
        "colab": {
          "base_uri": "https://localhost:8080/"
        },
        "id": "29hd8t70RhcJ",
        "outputId": "dc45acbf-5f8d-48ce-b0de-0115a9ea5d59"
      },
      "outputs": [
        {
          "output_type": "stream",
          "name": "stdout",
          "text": [
            "Looking in indexes: https://pypi.org/simple, https://us-python.pkg.dev/colab-wheels/public/simple/\n",
            "Requirement already satisfied: featurewiz in /usr/local/lib/python3.8/dist-packages (0.2.4)\n",
            "Requirement already satisfied: seaborn in /usr/local/lib/python3.8/dist-packages (from featurewiz) (0.11.2)\n",
            "Requirement already satisfied: scikit-learn>=0.24 in /usr/local/lib/python3.8/dist-packages (from featurewiz) (1.0.2)\n",
            "Requirement already satisfied: xlrd>=2.0.0 in /usr/local/lib/python3.8/dist-packages (from featurewiz) (2.0.1)\n",
            "Requirement already satisfied: category-encoders>=2.4.0 in /usr/local/lib/python3.8/dist-packages (from featurewiz) (2.6.0)\n",
            "Requirement already satisfied: ipython in /usr/local/lib/python3.8/dist-packages (from featurewiz) (7.9.0)\n",
            "Requirement already satisfied: tqdm>=4.62.0 in /usr/local/lib/python3.8/dist-packages (from featurewiz) (4.64.1)\n",
            "Requirement already satisfied: distributed>=2021.11.0 in /usr/local/lib/python3.8/dist-packages (from featurewiz) (2022.2.1)\n",
            "Requirement already satisfied: networkx>=2.6.2 in /usr/local/lib/python3.8/dist-packages (from featurewiz) (3.0)\n",
            "Requirement already satisfied: pandas>=1.3.4 in /usr/local/lib/python3.8/dist-packages (from featurewiz) (1.3.5)\n",
            "Requirement already satisfied: fsspec>=0.3.3 in /usr/local/lib/python3.8/dist-packages (from featurewiz) (2022.11.0)\n",
            "Requirement already satisfied: feather-format>=0.4.1 in /usr/local/lib/python3.8/dist-packages (from featurewiz) (0.4.1)\n",
            "Requirement already satisfied: lightgbm>=3.2.1 in /usr/local/lib/python3.8/dist-packages (from featurewiz) (3.3.5)\n",
            "Requirement already satisfied: Pillow>=9.0.0 in /usr/local/lib/python3.8/dist-packages (from featurewiz) (9.4.0)\n",
            "Requirement already satisfied: matplotlib in /usr/local/lib/python3.8/dist-packages (from featurewiz) (3.2.2)\n",
            "Requirement already satisfied: jupyter in /usr/local/lib/python3.8/dist-packages (from featurewiz) (1.0.0)\n",
            "Requirement already satisfied: xgboost>=1.5.1 in /usr/local/lib/python3.8/dist-packages (from featurewiz) (1.7.3)\n",
            "Requirement already satisfied: dask>=2021.11.0 in /usr/local/lib/python3.8/dist-packages (from featurewiz) (2022.2.1)\n",
            "Requirement already satisfied: pyarrow~=7.0.0 in /usr/local/lib/python3.8/dist-packages (from featurewiz) (7.0.0)\n",
            "Requirement already satisfied: imbalanced-learn>=0.7 in /usr/local/lib/python3.8/dist-packages (from featurewiz) (0.8.1)\n",
            "Requirement already satisfied: patsy>=0.5.1 in /usr/local/lib/python3.8/dist-packages (from category-encoders>=2.4.0->featurewiz) (0.5.3)\n",
            "Requirement already satisfied: statsmodels>=0.9.0 in /usr/local/lib/python3.8/dist-packages (from category-encoders>=2.4.0->featurewiz) (0.12.2)\n",
            "Requirement already satisfied: numpy>=1.14.0 in /usr/local/lib/python3.8/dist-packages (from category-encoders>=2.4.0->featurewiz) (1.21.6)\n",
            "Requirement already satisfied: scipy>=1.0.0 in /usr/local/lib/python3.8/dist-packages (from category-encoders>=2.4.0->featurewiz) (1.7.3)\n",
            "Requirement already satisfied: pyyaml>=5.3.1 in /usr/local/lib/python3.8/dist-packages (from dask>=2021.11.0->featurewiz) (6.0)\n",
            "Requirement already satisfied: cloudpickle>=1.1.1 in /usr/local/lib/python3.8/dist-packages (from dask>=2021.11.0->featurewiz) (2.2.0)\n",
            "Requirement already satisfied: packaging>=20.0 in /usr/local/lib/python3.8/dist-packages (from dask>=2021.11.0->featurewiz) (21.3)\n",
            "Requirement already satisfied: partd>=0.3.10 in /usr/local/lib/python3.8/dist-packages (from dask>=2021.11.0->featurewiz) (1.3.0)\n",
            "Requirement already satisfied: toolz>=0.8.2 in /usr/local/lib/python3.8/dist-packages (from dask>=2021.11.0->featurewiz) (0.12.0)\n",
            "Requirement already satisfied: msgpack>=0.6.0 in /usr/local/lib/python3.8/dist-packages (from distributed>=2021.11.0->featurewiz) (1.0.4)\n",
            "Requirement already satisfied: sortedcontainers!=2.0.0,!=2.0.1 in /usr/local/lib/python3.8/dist-packages (from distributed>=2021.11.0->featurewiz) (2.4.0)\n",
            "Requirement already satisfied: setuptools in /usr/local/lib/python3.8/dist-packages (from distributed>=2021.11.0->featurewiz) (57.4.0)\n",
            "Requirement already satisfied: jinja2 in /usr/local/lib/python3.8/dist-packages (from distributed>=2021.11.0->featurewiz) (2.11.3)\n",
            "Requirement already satisfied: tornado>=6.0.3 in /usr/local/lib/python3.8/dist-packages (from distributed>=2021.11.0->featurewiz) (6.0.4)\n",
            "Requirement already satisfied: zict>=0.1.3 in /usr/local/lib/python3.8/dist-packages (from distributed>=2021.11.0->featurewiz) (2.2.0)\n",
            "Requirement already satisfied: click>=6.6 in /usr/local/lib/python3.8/dist-packages (from distributed>=2021.11.0->featurewiz) (7.1.2)\n",
            "Requirement already satisfied: psutil>=5.0 in /usr/local/lib/python3.8/dist-packages (from distributed>=2021.11.0->featurewiz) (5.4.8)\n",
            "Requirement already satisfied: tblib>=1.6.0 in /usr/local/lib/python3.8/dist-packages (from distributed>=2021.11.0->featurewiz) (1.7.0)\n",
            "Requirement already satisfied: joblib>=0.11 in /usr/local/lib/python3.8/dist-packages (from imbalanced-learn>=0.7->featurewiz) (1.2.0)\n",
            "Requirement already satisfied: wheel in /usr/local/lib/python3.8/dist-packages (from lightgbm>=3.2.1->featurewiz) (0.38.4)\n",
            "Requirement already satisfied: python-dateutil>=2.7.3 in /usr/local/lib/python3.8/dist-packages (from pandas>=1.3.4->featurewiz) (2.8.2)\n",
            "Requirement already satisfied: pytz>=2017.3 in /usr/local/lib/python3.8/dist-packages (from pandas>=1.3.4->featurewiz) (2022.7)\n",
            "Requirement already satisfied: threadpoolctl>=2.0.0 in /usr/local/lib/python3.8/dist-packages (from scikit-learn>=0.24->featurewiz) (3.1.0)\n",
            "Requirement already satisfied: prompt-toolkit<2.1.0,>=2.0.0 in /usr/local/lib/python3.8/dist-packages (from ipython->featurewiz) (2.0.10)\n",
            "Requirement already satisfied: pexpect in /usr/local/lib/python3.8/dist-packages (from ipython->featurewiz) (4.8.0)\n",
            "Requirement already satisfied: pickleshare in /usr/local/lib/python3.8/dist-packages (from ipython->featurewiz) (0.7.5)\n",
            "Requirement already satisfied: traitlets>=4.2 in /usr/local/lib/python3.8/dist-packages (from ipython->featurewiz) (5.7.1)\n",
            "Requirement already satisfied: pygments in /usr/local/lib/python3.8/dist-packages (from ipython->featurewiz) (2.6.1)\n",
            "Requirement already satisfied: jedi>=0.10 in /usr/local/lib/python3.8/dist-packages (from ipython->featurewiz) (0.18.2)\n",
            "Requirement already satisfied: decorator in /usr/local/lib/python3.8/dist-packages (from ipython->featurewiz) (4.4.2)\n",
            "Requirement already satisfied: backcall in /usr/local/lib/python3.8/dist-packages (from ipython->featurewiz) (0.2.0)\n",
            "Requirement already satisfied: ipywidgets in /usr/local/lib/python3.8/dist-packages (from jupyter->featurewiz) (7.7.1)\n",
            "Requirement already satisfied: notebook in /usr/local/lib/python3.8/dist-packages (from jupyter->featurewiz) (5.7.16)\n",
            "Requirement already satisfied: ipykernel in /usr/local/lib/python3.8/dist-packages (from jupyter->featurewiz) (5.3.4)\n",
            "Requirement already satisfied: nbconvert in /usr/local/lib/python3.8/dist-packages (from jupyter->featurewiz) (5.6.1)\n",
            "Requirement already satisfied: jupyter-console in /usr/local/lib/python3.8/dist-packages (from jupyter->featurewiz) (6.1.0)\n",
            "Requirement already satisfied: qtconsole in /usr/local/lib/python3.8/dist-packages (from jupyter->featurewiz) (5.4.0)\n",
            "Requirement already satisfied: cycler>=0.10 in /usr/local/lib/python3.8/dist-packages (from matplotlib->featurewiz) (0.11.0)\n",
            "Requirement already satisfied: kiwisolver>=1.0.1 in /usr/local/lib/python3.8/dist-packages (from matplotlib->featurewiz) (1.4.4)\n",
            "Requirement already satisfied: pyparsing!=2.0.4,!=2.1.2,!=2.1.6,>=2.0.1 in /usr/local/lib/python3.8/dist-packages (from matplotlib->featurewiz) (3.0.9)\n",
            "Requirement already satisfied: parso<0.9.0,>=0.8.0 in /usr/local/lib/python3.8/dist-packages (from jedi>=0.10->ipython->featurewiz) (0.8.3)\n",
            "Requirement already satisfied: locket in /usr/local/lib/python3.8/dist-packages (from partd>=0.3.10->dask>=2021.11.0->featurewiz) (1.0.0)\n",
            "Requirement already satisfied: six in /usr/local/lib/python3.8/dist-packages (from patsy>=0.5.1->category-encoders>=2.4.0->featurewiz) (1.15.0)\n",
            "Requirement already satisfied: wcwidth in /usr/local/lib/python3.8/dist-packages (from prompt-toolkit<2.1.0,>=2.0.0->ipython->featurewiz) (0.2.5)\n",
            "Requirement already satisfied: heapdict in /usr/local/lib/python3.8/dist-packages (from zict>=0.1.3->distributed>=2021.11.0->featurewiz) (1.0.1)\n",
            "Requirement already satisfied: jupyter-client in /usr/local/lib/python3.8/dist-packages (from ipykernel->jupyter->featurewiz) (6.1.12)\n",
            "Requirement already satisfied: ipython-genutils~=0.2.0 in /usr/local/lib/python3.8/dist-packages (from ipywidgets->jupyter->featurewiz) (0.2.0)\n",
            "Requirement already satisfied: widgetsnbextension~=3.6.0 in /usr/local/lib/python3.8/dist-packages (from ipywidgets->jupyter->featurewiz) (3.6.1)\n",
            "Requirement already satisfied: jupyterlab-widgets>=1.0.0 in /usr/local/lib/python3.8/dist-packages (from ipywidgets->jupyter->featurewiz) (3.0.5)\n",
            "Requirement already satisfied: MarkupSafe>=0.23 in /usr/local/lib/python3.8/dist-packages (from jinja2->distributed>=2021.11.0->featurewiz) (2.0.1)\n",
            "Requirement already satisfied: testpath in /usr/local/lib/python3.8/dist-packages (from nbconvert->jupyter->featurewiz) (0.6.0)\n",
            "Requirement already satisfied: defusedxml in /usr/local/lib/python3.8/dist-packages (from nbconvert->jupyter->featurewiz) (0.7.1)\n",
            "Requirement already satisfied: nbformat>=4.4 in /usr/local/lib/python3.8/dist-packages (from nbconvert->jupyter->featurewiz) (5.7.1)\n",
            "Requirement already satisfied: pandocfilters>=1.4.1 in /usr/local/lib/python3.8/dist-packages (from nbconvert->jupyter->featurewiz) (1.5.0)\n",
            "Requirement already satisfied: entrypoints>=0.2.2 in /usr/local/lib/python3.8/dist-packages (from nbconvert->jupyter->featurewiz) (0.4)\n",
            "Requirement already satisfied: bleach in /usr/local/lib/python3.8/dist-packages (from nbconvert->jupyter->featurewiz) (5.0.1)\n",
            "Requirement already satisfied: jupyter-core in /usr/local/lib/python3.8/dist-packages (from nbconvert->jupyter->featurewiz) (5.1.3)\n",
            "Requirement already satisfied: mistune<2,>=0.8.1 in /usr/local/lib/python3.8/dist-packages (from nbconvert->jupyter->featurewiz) (0.8.4)\n",
            "Requirement already satisfied: pyzmq>=17 in /usr/local/lib/python3.8/dist-packages (from notebook->jupyter->featurewiz) (23.2.1)\n",
            "Requirement already satisfied: Send2Trash in /usr/local/lib/python3.8/dist-packages (from notebook->jupyter->featurewiz) (1.8.0)\n",
            "Requirement already satisfied: terminado>=0.8.1 in /usr/local/lib/python3.8/dist-packages (from notebook->jupyter->featurewiz) (0.13.3)\n",
            "Requirement already satisfied: prometheus-client in /usr/local/lib/python3.8/dist-packages (from notebook->jupyter->featurewiz) (0.15.0)\n",
            "Requirement already satisfied: ptyprocess>=0.5 in /usr/local/lib/python3.8/dist-packages (from pexpect->ipython->featurewiz) (0.7.0)\n",
            "Requirement already satisfied: qtpy>=2.0.1 in /usr/local/lib/python3.8/dist-packages (from qtconsole->jupyter->featurewiz) (2.3.0)\n",
            "Requirement already satisfied: platformdirs>=2.5 in /usr/local/lib/python3.8/dist-packages (from jupyter-core->nbconvert->jupyter->featurewiz) (2.6.2)\n",
            "Requirement already satisfied: jsonschema>=2.6 in /usr/local/lib/python3.8/dist-packages (from nbformat>=4.4->nbconvert->jupyter->featurewiz) (4.3.3)\n",
            "Requirement already satisfied: fastjsonschema in /usr/local/lib/python3.8/dist-packages (from nbformat>=4.4->nbconvert->jupyter->featurewiz) (2.16.2)\n",
            "Requirement already satisfied: webencodings in /usr/local/lib/python3.8/dist-packages (from bleach->nbconvert->jupyter->featurewiz) (0.5.1)\n",
            "Requirement already satisfied: attrs>=17.4.0 in /usr/local/lib/python3.8/dist-packages (from jsonschema>=2.6->nbformat>=4.4->nbconvert->jupyter->featurewiz) (22.2.0)\n",
            "Requirement already satisfied: pyrsistent!=0.17.0,!=0.17.1,!=0.17.2,>=0.14.0 in /usr/local/lib/python3.8/dist-packages (from jsonschema>=2.6->nbformat>=4.4->nbconvert->jupyter->featurewiz) (0.19.3)\n",
            "Requirement already satisfied: importlib-resources>=1.4.0 in /usr/local/lib/python3.8/dist-packages (from jsonschema>=2.6->nbformat>=4.4->nbconvert->jupyter->featurewiz) (5.10.2)\n",
            "Requirement already satisfied: zipp>=3.1.0 in /usr/local/lib/python3.8/dist-packages (from importlib-resources>=1.4.0->jsonschema>=2.6->nbformat>=4.4->nbconvert->jupyter->featurewiz) (3.11.0)\n"
          ]
        }
      ],
      "source": [
        "pip install featurewiz"
      ]
    },
    {
      "cell_type": "code",
      "execution_count": 98,
      "metadata": {
        "id": "Qmmdq5MnRaN2"
      },
      "outputs": [],
      "source": [
        "from featurewiz import featurewiz\n"
      ]
    },
    {
      "cell_type": "code",
      "execution_count": 99,
      "metadata": {
        "colab": {
          "base_uri": "https://localhost:8080/"
        },
        "id": "hQVLpBJHRaLa",
        "outputId": "77f35f3b-e670-4d37-ebeb-d0e175915db7"
      },
      "outputs": [
        {
          "output_type": "stream",
          "name": "stdout",
          "text": [
            "############################################################################################\n",
            "############       F A S T   F E A T U R E  E N G G    A N D    S E L E C T I O N ! ########\n",
            "# Be judicious with featurewiz. Don't use it to create too many un-interpretable features! #\n",
            "############################################################################################\n",
            "featurewiz has selected 0.7 as the correlation limit. Change this limit to fit your needs...\n",
            "Skipping feature engineering since no feature_engg input...\n",
            "Skipping category encoding since no category encoders specified in input...\n",
            "#### Single_Label Multi_Classification problem ####\n",
            "    Loaded train data. Shape = (1000, 14)\n",
            "#### Single_Label Multi_Classification problem ####\n",
            "No test data filename given...\n",
            "#######################################################################################\n",
            "######################## C L A S S I F Y I N G  V A R I A B L E S  ####################\n",
            "#######################################################################################\n",
            "        No variables were removed since no ID or low-information variables found in data set\n",
            "GPU active on this device\n",
            "    Tuning XGBoost using GPU hyper-parameters. This will take time...\n",
            "    After removing redundant variables from further processing, features left = 13\n",
            "No interactions created for categorical vars since feature engg does not specify it\n",
            "#######################################################################################\n",
            "#####  Searching for Uncorrelated List Of Variables (SULOV) in 13 features ############\n",
            "#######################################################################################\n",
            "Selecting all (13) variables since none of numeric vars are highly correlated...\n",
            "Time taken for SULOV method = 0 seconds\n",
            "    Adding 0 categorical variables to reduced numeric variables  of 13\n",
            "Final list of selected 13 vars after SULOV = ['AGE', 'BMI', 'Chol', 'Cr', 'Gender', 'HDL', 'HbA1c', 'ID', 'LDL', 'No_Pation', 'TG', 'Urea', 'VLDL']\n",
            "Converting all features to numeric before sending to XGBoost...\n",
            "#######################################################################################\n",
            "#####    R E C U R S I V E   X G B O O S T : F E A T U R E   S E L E C T I O N  #######\n",
            "#######################################################################################\n",
            "    using regular XGBoost\n",
            "Current number of predictors before recursive XGBoost = 13 \n",
            "    Taking top 3 features per iteration...\n",
            "    XGBoost version using 0.90 as tree method: gpu_hist\n",
            "Number of booster rounds = 100\n",
            "        using 13 variables...\n",
            "Regular XGBoost is crashing due to: [16:55:36] /workspace/src/tree/updater_gpu_hist.cu:1407: Exception in gpu_hist: NCCL failure :unhandled cuda error /workspace/src/tree/../common/device_helpers.cuh(896)\n",
            "\n",
            "Stack trace:\n",
            "  [bt] (0) /usr/local/lib/python3.8/dist-packages/xgboost/./lib/libxgboost.so(dmlc::LogMessageFatal::~LogMessageFatal()+0x24) [0x7f98a850ecb4]\n",
            "  [bt] (1) /usr/local/lib/python3.8/dist-packages/xgboost/./lib/libxgboost.so(xgboost::tree::GPUHistMakerSpecialised<xgboost::detail::GradientPairInternal<double> >::Update(xgboost::HostDeviceVector<xgboost::detail::GradientPairInternal<float> >*, xgboost::DMatrix*, std::vector<xgboost::RegTree*, std::allocator<xgboost::RegTree*> > const&)+0x1270) [0x7f98a874a7f0]\n",
            "  [bt] (2) /usr/local/lib/python3.8/dist-packages/xgboost/./lib/libxgboost.so(xgboost::gbm::GBTree::BoostNewTrees(xgboost::HostDeviceVector<xgboost::detail::GradientPairInternal<float> >*, xgboost::DMatrix*, int, std::vector<std::unique_ptr<xgboost::RegTree, std::default_delete<xgboost::RegTree> >, std::allocator<std::unique_ptr<xgboost::RegTree, std::default_delete<xgboost::RegTree> > > >*)+0xa81) [0x7f98a8594791]\n",
            "  [bt] (3) /usr/local/lib/python3.8/dist-packages/xgboost/./lib/libxgboost.so(xgboost::gbm::GBTree::DoBoost(xgboost::DMatrix*, xgboost::HostDeviceVector<xgboost::detail::GradientPairInternal<float> >*, xgboost::ObjFunction*)+0x3f1) [0x7f98a8595321]\n",
            "  [bt] (4) /usr/local/lib/python3.8/dist-packages/xgboost/./lib/libxgboost.so(xgboost::LearnerImpl::UpdateOneIter(int, xgboost::DMatrix*)+0x396) [0x7f98a85a8556]\n",
            "  [bt] (5) /usr/local/lib/python3.8/dist-packages/xgboost/./lib/libxgboost.so(XGBoosterUpdateOneIter+0x35) [0x7f98a850baa5]\n",
            "  [bt] (6) /lib/x86_64-linux-gnu/libffi.so.7(+0x6ff5) [0x7f98d38e2ff5]\n",
            "  [bt] (7) /lib/x86_64-linux-gnu/libffi.so.7(+0x640a) [0x7f98d38e240a]\n",
            "  [bt] (8) /usr/lib/python3.8/lib-dynload/_ctypes.cpython-38-x86_64-linux-gnu.so(_ctypes_callproc+0x5b6) [0x7f98d31da306]\n",
            "\n",
            "\n",
            "[16:55:36] /workspace/src/tree/updater_gpu_hist.cu:1407: Exception in gpu_hist: NCCL failure :unhandled cuda error /workspace/src/tree/../common/device_helpers.cuh(896)\n",
            "\n",
            "Stack trace:\n",
            "  [bt] (0) /usr/local/lib/python3.8/dist-packages/xgboost/./lib/libxgboost.so(dmlc::LogMessageFatal::~LogMessageFatal()+0x24) [0x7f98a850ecb4]\n",
            "  [bt] (1) /usr/local/lib/python3.8/dist-packages/xgboost/./lib/libxgboost.so(xgboost::tree::GPUHistMakerSpecialised<xgboost::detail::GradientPairInternal<double> >::Update(xgboost::HostDeviceVector<xgboost::detail::GradientPairInternal<float> >*, xgboost::DMatrix*, std::vector<xgboost::RegTree*, std::allocator<xgboost::RegTree*> > const&)+0x1270) [0x7f98a874a7f0]\n",
            "  [bt] (2) /usr/local/lib/python3.8/dist-packages/xgboost/./lib/libxgboost.so(xgboost::gbm::GBTree::BoostNewTrees(xgboost::HostDeviceVector<xgboost::detail::GradientPairInternal<float> >*, xgboost::DMatrix*, int, std::vector<std::unique_ptr<xgboost::RegTree, std::default_delete<xgboost::RegTree> >, std::allocator<std::unique_ptr<xgboost::RegTree, std::default_delete<xgboost::RegTree> > > >*)+0xa81) [0x7f98a8594791]\n",
            "  [bt] (3) /usr/local/lib/python3.8/dist-packages/xgboost/./lib/libxgboost.so(xgboost::gbm::GBTree::DoBoost(xgboost::DMatrix*, xgboost::HostDeviceVector<xgboost::detail::GradientPairInternal<float> >*, xgboost::ObjFunction*)+0x3f1) [0x7f98a8595321]\n",
            "  [bt] (4) /usr/local/lib/python3.8/dist-packages/xgboost/./lib/libxgboost.so(xgboost::LearnerImpl::UpdateOneIter(int, xgboost::DMatrix*)+0x396) [0x7f98a85a8556]\n",
            "  [bt] (5) /usr/local/lib/python3.8/dist-packages/xgboost/./lib/libxgboost.so(XGBoosterUpdateOneIter+0x35) [0x7f98a850baa5]\n",
            "  [bt] (6) /lib/x86_64-linux-gnu/libffi.so.7(+0x6ff5) [0x7f98d38e2ff5]\n",
            "  [bt] (7) /lib/x86_64-linux-gnu/libffi.so.7(+0x640a) [0x7f98d38e240a]\n",
            "  [bt] (8) /usr/lib/python3.8/lib-dynload/_ctypes.cpython-38-x86_64-linux-gnu.so(_ctypes_callproc+0x5b6) [0x7f98d31da306]\n",
            "\n",
            "\n",
            "Regular XGBoost is crashing due to Invalid Parameter format for gpu_id expect int but value='None'. Returning with currently selected features...\n",
            "    Completed XGBoost feature selection in 0 seconds\n",
            "#######################################################################################\n",
            "#####          F E A T U R E   S E L E C T I O N   C O M P L E T E D            #######\n",
            "#######################################################################################\n",
            "Selected 13 important features:\n",
            "['AGE', 'BMI', 'Chol', 'Cr', 'Gender', 'HDL', 'HbA1c', 'ID', 'LDL', 'No_Pation', 'TG', 'Urea', 'VLDL']\n",
            "Total Time taken for featurewiz selection = 0 seconds\n",
            "Output contains a list of 13 important features and a train dataframe\n"
          ]
        }
      ],
      "source": [
        "target = 'CLASS'\n",
        " \n",
        "features= featurewiz(df, target, corr_limit=0.7, verbose=2, sep=\",\",\n",
        "header=0,test_data=\"\", feature_engg=\"\", category_encoders=\"\")"
      ]
    },
    {
      "cell_type": "code",
      "execution_count": 100,
      "metadata": {
        "colab": {
          "base_uri": "https://localhost:8080/"
        },
        "id": "o3GhYsP0RaJB",
        "outputId": "f3184013-d532-4b09-af85-b52084f93b1f"
      },
      "outputs": [
        {
          "output_type": "stream",
          "name": "stdout",
          "text": [
            "(['AGE', 'BMI', 'Chol', 'Cr', 'Gender', 'HDL', 'HbA1c', 'ID', 'LDL', 'No_Pation', 'TG', 'Urea', 'VLDL'],      AGE   BMI  Chol  Cr  Gender  HDL  HbA1c   ID  LDL  No_Pation   TG  Urea  \\\n",
            "0     50  24.0   4.2  46       0  2.4    4.9  502  1.4      17975  0.9   4.7   \n",
            "1     26  23.0   3.7  62       1  1.1    4.9  735  2.1      34221  1.4   4.5   \n",
            "2     50  24.0   4.2  46       0  2.4    4.9  420  1.4      47975  0.9   4.7   \n",
            "3     50  24.0   4.2  46       0  2.4    4.9  680  1.4      87656  0.9   4.7   \n",
            "4     33  21.0   4.9  46       1  0.8    4.9  504  2.0      34223  1.0   7.1   \n",
            "..   ...   ...   ...  ..     ...  ...    ...  ...  ...        ...  ...   ...   \n",
            "995   71  30.0   7.5  97       1  1.2    7.0  200  1.8     454317  1.7  11.0   \n",
            "996   31  37.2   4.1  60       1  0.7   12.3  671  2.4     876534  2.2   3.0   \n",
            "997   30  27.4   4.1  81       1  1.2    6.7  669  2.4      87654  1.1   7.1   \n",
            "998   38  40.5   5.3  59       1  1.6    6.7   99  2.9      24004  2.0   5.8   \n",
            "999   54  33.0   3.8  67       1  1.1    6.9  248  3.0      24054  1.7   5.0   \n",
            "\n",
            "     VLDL  CLASS  \n",
            "0     0.5      0  \n",
            "1     0.6      0  \n",
            "2     0.5      0  \n",
            "3     0.5      0  \n",
            "4     0.4      0  \n",
            "..    ...    ...  \n",
            "995   0.6      2  \n",
            "996  15.4      2  \n",
            "997   8.1      2  \n",
            "998  14.0      2  \n",
            "999   0.7      2  \n",
            "\n",
            "[1000 rows x 14 columns])\n"
          ]
        }
      ],
      "source": [
        "print(features)\n"
      ]
    },
    {
      "cell_type": "code",
      "execution_count": 101,
      "metadata": {
        "id": "k3pAX3oLu-Q3"
      },
      "outputs": [],
      "source": [
        "featuresinit=['AGE', 'BMI', 'Chol', 'Cr', 'Gender', 'HDL', 'HbA1c', 'ID', 'LDL', 'No_Pation', 'TG', 'Urea', 'VLDL']"
      ]
    },
    {
      "cell_type": "code",
      "execution_count": 102,
      "metadata": {
        "id": "SDvLWKZ-u-Q3"
      },
      "outputs": [],
      "source": [
        "featuresnewfromfeaturewiz=['HbA1c', 'AGE', 'BMI', 'No_Pation', 'Cr', 'TG', 'VLDL']\n"
      ]
    },
    {
      "cell_type": "code",
      "execution_count": 103,
      "metadata": {
        "id": "w8Wun4L5u-Q3"
      },
      "outputs": [],
      "source": [
        "#After Domain Expert Opinion, FeatureWIZ, FilterBased (Chi-Squared) and WrapperBased  Method = Selected Features. \n",
        "featuresfinal=['HbA1c', 'AGE', 'BMI', 'Chol', 'Cr', 'TG', 'VLDL', 'Urea','LDL','HDL']"
      ]
    },
    {
      "cell_type": "code",
      "execution_count": 104,
      "metadata": {
        "id": "iV5YHvQcQ7Lu"
      },
      "outputs": [],
      "source": [
        "features_for_lime=featuresfinal"
      ]
    },
    {
      "cell_type": "code",
      "execution_count": 105,
      "metadata": {
        "colab": {
          "base_uri": "https://localhost:8080/",
          "height": 206
        },
        "id": "hP70W4gaRaGj",
        "outputId": "c2738b89-d650-4bd3-8ab2-eb138cc8cab8"
      },
      "outputs": [
        {
          "output_type": "execute_result",
          "data": {
            "text/plain": [
              "         ID  No_Pation    Gender       AGE      Urea        Cr     HbA1c  \\\n",
              "0  0.672140  -0.074747 -1.139671 -0.401144 -0.144781 -0.382672 -1.334983   \n",
              "1  1.641852  -0.069940  0.877446 -3.130017 -0.212954 -0.115804 -1.334983   \n",
              "2  0.330868  -0.065869 -1.139671 -0.401144 -0.144781 -0.382672 -1.334983   \n",
              "3  1.412950  -0.054126 -1.139671 -0.401144 -0.144781 -0.382672 -1.334983   \n",
              "4  0.680463  -0.069939  0.877446 -2.334096  0.673299 -0.382672 -1.334983   \n",
              "\n",
              "       Chol        TG       HDL       LDL      VLDL       BMI     CLASS  \n",
              "0 -0.509436 -1.035084  1.810756 -1.085457 -0.369958 -1.124622 -2.759951  \n",
              "1 -0.893730 -0.678063 -0.158692 -0.457398 -0.342649 -1.326239 -2.759951  \n",
              "2 -0.509436 -1.035084  1.810756 -1.085457 -0.369958 -1.124622 -2.759951  \n",
              "3 -0.509436 -1.035084  1.810756 -1.085457 -0.369958 -1.124622 -2.759951  \n",
              "4  0.028576 -0.963680 -0.613180 -0.547121 -0.397267 -1.729472 -2.759951  "
            ],
            "text/html": [
              "\n",
              "  <div id=\"df-f819a32c-2474-4599-b35e-de4ddae68c2d\">\n",
              "    <div class=\"colab-df-container\">\n",
              "      <div>\n",
              "<style scoped>\n",
              "    .dataframe tbody tr th:only-of-type {\n",
              "        vertical-align: middle;\n",
              "    }\n",
              "\n",
              "    .dataframe tbody tr th {\n",
              "        vertical-align: top;\n",
              "    }\n",
              "\n",
              "    .dataframe thead th {\n",
              "        text-align: right;\n",
              "    }\n",
              "</style>\n",
              "<table border=\"1\" class=\"dataframe\">\n",
              "  <thead>\n",
              "    <tr style=\"text-align: right;\">\n",
              "      <th></th>\n",
              "      <th>ID</th>\n",
              "      <th>No_Pation</th>\n",
              "      <th>Gender</th>\n",
              "      <th>AGE</th>\n",
              "      <th>Urea</th>\n",
              "      <th>Cr</th>\n",
              "      <th>HbA1c</th>\n",
              "      <th>Chol</th>\n",
              "      <th>TG</th>\n",
              "      <th>HDL</th>\n",
              "      <th>LDL</th>\n",
              "      <th>VLDL</th>\n",
              "      <th>BMI</th>\n",
              "      <th>CLASS</th>\n",
              "    </tr>\n",
              "  </thead>\n",
              "  <tbody>\n",
              "    <tr>\n",
              "      <th>0</th>\n",
              "      <td>0.672140</td>\n",
              "      <td>-0.074747</td>\n",
              "      <td>-1.139671</td>\n",
              "      <td>-0.401144</td>\n",
              "      <td>-0.144781</td>\n",
              "      <td>-0.382672</td>\n",
              "      <td>-1.334983</td>\n",
              "      <td>-0.509436</td>\n",
              "      <td>-1.035084</td>\n",
              "      <td>1.810756</td>\n",
              "      <td>-1.085457</td>\n",
              "      <td>-0.369958</td>\n",
              "      <td>-1.124622</td>\n",
              "      <td>-2.759951</td>\n",
              "    </tr>\n",
              "    <tr>\n",
              "      <th>1</th>\n",
              "      <td>1.641852</td>\n",
              "      <td>-0.069940</td>\n",
              "      <td>0.877446</td>\n",
              "      <td>-3.130017</td>\n",
              "      <td>-0.212954</td>\n",
              "      <td>-0.115804</td>\n",
              "      <td>-1.334983</td>\n",
              "      <td>-0.893730</td>\n",
              "      <td>-0.678063</td>\n",
              "      <td>-0.158692</td>\n",
              "      <td>-0.457398</td>\n",
              "      <td>-0.342649</td>\n",
              "      <td>-1.326239</td>\n",
              "      <td>-2.759951</td>\n",
              "    </tr>\n",
              "    <tr>\n",
              "      <th>2</th>\n",
              "      <td>0.330868</td>\n",
              "      <td>-0.065869</td>\n",
              "      <td>-1.139671</td>\n",
              "      <td>-0.401144</td>\n",
              "      <td>-0.144781</td>\n",
              "      <td>-0.382672</td>\n",
              "      <td>-1.334983</td>\n",
              "      <td>-0.509436</td>\n",
              "      <td>-1.035084</td>\n",
              "      <td>1.810756</td>\n",
              "      <td>-1.085457</td>\n",
              "      <td>-0.369958</td>\n",
              "      <td>-1.124622</td>\n",
              "      <td>-2.759951</td>\n",
              "    </tr>\n",
              "    <tr>\n",
              "      <th>3</th>\n",
              "      <td>1.412950</td>\n",
              "      <td>-0.054126</td>\n",
              "      <td>-1.139671</td>\n",
              "      <td>-0.401144</td>\n",
              "      <td>-0.144781</td>\n",
              "      <td>-0.382672</td>\n",
              "      <td>-1.334983</td>\n",
              "      <td>-0.509436</td>\n",
              "      <td>-1.035084</td>\n",
              "      <td>1.810756</td>\n",
              "      <td>-1.085457</td>\n",
              "      <td>-0.369958</td>\n",
              "      <td>-1.124622</td>\n",
              "      <td>-2.759951</td>\n",
              "    </tr>\n",
              "    <tr>\n",
              "      <th>4</th>\n",
              "      <td>0.680463</td>\n",
              "      <td>-0.069939</td>\n",
              "      <td>0.877446</td>\n",
              "      <td>-2.334096</td>\n",
              "      <td>0.673299</td>\n",
              "      <td>-0.382672</td>\n",
              "      <td>-1.334983</td>\n",
              "      <td>0.028576</td>\n",
              "      <td>-0.963680</td>\n",
              "      <td>-0.613180</td>\n",
              "      <td>-0.547121</td>\n",
              "      <td>-0.397267</td>\n",
              "      <td>-1.729472</td>\n",
              "      <td>-2.759951</td>\n",
              "    </tr>\n",
              "  </tbody>\n",
              "</table>\n",
              "</div>\n",
              "      <button class=\"colab-df-convert\" onclick=\"convertToInteractive('df-f819a32c-2474-4599-b35e-de4ddae68c2d')\"\n",
              "              title=\"Convert this dataframe to an interactive table.\"\n",
              "              style=\"display:none;\">\n",
              "        \n",
              "  <svg xmlns=\"http://www.w3.org/2000/svg\" height=\"24px\"viewBox=\"0 0 24 24\"\n",
              "       width=\"24px\">\n",
              "    <path d=\"M0 0h24v24H0V0z\" fill=\"none\"/>\n",
              "    <path d=\"M18.56 5.44l.94 2.06.94-2.06 2.06-.94-2.06-.94-.94-2.06-.94 2.06-2.06.94zm-11 1L8.5 8.5l.94-2.06 2.06-.94-2.06-.94L8.5 2.5l-.94 2.06-2.06.94zm10 10l.94 2.06.94-2.06 2.06-.94-2.06-.94-.94-2.06-.94 2.06-2.06.94z\"/><path d=\"M17.41 7.96l-1.37-1.37c-.4-.4-.92-.59-1.43-.59-.52 0-1.04.2-1.43.59L10.3 9.45l-7.72 7.72c-.78.78-.78 2.05 0 2.83L4 21.41c.39.39.9.59 1.41.59.51 0 1.02-.2 1.41-.59l7.78-7.78 2.81-2.81c.8-.78.8-2.07 0-2.86zM5.41 20L4 18.59l7.72-7.72 1.47 1.35L5.41 20z\"/>\n",
              "  </svg>\n",
              "      </button>\n",
              "      \n",
              "  <style>\n",
              "    .colab-df-container {\n",
              "      display:flex;\n",
              "      flex-wrap:wrap;\n",
              "      gap: 12px;\n",
              "    }\n",
              "\n",
              "    .colab-df-convert {\n",
              "      background-color: #E8F0FE;\n",
              "      border: none;\n",
              "      border-radius: 50%;\n",
              "      cursor: pointer;\n",
              "      display: none;\n",
              "      fill: #1967D2;\n",
              "      height: 32px;\n",
              "      padding: 0 0 0 0;\n",
              "      width: 32px;\n",
              "    }\n",
              "\n",
              "    .colab-df-convert:hover {\n",
              "      background-color: #E2EBFA;\n",
              "      box-shadow: 0px 1px 2px rgba(60, 64, 67, 0.3), 0px 1px 3px 1px rgba(60, 64, 67, 0.15);\n",
              "      fill: #174EA6;\n",
              "    }\n",
              "\n",
              "    [theme=dark] .colab-df-convert {\n",
              "      background-color: #3B4455;\n",
              "      fill: #D2E3FC;\n",
              "    }\n",
              "\n",
              "    [theme=dark] .colab-df-convert:hover {\n",
              "      background-color: #434B5C;\n",
              "      box-shadow: 0px 1px 3px 1px rgba(0, 0, 0, 0.15);\n",
              "      filter: drop-shadow(0px 1px 2px rgba(0, 0, 0, 0.3));\n",
              "      fill: #FFFFFF;\n",
              "    }\n",
              "  </style>\n",
              "\n",
              "      <script>\n",
              "        const buttonEl =\n",
              "          document.querySelector('#df-f819a32c-2474-4599-b35e-de4ddae68c2d button.colab-df-convert');\n",
              "        buttonEl.style.display =\n",
              "          google.colab.kernel.accessAllowed ? 'block' : 'none';\n",
              "\n",
              "        async function convertToInteractive(key) {\n",
              "          const element = document.querySelector('#df-f819a32c-2474-4599-b35e-de4ddae68c2d');\n",
              "          const dataTable =\n",
              "            await google.colab.kernel.invokeFunction('convertToInteractive',\n",
              "                                                     [key], {});\n",
              "          if (!dataTable) return;\n",
              "\n",
              "          const docLinkHtml = 'Like what you see? Visit the ' +\n",
              "            '<a target=\"_blank\" href=https://colab.research.google.com/notebooks/data_table.ipynb>data table notebook</a>'\n",
              "            + ' to learn more about interactive tables.';\n",
              "          element.innerHTML = '';\n",
              "          dataTable['output_type'] = 'display_data';\n",
              "          await google.colab.output.renderOutput(dataTable, element);\n",
              "          const docLink = document.createElement('div');\n",
              "          docLink.innerHTML = docLinkHtml;\n",
              "          element.appendChild(docLink);\n",
              "        }\n",
              "      </script>\n",
              "    </div>\n",
              "  </div>\n",
              "  "
            ]
          },
          "metadata": {},
          "execution_count": 105
        }
      ],
      "source": [
        "#df.head(5)\n",
        "df_scaledstd.head(5)"
      ]
    },
    {
      "cell_type": "markdown",
      "metadata": {
        "id": "1ZnGaGlpRkE_"
      },
      "source": []
    },
    {
      "cell_type": "code",
      "execution_count": 106,
      "metadata": {
        "id": "jz8XHvbPRnPm"
      },
      "outputs": [],
      "source": [
        "#df_new=df_scaledstd.drop('ID', axis=1)\n",
        "df_new=df_scaledstd.drop(columns=['ID', 'Gender', 'No_Pation'])\n"
      ]
    },
    {
      "cell_type": "code",
      "execution_count": 107,
      "metadata": {
        "colab": {
          "base_uri": "https://localhost:8080/",
          "height": 206
        },
        "id": "QBConG645fdI",
        "outputId": "47b7540f-5d4f-4c00-b54a-52578d949d30"
      },
      "outputs": [
        {
          "output_type": "execute_result",
          "data": {
            "text/plain": [
              "        AGE      Urea        Cr     HbA1c      Chol        TG       HDL  \\\n",
              "0 -0.401144 -0.144781 -0.382672 -1.334983 -0.509436 -1.035084  1.810756   \n",
              "1 -3.130017 -0.212954 -0.115804 -1.334983 -0.893730 -0.678063 -0.158692   \n",
              "2 -0.401144 -0.144781 -0.382672 -1.334983 -0.509436 -1.035084  1.810756   \n",
              "3 -0.401144 -0.144781 -0.382672 -1.334983 -0.509436 -1.035084  1.810756   \n",
              "4 -2.334096  0.673299 -0.382672 -1.334983  0.028576 -0.963680 -0.613180   \n",
              "\n",
              "        LDL      VLDL       BMI     CLASS  \n",
              "0 -1.085457 -0.369958 -1.124622 -2.759951  \n",
              "1 -0.457398 -0.342649 -1.326239 -2.759951  \n",
              "2 -1.085457 -0.369958 -1.124622 -2.759951  \n",
              "3 -1.085457 -0.369958 -1.124622 -2.759951  \n",
              "4 -0.547121 -0.397267 -1.729472 -2.759951  "
            ],
            "text/html": [
              "\n",
              "  <div id=\"df-31f3d255-0d9c-4995-b88e-3d7cfa0cf741\">\n",
              "    <div class=\"colab-df-container\">\n",
              "      <div>\n",
              "<style scoped>\n",
              "    .dataframe tbody tr th:only-of-type {\n",
              "        vertical-align: middle;\n",
              "    }\n",
              "\n",
              "    .dataframe tbody tr th {\n",
              "        vertical-align: top;\n",
              "    }\n",
              "\n",
              "    .dataframe thead th {\n",
              "        text-align: right;\n",
              "    }\n",
              "</style>\n",
              "<table border=\"1\" class=\"dataframe\">\n",
              "  <thead>\n",
              "    <tr style=\"text-align: right;\">\n",
              "      <th></th>\n",
              "      <th>AGE</th>\n",
              "      <th>Urea</th>\n",
              "      <th>Cr</th>\n",
              "      <th>HbA1c</th>\n",
              "      <th>Chol</th>\n",
              "      <th>TG</th>\n",
              "      <th>HDL</th>\n",
              "      <th>LDL</th>\n",
              "      <th>VLDL</th>\n",
              "      <th>BMI</th>\n",
              "      <th>CLASS</th>\n",
              "    </tr>\n",
              "  </thead>\n",
              "  <tbody>\n",
              "    <tr>\n",
              "      <th>0</th>\n",
              "      <td>-0.401144</td>\n",
              "      <td>-0.144781</td>\n",
              "      <td>-0.382672</td>\n",
              "      <td>-1.334983</td>\n",
              "      <td>-0.509436</td>\n",
              "      <td>-1.035084</td>\n",
              "      <td>1.810756</td>\n",
              "      <td>-1.085457</td>\n",
              "      <td>-0.369958</td>\n",
              "      <td>-1.124622</td>\n",
              "      <td>-2.759951</td>\n",
              "    </tr>\n",
              "    <tr>\n",
              "      <th>1</th>\n",
              "      <td>-3.130017</td>\n",
              "      <td>-0.212954</td>\n",
              "      <td>-0.115804</td>\n",
              "      <td>-1.334983</td>\n",
              "      <td>-0.893730</td>\n",
              "      <td>-0.678063</td>\n",
              "      <td>-0.158692</td>\n",
              "      <td>-0.457398</td>\n",
              "      <td>-0.342649</td>\n",
              "      <td>-1.326239</td>\n",
              "      <td>-2.759951</td>\n",
              "    </tr>\n",
              "    <tr>\n",
              "      <th>2</th>\n",
              "      <td>-0.401144</td>\n",
              "      <td>-0.144781</td>\n",
              "      <td>-0.382672</td>\n",
              "      <td>-1.334983</td>\n",
              "      <td>-0.509436</td>\n",
              "      <td>-1.035084</td>\n",
              "      <td>1.810756</td>\n",
              "      <td>-1.085457</td>\n",
              "      <td>-0.369958</td>\n",
              "      <td>-1.124622</td>\n",
              "      <td>-2.759951</td>\n",
              "    </tr>\n",
              "    <tr>\n",
              "      <th>3</th>\n",
              "      <td>-0.401144</td>\n",
              "      <td>-0.144781</td>\n",
              "      <td>-0.382672</td>\n",
              "      <td>-1.334983</td>\n",
              "      <td>-0.509436</td>\n",
              "      <td>-1.035084</td>\n",
              "      <td>1.810756</td>\n",
              "      <td>-1.085457</td>\n",
              "      <td>-0.369958</td>\n",
              "      <td>-1.124622</td>\n",
              "      <td>-2.759951</td>\n",
              "    </tr>\n",
              "    <tr>\n",
              "      <th>4</th>\n",
              "      <td>-2.334096</td>\n",
              "      <td>0.673299</td>\n",
              "      <td>-0.382672</td>\n",
              "      <td>-1.334983</td>\n",
              "      <td>0.028576</td>\n",
              "      <td>-0.963680</td>\n",
              "      <td>-0.613180</td>\n",
              "      <td>-0.547121</td>\n",
              "      <td>-0.397267</td>\n",
              "      <td>-1.729472</td>\n",
              "      <td>-2.759951</td>\n",
              "    </tr>\n",
              "  </tbody>\n",
              "</table>\n",
              "</div>\n",
              "      <button class=\"colab-df-convert\" onclick=\"convertToInteractive('df-31f3d255-0d9c-4995-b88e-3d7cfa0cf741')\"\n",
              "              title=\"Convert this dataframe to an interactive table.\"\n",
              "              style=\"display:none;\">\n",
              "        \n",
              "  <svg xmlns=\"http://www.w3.org/2000/svg\" height=\"24px\"viewBox=\"0 0 24 24\"\n",
              "       width=\"24px\">\n",
              "    <path d=\"M0 0h24v24H0V0z\" fill=\"none\"/>\n",
              "    <path d=\"M18.56 5.44l.94 2.06.94-2.06 2.06-.94-2.06-.94-.94-2.06-.94 2.06-2.06.94zm-11 1L8.5 8.5l.94-2.06 2.06-.94-2.06-.94L8.5 2.5l-.94 2.06-2.06.94zm10 10l.94 2.06.94-2.06 2.06-.94-2.06-.94-.94-2.06-.94 2.06-2.06.94z\"/><path d=\"M17.41 7.96l-1.37-1.37c-.4-.4-.92-.59-1.43-.59-.52 0-1.04.2-1.43.59L10.3 9.45l-7.72 7.72c-.78.78-.78 2.05 0 2.83L4 21.41c.39.39.9.59 1.41.59.51 0 1.02-.2 1.41-.59l7.78-7.78 2.81-2.81c.8-.78.8-2.07 0-2.86zM5.41 20L4 18.59l7.72-7.72 1.47 1.35L5.41 20z\"/>\n",
              "  </svg>\n",
              "      </button>\n",
              "      \n",
              "  <style>\n",
              "    .colab-df-container {\n",
              "      display:flex;\n",
              "      flex-wrap:wrap;\n",
              "      gap: 12px;\n",
              "    }\n",
              "\n",
              "    .colab-df-convert {\n",
              "      background-color: #E8F0FE;\n",
              "      border: none;\n",
              "      border-radius: 50%;\n",
              "      cursor: pointer;\n",
              "      display: none;\n",
              "      fill: #1967D2;\n",
              "      height: 32px;\n",
              "      padding: 0 0 0 0;\n",
              "      width: 32px;\n",
              "    }\n",
              "\n",
              "    .colab-df-convert:hover {\n",
              "      background-color: #E2EBFA;\n",
              "      box-shadow: 0px 1px 2px rgba(60, 64, 67, 0.3), 0px 1px 3px 1px rgba(60, 64, 67, 0.15);\n",
              "      fill: #174EA6;\n",
              "    }\n",
              "\n",
              "    [theme=dark] .colab-df-convert {\n",
              "      background-color: #3B4455;\n",
              "      fill: #D2E3FC;\n",
              "    }\n",
              "\n",
              "    [theme=dark] .colab-df-convert:hover {\n",
              "      background-color: #434B5C;\n",
              "      box-shadow: 0px 1px 3px 1px rgba(0, 0, 0, 0.15);\n",
              "      filter: drop-shadow(0px 1px 2px rgba(0, 0, 0, 0.3));\n",
              "      fill: #FFFFFF;\n",
              "    }\n",
              "  </style>\n",
              "\n",
              "      <script>\n",
              "        const buttonEl =\n",
              "          document.querySelector('#df-31f3d255-0d9c-4995-b88e-3d7cfa0cf741 button.colab-df-convert');\n",
              "        buttonEl.style.display =\n",
              "          google.colab.kernel.accessAllowed ? 'block' : 'none';\n",
              "\n",
              "        async function convertToInteractive(key) {\n",
              "          const element = document.querySelector('#df-31f3d255-0d9c-4995-b88e-3d7cfa0cf741');\n",
              "          const dataTable =\n",
              "            await google.colab.kernel.invokeFunction('convertToInteractive',\n",
              "                                                     [key], {});\n",
              "          if (!dataTable) return;\n",
              "\n",
              "          const docLinkHtml = 'Like what you see? Visit the ' +\n",
              "            '<a target=\"_blank\" href=https://colab.research.google.com/notebooks/data_table.ipynb>data table notebook</a>'\n",
              "            + ' to learn more about interactive tables.';\n",
              "          element.innerHTML = '';\n",
              "          dataTable['output_type'] = 'display_data';\n",
              "          await google.colab.output.renderOutput(dataTable, element);\n",
              "          const docLink = document.createElement('div');\n",
              "          docLink.innerHTML = docLinkHtml;\n",
              "          element.appendChild(docLink);\n",
              "        }\n",
              "      </script>\n",
              "    </div>\n",
              "  </div>\n",
              "  "
            ]
          },
          "metadata": {},
          "execution_count": 107
        }
      ],
      "source": [
        "df_new.head(5)"
      ]
    },
    {
      "cell_type": "code",
      "execution_count": 108,
      "metadata": {
        "colab": {
          "base_uri": "https://localhost:8080/"
        },
        "id": "as2rSG4h5fdI",
        "outputId": "fc883c5a-1ec9-4784-e7f0-982ffa9c45e4"
      },
      "outputs": [
        {
          "output_type": "execute_result",
          "data": {
            "text/plain": [
              "array([0, 1, 2])"
            ]
          },
          "metadata": {},
          "execution_count": 108
        }
      ],
      "source": [
        "dfnew=df_new\n",
        "#dfnew.info()\n",
        "df['CLASS'].unique()"
      ]
    },
    {
      "cell_type": "code",
      "execution_count": 109,
      "metadata": {
        "id": "YhQx_QbnwgvG"
      },
      "outputs": [],
      "source": [
        "X = dfnew.drop( 'CLASS', axis=1)\n",
        "y = df['CLASS']\n"
      ]
    },
    {
      "cell_type": "code",
      "execution_count": 110,
      "metadata": {
        "colab": {
          "base_uri": "https://localhost:8080/"
        },
        "id": "DqjkWVZV5fdI",
        "outputId": "617bb4a9-4b83-46c5-fb84-04a7447a9891"
      },
      "outputs": [
        {
          "output_type": "execute_result",
          "data": {
            "text/plain": [
              "(1000, 10)"
            ]
          },
          "metadata": {},
          "execution_count": 110
        }
      ],
      "source": [
        "X.shape\n",
        "\n"
      ]
    },
    {
      "cell_type": "code",
      "execution_count": 111,
      "metadata": {
        "colab": {
          "base_uri": "https://localhost:8080/"
        },
        "id": "XHxxEqAj5fdI",
        "outputId": "d78c8d82-a6f0-44e7-d908-66fa62c42bed"
      },
      "outputs": [
        {
          "output_type": "execute_result",
          "data": {
            "text/plain": [
              "(1000,)"
            ]
          },
          "metadata": {},
          "execution_count": 111
        }
      ],
      "source": [
        "y.shape"
      ]
    },
    {
      "cell_type": "code",
      "execution_count": 112,
      "metadata": {
        "id": "4DG9nVBcQaoK"
      },
      "outputs": [],
      "source": [
        "#Splitting the dataset into the Training set and Test set\n",
        "X_train, X_test, y_train, y_test = train_test_split(X.values, y.values, test_size = 0.2, random_state = 0, stratify = y)"
      ]
    },
    {
      "cell_type": "code",
      "execution_count": 113,
      "metadata": {
        "colab": {
          "base_uri": "https://localhost:8080/"
        },
        "id": "S_YXnS6E5fdJ",
        "outputId": "ae0fab2b-a22a-4301-afbc-75eaf4989bc5"
      },
      "outputs": [
        {
          "output_type": "stream",
          "name": "stdout",
          "text": [
            "Number transactions X_train dataset:  (800, 10)\n",
            "Number transactions y_train dataset:  (800,)\n",
            "Number transactions X_test dataset:  (200, 10)\n",
            "Number transactions y_test dataset:  (200,)\n"
          ]
        }
      ],
      "source": [
        "from sklearn.model_selection import KFold\n",
        "from sklearn.model_selection import cross_val_score\n",
        "from sklearn.metrics import ConfusionMatrixDisplay\n",
        "from sklearn import metrics\n",
        "from sklearn.metrics import classification_report\n",
        "# describes info about train and test set\n",
        "print(\"Number transactions X_train dataset: \", X_train.shape)\n",
        "print(\"Number transactions y_train dataset: \", y_train.shape)\n",
        "print(\"Number transactions X_test dataset: \", X_test.shape)\n",
        "print(\"Number transactions y_test dataset: \", y_test.shape)"
      ]
    },
    {
      "cell_type": "code",
      "execution_count": 113,
      "metadata": {
        "id": "w3d0dBcG5fdJ"
      },
      "outputs": [],
      "source": [
        "\n"
      ]
    },
    {
      "cell_type": "code",
      "execution_count": 114,
      "metadata": {
        "colab": {
          "base_uri": "https://localhost:8080/"
        },
        "id": "LrNSzVqAu-Q5",
        "outputId": "f4cc1674-ce5a-448a-f189-c94e463b8968"
      },
      "outputs": [
        {
          "output_type": "stream",
          "name": "stdout",
          "text": [
            "              precision    recall  f1-score   support\n",
            "\n",
            "           0       0.75      0.86      0.80        21\n",
            "           1       0.25      0.10      0.14        10\n",
            "           2       0.96      0.98      0.97       169\n",
            "\n",
            "    accuracy                           0.92       200\n",
            "   macro avg       0.65      0.64      0.64       200\n",
            "weighted avg       0.90      0.92      0.91       200\n",
            "\n",
            "mse= 0.14\n",
            "msle= 0.04190437295046746\n",
            "mae= 0.1\n",
            "rmse= 0.37416573867739417\n"
          ]
        }
      ],
      "source": [
        "# logistic regression object\n",
        "lr = LogisticRegression()\n",
        "  \n",
        "# train the model on train set\n",
        "lr.fit(X_train, y_train.ravel())\n",
        "  \n",
        "predictions = lr.predict(X_test)\n",
        "  \n",
        "# print classification report\n",
        "print(classification_report(y_test, predictions))\n",
        "\n",
        "\n",
        "#import result of mse\n",
        "print(\"mse=\",  metrics.mean_squared_error(y_test, predictions))\n",
        "#import result of mae\n",
        "print(\"msle=\",  metrics.mean_squared_log_error(y_test, predictions))\n",
        "#import result of mae\n",
        "print(\"mae=\", metrics.mean_absolute_error(y_test, predictions))\n",
        "\n",
        "#import result of rmse\n",
        "print(\"rmse=\", np.sqrt(metrics.mean_squared_error(y_test, predictions)))"
      ]
    },
    {
      "cell_type": "code",
      "execution_count": 115,
      "metadata": {
        "colab": {
          "base_uri": "https://localhost:8080/"
        },
        "id": "Ali_ZXCi9bPj",
        "outputId": "cb9454b1-d3ae-470b-99ea-4df7e05fef2e"
      },
      "outputs": [
        {
          "output_type": "stream",
          "name": "stdout",
          "text": [
            "              precision    recall  f1-score   support\n",
            "\n",
            "           0       0.95      0.95      0.95        21\n",
            "           1       1.00      0.90      0.95        10\n",
            "           2       0.99      0.99      0.99       169\n",
            "\n",
            "    accuracy                           0.98       200\n",
            "   macro avg       0.98      0.95      0.96       200\n",
            "weighted avg       0.99      0.98      0.98       200\n",
            "\n",
            "mse= 0.045\n",
            "msle= 0.012891499377591643\n",
            "mae= 0.025\n",
            "rmse= 0.21213203435596426\n"
          ]
        }
      ],
      "source": [
        "DT = DecisionTreeClassifier()\n",
        "DT.fit(X_train, y_train.ravel())\n",
        "predictions = DT.predict(X_test)\n",
        "  \n",
        "# print classification report\n",
        "print(classification_report(y_test, predictions))\n",
        "#import result of mse\n",
        "print(\"mse=\",  metrics.mean_squared_error(y_test, predictions))\n",
        "#import result of mae\n",
        "print(\"msle=\",  metrics.mean_squared_log_error(y_test, predictions))\n",
        "#import result of mae\n",
        "print(\"mae=\", metrics.mean_absolute_error(y_test, predictions))\n",
        "\n",
        "#import result of rmse\n",
        "print(\"rmse=\", np.sqrt(metrics.mean_squared_error(y_test, predictions)))"
      ]
    },
    {
      "cell_type": "code",
      "execution_count": 116,
      "metadata": {
        "colab": {
          "base_uri": "https://localhost:8080/"
        },
        "id": "wJvjUO-y_hVy",
        "outputId": "a9bb57db-11ca-4317-e59c-091d3bf662ba"
      },
      "outputs": [
        {
          "output_type": "stream",
          "name": "stdout",
          "text": [
            "              precision    recall  f1-score   support\n",
            "\n",
            "           0       0.77      0.81      0.79        21\n",
            "           1       0.75      0.30      0.43        10\n",
            "           2       0.95      0.98      0.97       169\n",
            "\n",
            "    accuracy                           0.93       200\n",
            "   macro avg       0.83      0.70      0.73       200\n",
            "weighted avg       0.92      0.93      0.92       200\n",
            "\n",
            "mse= 0.16\n",
            "msle= 0.0475253128804796\n",
            "mae= 0.1\n",
            "rmse= 0.4\n"
          ]
        }
      ],
      "source": [
        "# support vector machine object\n",
        "svm = SVC(kernel='linear')\n",
        "  \n",
        "# train the model on train set\n",
        "svm.fit(X_train, y_train.ravel())\n",
        "  \n",
        "predictions = svm.predict(X_test)\n",
        "  \n",
        "# print classification report\n",
        "print(classification_report(y_test, predictions))\n",
        "#import result of mse\n",
        "print(\"mse=\",  metrics.mean_squared_error(y_test, predictions))\n",
        "#import result of mae\n",
        "print(\"msle=\",  metrics.mean_squared_log_error(y_test, predictions))\n",
        "#import result of mae\n",
        "print(\"mae=\", metrics.mean_absolute_error(y_test, predictions))\n",
        "\n",
        "#import result of rmse\n",
        "print(\"rmse=\", np.sqrt(metrics.mean_squared_error(y_test, predictions)))"
      ]
    },
    {
      "cell_type": "code",
      "execution_count": 117,
      "metadata": {
        "colab": {
          "base_uri": "https://localhost:8080/"
        },
        "id": "L9z6HsQqu-Q5",
        "outputId": "f2b24d06-369b-4a5d-96c6-7fb1c282b1ff"
      },
      "outputs": [
        {
          "output_type": "stream",
          "name": "stdout",
          "text": [
            "              precision    recall  f1-score   support\n",
            "\n",
            "           0       0.75      0.71      0.73        21\n",
            "           1       0.67      0.20      0.31        10\n",
            "           2       0.94      0.99      0.97       169\n",
            "\n",
            "    accuracy                           0.92       200\n",
            "   macro avg       0.79      0.63      0.67       200\n",
            "weighted avg       0.91      0.92      0.91       200\n",
            "\n",
            "mse= 0.185\n",
            "msle= 0.055962322754133514\n",
            "mae= 0.115\n",
            "rmse= 0.4301162633521313\n"
          ]
        }
      ],
      "source": [
        "# support vector machine object rbf\n",
        "svm = SVC(kernel='rbf')\n",
        "  \n",
        "# train the model on train set\n",
        "svm.fit(X_train, y_train.ravel())\n",
        "  \n",
        "predictions = svm.predict(X_test)\n",
        "  \n",
        "# print classification report\n",
        "print(classification_report(y_test, predictions))\n",
        "#import result of mse\n",
        "print(\"mse=\",  metrics.mean_squared_error(y_test, predictions))\n",
        "#import result of mae\n",
        "print(\"msle=\",  metrics.mean_squared_log_error(y_test, predictions))\n",
        "#import result of mae\n",
        "print(\"mae=\", metrics.mean_absolute_error(y_test, predictions))\n",
        "\n",
        "#import result of rmse\n",
        "print(\"rmse=\", np.sqrt(metrics.mean_squared_error(y_test, predictions)))"
      ]
    },
    {
      "cell_type": "code",
      "execution_count": 118,
      "metadata": {
        "colab": {
          "base_uri": "https://localhost:8080/"
        },
        "id": "LyYCrNHN_hS_",
        "outputId": "70ef1d97-74b0-4851-f3a6-73210b97cae6"
      },
      "outputs": [
        {
          "output_type": "stream",
          "name": "stdout",
          "text": [
            "              precision    recall  f1-score   support\n",
            "\n",
            "           0       0.70      0.67      0.68        21\n",
            "           1       0.33      0.30      0.32        10\n",
            "           2       0.95      0.96      0.96       169\n",
            "\n",
            "    accuracy                           0.90       200\n",
            "   macro avg       0.66      0.64      0.65       200\n",
            "weighted avg       0.90      0.90      0.90       200\n",
            "\n",
            "mse= 0.205\n",
            "msle= 0.06241087243224719\n",
            "mae= 0.135\n",
            "rmse= 0.4527692569068708\n"
          ]
        }
      ],
      "source": [
        "# KNN classifier machine object\n",
        "KNN =  KNeighborsClassifier()\n",
        "  \n",
        "# train the model on train set\n",
        "KNN.fit(X_train, y_train.ravel())\n",
        "  \n",
        "predictions = KNN.predict(X_test)\n",
        "  \n",
        "# print classification report\n",
        "print(classification_report(y_test, predictions))\n",
        "#import result of mse\n",
        "print(\"mse=\",  metrics.mean_squared_error(y_test, predictions))\n",
        "#import result of mae\n",
        "print(\"msle=\",  metrics.mean_squared_log_error(y_test, predictions))\n",
        "#import result of mae\n",
        "print(\"mae=\", metrics.mean_absolute_error(y_test, predictions))\n",
        "\n",
        "#import result of rmse\n",
        "print(\"rmse=\", np.sqrt(metrics.mean_squared_error(y_test, predictions)))"
      ]
    },
    {
      "cell_type": "code",
      "execution_count": 119,
      "metadata": {
        "colab": {
          "base_uri": "https://localhost:8080/"
        },
        "id": "OshVDx7q_hQf",
        "outputId": "01d1649f-e941-408b-f520-b511f305d92b"
      },
      "outputs": [
        {
          "output_type": "stream",
          "name": "stdout",
          "text": [
            "              precision    recall  f1-score   support\n",
            "\n",
            "           0       0.60      0.86      0.71        21\n",
            "           1       0.55      0.60      0.57        10\n",
            "           2       0.97      0.92      0.95       169\n",
            "\n",
            "    accuracy                           0.90       200\n",
            "   macro avg       0.71      0.79      0.74       200\n",
            "weighted avg       0.91      0.90      0.90       200\n",
            "\n",
            "mse= 0.285\n",
            "msle= 0.08455579147432289\n",
            "mae= 0.165\n",
            "rmse= 0.5338539126015656\n"
          ]
        }
      ],
      "source": [
        "# GNB classifier machine object\n",
        "GNB =  GaussianNB()\n",
        "  \n",
        "# train the model on train set\n",
        "GNB.fit(X_train, y_train.ravel())\n",
        "  \n",
        "predictions = GNB.predict(X_test)\n",
        "  \n",
        "# print classification report\n",
        "print(classification_report(y_test, predictions))\n",
        "#import result of mse\n",
        "print(\"mse=\",  metrics.mean_squared_error(y_test, predictions))\n",
        "#import result of mae\n",
        "print(\"msle=\",  metrics.mean_squared_log_error(y_test, predictions))\n",
        "#import result of mae\n",
        "print(\"mae=\", metrics.mean_absolute_error(y_test, predictions))\n",
        "\n",
        "#import result of rmse\n",
        "print(\"rmse=\", np.sqrt(metrics.mean_squared_error(y_test, predictions)))"
      ]
    },
    {
      "cell_type": "code",
      "execution_count": 120,
      "metadata": {
        "colab": {
          "base_uri": "https://localhost:8080/"
        },
        "id": "aNqM3qiF_hN3",
        "outputId": "927bdd02-0aeb-4d7d-bfa1-55792a0ee8a6"
      },
      "outputs": [
        {
          "output_type": "stream",
          "name": "stdout",
          "text": [
            "              precision    recall  f1-score   support\n",
            "\n",
            "           0       0.95      1.00      0.98        21\n",
            "           1       1.00      0.90      0.95        10\n",
            "           2       0.99      0.99      0.99       169\n",
            "\n",
            "    accuracy                           0.99       200\n",
            "   macro avg       0.98      0.96      0.97       200\n",
            "weighted avg       0.99      0.99      0.99       200\n",
            "\n",
            "mse= 0.025\n",
            "msle= 0.0068567545735287345\n",
            "mae= 0.015\n",
            "rmse= 0.15811388300841897\n"
          ]
        }
      ],
      "source": [
        "# XGB classifier machine object\n",
        "XGB = XGBClassifier()\n",
        "  \n",
        "# train the model on train set\n",
        "XGB.fit(X_train, y_train.ravel())\n",
        "  \n",
        "predictions = XGB.predict(X_test)\n",
        "  \n",
        "# print classification report\n",
        "print(classification_report(y_test, predictions))\n",
        "#import result of mse\n",
        "print(\"mse=\",  metrics.mean_squared_error(y_test, predictions))\n",
        "#import result of mae\n",
        "print(\"msle=\",  metrics.mean_squared_log_error(y_test, predictions))\n",
        "#import result of mae\n",
        "print(\"mae=\", metrics.mean_absolute_error(y_test, predictions))\n",
        "\n",
        "#import result of rmse\n",
        "print(\"rmse=\", np.sqrt(metrics.mean_squared_error(y_test, predictions)))"
      ]
    },
    {
      "cell_type": "code",
      "execution_count": 121,
      "metadata": {
        "colab": {
          "base_uri": "https://localhost:8080/"
        },
        "id": "aOG4ePqe_hK_",
        "outputId": "2f01a978-1ceb-4007-a9a6-6eb4564dca49"
      },
      "outputs": [
        {
          "output_type": "stream",
          "name": "stdout",
          "text": [
            "              precision    recall  f1-score   support\n",
            "\n",
            "           0       0.82      0.86      0.84        21\n",
            "           1       0.67      0.40      0.50        10\n",
            "           2       0.97      0.98      0.97       169\n",
            "\n",
            "    accuracy                           0.94       200\n",
            "   macro avg       0.82      0.75      0.77       200\n",
            "weighted avg       0.93      0.94      0.94       200\n",
            "\n",
            "mse= 0.12\n",
            "msle= 0.03545582327235379\n",
            "mae= 0.08\n",
            "rmse= 0.34641016151377546\n"
          ]
        }
      ],
      "source": [
        "# MLP classifier machine object\n",
        "MLP = MLPClassifier(random_state=1, max_iter=300)\n",
        "# train the model on train set\n",
        "MLP.fit(X_train, y_train.ravel())\n",
        "  \n",
        "predictions = MLP.predict(X_test)\n",
        "  \n",
        "# print classification report\n",
        "print(classification_report(y_test, predictions))\n",
        "#import result of mse\n",
        "print(\"mse=\",  metrics.mean_squared_error(y_test, predictions))\n",
        "#import result of mae\n",
        "print(\"msle=\",  metrics.mean_squared_log_error(y_test, predictions))\n",
        "#import result of mae\n",
        "print(\"mae=\", metrics.mean_absolute_error(y_test, predictions))\n",
        "\n",
        "#import result of rmse\n",
        "print(\"rmse=\", np.sqrt(metrics.mean_squared_error(y_test, predictions)))"
      ]
    },
    {
      "cell_type": "code",
      "execution_count": 122,
      "metadata": {
        "colab": {
          "base_uri": "https://localhost:8080/"
        },
        "id": "gT-dKHM7_hIQ",
        "outputId": "3f65be7d-be1e-4d91-94d0-323e48b97464"
      },
      "outputs": [
        {
          "output_type": "stream",
          "name": "stdout",
          "text": [
            "              precision    recall  f1-score   support\n",
            "\n",
            "           0       0.95      1.00      0.98        21\n",
            "           1       0.56      1.00      0.71        10\n",
            "           2       1.00      0.95      0.97       169\n",
            "\n",
            "    accuracy                           0.95       200\n",
            "   macro avg       0.84      0.98      0.89       200\n",
            "weighted avg       0.97      0.95      0.96       200\n",
            "\n",
            "mse= 0.06\n",
            "msle= 0.012610822959789521\n",
            "mae= 0.05\n",
            "rmse= 0.2449489742783178\n"
          ]
        }
      ],
      "source": [
        "# adaboost classifier machine object\n",
        "adaboost =AdaBoostClassifier(random_state=96)\n",
        "# train the model on train set\n",
        "adaboost.fit(X_train, y_train.ravel())\n",
        "  \n",
        "predictions = adaboost.predict(X_test)\n",
        "  \n",
        "# print classification report\n",
        "print(classification_report(y_test, predictions))\n",
        "#import result of mse\n",
        "print(\"mse=\",  metrics.mean_squared_error(y_test, predictions))\n",
        "#import result of mae\n",
        "print(\"msle=\",  metrics.mean_squared_log_error(y_test, predictions))\n",
        "#import result of mae\n",
        "print(\"mae=\", metrics.mean_absolute_error(y_test, predictions))\n",
        "\n",
        "#import result of rmse\n",
        "print(\"rmse=\", np.sqrt(metrics.mean_squared_error(y_test, predictions)))"
      ]
    },
    {
      "cell_type": "code",
      "execution_count": 123,
      "metadata": {
        "colab": {
          "base_uri": "https://localhost:8080/"
        },
        "id": "gXKh6VHfGyN7",
        "outputId": "6caa8649-e7fe-4141-88e9-bfd8bdbc249a"
      },
      "outputs": [
        {
          "output_type": "stream",
          "name": "stdout",
          "text": [
            "              precision    recall  f1-score   support\n",
            "\n",
            "           0       0.81      1.00      0.89        21\n",
            "           1       0.00      0.00      0.00        10\n",
            "           2       0.96      0.99      0.97       169\n",
            "\n",
            "    accuracy                           0.94       200\n",
            "   macro avg       0.59      0.66      0.62       200\n",
            "weighted avg       0.90      0.94      0.92       200\n",
            "\n",
            "mse= 0.09\n",
            "msle= 0.025030353203159626\n",
            "mae= 0.07\n",
            "rmse= 0.3\n"
          ]
        }
      ],
      "source": [
        "# random Forest classifier machine object\n",
        "RF =RandomForestClassifier(max_depth=2, random_state=0)\n",
        "# train the model on train set\n",
        "RF.fit(X_train, y_train.ravel())\n",
        "  \n",
        "predictions = RF.predict(X_test)\n",
        "  \n",
        "# print classification report\n",
        "print(classification_report(y_test, predictions))\n",
        "#import result of mse\n",
        "print(\"mse=\",  metrics.mean_squared_error(y_test, predictions))\n",
        "#import result of mae\n",
        "print(\"msle=\",  metrics.mean_squared_log_error(y_test, predictions))\n",
        "#import result of mae\n",
        "print(\"mae=\", metrics.mean_absolute_error(y_test, predictions))\n",
        "\n",
        "#import result of rmse\n",
        "print(\"rmse=\", np.sqrt(metrics.mean_squared_error(y_test, predictions)))"
      ]
    },
    {
      "cell_type": "code",
      "execution_count": 124,
      "metadata": {
        "colab": {
          "base_uri": "https://localhost:8080/"
        },
        "id": "KL94QhTi5fdJ",
        "outputId": "3567e366-5136-46a8-fc0e-436a0166deaf"
      },
      "outputs": [
        {
          "output_type": "stream",
          "name": "stdout",
          "text": [
            "Before OverSampling, counts of label '2': 675 \n",
            "Before OverSampling, counts of label '1': 43\n",
            "Before OverSampling, counts of label '0': 82 \n",
            "\n",
            "Before OverSampling, the shape of train_X: (1000, 10)\n",
            "Before OverSampling, the shape of train_y: (1000,) \n",
            "\n"
          ]
        }
      ],
      "source": [
        "print(\"Before OverSampling, counts of label '2': {} \".format(sum(y_train == 2)))\n",
        "print(\"Before OverSampling, counts of label '1': {}\".format(sum(y_train == 1)))\n",
        "print(\"Before OverSampling, counts of label '0': {} \\n\".format(sum(y_train == 0)))\n",
        "\n",
        "print('Before OverSampling, the shape of train_X: {}'.format(X.shape))\n",
        "print('Before OverSampling, the shape of train_y: {} \\n'.format(y.shape))\n",
        "\n",
        "\n",
        "\n"
      ]
    },
    {
      "cell_type": "code",
      "execution_count": 125,
      "metadata": {
        "colab": {
          "base_uri": "https://localhost:8080/"
        },
        "id": "YsiT6cWW5fdJ",
        "outputId": "94084032-ab79-42e7-b59b-80935ce09dc6"
      },
      "outputs": [
        {
          "output_type": "stream",
          "name": "stdout",
          "text": [
            "Looking in indexes: https://pypi.org/simple, https://us-python.pkg.dev/colab-wheels/public/simple/\n",
            "Requirement already satisfied: imblearn in /usr/local/lib/python3.8/dist-packages (0.0)\n",
            "Requirement already satisfied: imbalanced-learn in /usr/local/lib/python3.8/dist-packages (from imblearn) (0.8.1)\n",
            "Requirement already satisfied: joblib>=0.11 in /usr/local/lib/python3.8/dist-packages (from imbalanced-learn->imblearn) (1.2.0)\n",
            "Requirement already satisfied: scipy>=0.19.1 in /usr/local/lib/python3.8/dist-packages (from imbalanced-learn->imblearn) (1.7.3)\n",
            "Requirement already satisfied: numpy>=1.13.3 in /usr/local/lib/python3.8/dist-packages (from imbalanced-learn->imblearn) (1.21.6)\n",
            "Requirement already satisfied: scikit-learn>=0.24 in /usr/local/lib/python3.8/dist-packages (from imbalanced-learn->imblearn) (1.0.2)\n",
            "Requirement already satisfied: threadpoolctl>=2.0.0 in /usr/local/lib/python3.8/dist-packages (from scikit-learn>=0.24->imbalanced-learn->imblearn) (3.1.0)\n"
          ]
        }
      ],
      "source": [
        "pip install imblearn"
      ]
    },
    {
      "cell_type": "code",
      "execution_count": 126,
      "metadata": {
        "id": "FsZ4PJ715fdJ"
      },
      "outputs": [],
      "source": [
        "# import SMOTE module from imblearn library\n",
        "\n",
        "from imblearn.over_sampling import SMOTE\n",
        "sm_over = SMOTE(random_state = 2)\n",
        "\n",
        "X_train_res, y_train_res = sm_over.fit_resample(X_train, y_train.ravel())"
      ]
    },
    {
      "cell_type": "code",
      "execution_count": 127,
      "metadata": {
        "colab": {
          "base_uri": "https://localhost:8080/"
        },
        "id": "gg3cWT4e5fdJ",
        "outputId": "fbb640c2-195f-43de-f984-d041788c3725"
      },
      "outputs": [
        {
          "output_type": "stream",
          "name": "stdout",
          "text": [
            "After OverSampling, the shape of train_X: (2025, 10)\n",
            "After OverSampling, the shape of train_y: (2025,) \n",
            "\n",
            "After OverSampling, counts of label '2': 675\n",
            "After OverSampling, counts of label '1': 675\n",
            "After OverSampling, counts of label '0': 675\n"
          ]
        }
      ],
      "source": [
        "print('After OverSampling, the shape of train_X: {}'.format(X_train_res.shape))\n",
        "print('After OverSampling, the shape of train_y: {} \\n'.format(y_train_res.shape))\n",
        "\n",
        "print(\"After OverSampling, counts of label '2': {}\".format(sum(y_train_res == 2)))\n",
        "print(\"After OverSampling, counts of label '1': {}\".format(sum(y_train_res == 1)))\n",
        "print(\"After OverSampling, counts of label '0': {}\".format(sum(y_train_res == 0)))"
      ]
    },
    {
      "cell_type": "code",
      "execution_count": 128,
      "metadata": {
        "id": "fc-SLRVBu-Q7"
      },
      "outputs": [],
      "source": [
        "# apply near miss\n",
        "from imblearn.under_sampling import NearMiss\n",
        "nr = NearMiss()\n",
        "  \n",
        "X_train_miss, y_train_miss = nr.fit_resample(X_train, y_train.ravel())"
      ]
    },
    {
      "cell_type": "code",
      "execution_count": 129,
      "metadata": {
        "colab": {
          "base_uri": "https://localhost:8080/"
        },
        "id": "DGk0KEqp5fdJ",
        "outputId": "3d67b243-5ef7-482f-a80f-093d348424f0"
      },
      "outputs": [
        {
          "output_type": "stream",
          "name": "stdout",
          "text": [
            "              precision    recall  f1-score   support\n",
            "\n",
            "           0       0.72      0.86      0.78        21\n",
            "           1       0.35      0.60      0.44        10\n",
            "           2       0.99      0.92      0.95       169\n",
            "\n",
            "    accuracy                           0.90       200\n",
            "   macro avg       0.69      0.79      0.73       200\n",
            "weighted avg       0.93      0.90      0.91       200\n",
            "\n",
            "mse= 0.175\n",
            "msle= 0.05040514706292784\n",
            "mae= 0.125\n",
            "rmse= 0.4183300132670378\n"
          ]
        }
      ],
      "source": [
        "\n",
        "lr1 = LogisticRegression()\n",
        "lr1.fit(X_train_res, y_train_res.ravel())\n",
        "predictions = lr1.predict(X_test)\n",
        "  \n",
        "# print classification report\n",
        "print(classification_report(y_test, predictions))\n",
        "#import result of mse\n",
        "print(\"mse=\",  metrics.mean_squared_error(y_test, predictions))\n",
        "#import result of mae\n",
        "print(\"msle=\",  metrics.mean_squared_log_error(y_test, predictions))\n",
        "#import result of mae\n",
        "print(\"mae=\", metrics.mean_absolute_error(y_test, predictions))\n",
        "\n",
        "#import result of rmse\n",
        "print(\"rmse=\", np.sqrt(metrics.mean_squared_error(y_test, predictions)))"
      ]
    },
    {
      "cell_type": "code",
      "execution_count": 130,
      "metadata": {
        "colab": {
          "base_uri": "https://localhost:8080/"
        },
        "id": "q5PrILoH-XEv",
        "outputId": "1de660ab-ded5-46a5-e031-9f74c13e80d8"
      },
      "outputs": [
        {
          "output_type": "stream",
          "name": "stdout",
          "text": [
            "              precision    recall  f1-score   support\n",
            "\n",
            "           0       0.95      1.00      0.98        21\n",
            "           1       1.00      0.90      0.95        10\n",
            "           2       0.99      0.99      0.99       169\n",
            "\n",
            "    accuracy                           0.99       200\n",
            "   macro avg       0.98      0.96      0.97       200\n",
            "weighted avg       0.99      0.99      0.99       200\n",
            "\n",
            "mse= 0.025\n",
            "msle= 0.0068567545735287345\n",
            "mae= 0.015\n",
            "rmse= 0.15811388300841897\n"
          ]
        }
      ],
      "source": [
        "#decision tree after \n",
        "DT1 = DecisionTreeClassifier()\n",
        "DT1.fit(X_train_res, y_train_res.ravel())\n",
        "predictions = DT1.predict(X_test)\n",
        "  \n",
        "# print classification report\n",
        "print(classification_report(y_test, predictions))\n",
        "#import result of mse\n",
        "print(\"mse=\",  metrics.mean_squared_error(y_test, predictions))\n",
        "#import result of mae\n",
        "print(\"msle=\",  metrics.mean_squared_log_error(y_test, predictions))\n",
        "#import result of mae\n",
        "print(\"mae=\", metrics.mean_absolute_error(y_test, predictions))\n",
        "\n",
        "#import result of rmse\n",
        "print(\"rmse=\", np.sqrt(metrics.mean_squared_error(y_test, predictions)))"
      ]
    },
    {
      "cell_type": "code",
      "execution_count": 131,
      "metadata": {
        "colab": {
          "base_uri": "https://localhost:8080/"
        },
        "id": "D78B0kphBkIQ",
        "outputId": "4abfd335-12c3-4523-d556-c1417551d2dd"
      },
      "outputs": [
        {
          "output_type": "stream",
          "name": "stdout",
          "text": [
            "              precision    recall  f1-score   support\n",
            "\n",
            "           0       0.71      0.95      0.82        21\n",
            "           1       0.53      0.80      0.64        10\n",
            "           2       0.99      0.92      0.96       169\n",
            "\n",
            "    accuracy                           0.92       200\n",
            "   macro avg       0.75      0.89      0.80       200\n",
            "weighted avg       0.94      0.92      0.93       200\n",
            "\n",
            "mse= 0.185\n",
            "msle= 0.05280181215388316\n",
            "mae= 0.115\n",
            "rmse= 0.4301162633521313\n"
          ]
        }
      ],
      "source": [
        "# support vector machine object\n",
        "svm1 = SVC(kernel='linear')\n",
        "  \n",
        "# train the model on train set\n",
        "svm1.fit(X_train_res, y_train_res.ravel())\n",
        "  \n",
        "predictions = svm1.predict(X_test)\n",
        "  \n",
        "# print classification report\n",
        "print(classification_report(y_test, predictions))\n",
        "#import result of mse\n",
        "print(\"mse=\",  metrics.mean_squared_error(y_test, predictions))\n",
        "#import result of mae\n",
        "print(\"msle=\",  metrics.mean_squared_log_error(y_test, predictions))\n",
        "#import result of mae\n",
        "print(\"mae=\", metrics.mean_absolute_error(y_test, predictions))\n",
        "\n",
        "#import result of rmse\n",
        "print(\"rmse=\", np.sqrt(metrics.mean_squared_error(y_test, predictions)))"
      ]
    },
    {
      "cell_type": "code",
      "execution_count": 132,
      "metadata": {
        "colab": {
          "base_uri": "https://localhost:8080/"
        },
        "id": "3ZC9Xwslu-Q8",
        "outputId": "51acab46-d462-4be5-905b-c531cc5b4807"
      },
      "outputs": [
        {
          "output_type": "stream",
          "name": "stdout",
          "text": [
            "              precision    recall  f1-score   support\n",
            "\n",
            "           0       0.71      0.95      0.82        21\n",
            "           1       0.53      0.80      0.64        10\n",
            "           2       0.99      0.92      0.96       169\n",
            "\n",
            "    accuracy                           0.92       200\n",
            "   macro avg       0.75      0.89      0.80       200\n",
            "weighted avg       0.94      0.92      0.93       200\n",
            "\n",
            "mse= 0.185\n",
            "msle= 0.05280181215388316\n",
            "mae= 0.115\n",
            "rmse= 0.4301162633521313\n"
          ]
        }
      ],
      "source": [
        "# support vector machine object\n",
        "svm2 = SVC(kernel='rbf')\n",
        "  \n",
        "# train the model on train set\n",
        "svm2.fit(X_train_res, y_train_res.ravel())\n",
        "  \n",
        "predictions = svm1.predict(X_test)\n",
        "  \n",
        "# print classification report\n",
        "print(classification_report(y_test, predictions))\n",
        "#import result of mse\n",
        "print(\"mse=\",  metrics.mean_squared_error(y_test, predictions))\n",
        "#import result of mae\n",
        "print(\"msle=\",  metrics.mean_squared_log_error(y_test, predictions))\n",
        "#import result of mae\n",
        "print(\"mae=\", metrics.mean_absolute_error(y_test, predictions))\n",
        "\n",
        "#import result of rmse\n",
        "print(\"rmse=\", np.sqrt(metrics.mean_squared_error(y_test, predictions)))"
      ]
    },
    {
      "cell_type": "code",
      "execution_count": 133,
      "metadata": {
        "colab": {
          "base_uri": "https://localhost:8080/"
        },
        "id": "zbJuQ9eVCJdY",
        "outputId": "964b5c91-bd2a-412b-8ea7-2aecf1e96fbd"
      },
      "outputs": [
        {
          "output_type": "stream",
          "name": "stdout",
          "text": [
            "              precision    recall  f1-score   support\n",
            "\n",
            "           0       0.70      0.76      0.73        21\n",
            "           1       0.41      0.70      0.52        10\n",
            "           2       0.99      0.93      0.96       169\n",
            "\n",
            "    accuracy                           0.91       200\n",
            "   macro avg       0.70      0.80      0.74       200\n",
            "weighted avg       0.93      0.91      0.91       200\n",
            "\n",
            "mse= 0.185\n",
            "msle= 0.05637612762818428\n",
            "mae= 0.125\n",
            "rmse= 0.4301162633521313\n"
          ]
        }
      ],
      "source": [
        "# KNN classifier machine object\n",
        "KNN1 =  KNeighborsClassifier()\n",
        "  \n",
        "# train the model on train set\n",
        "KNN1.fit(X_train_res, y_train_res.ravel())\n",
        "  \n",
        "predictions = KNN1.predict(X_test)\n",
        "  \n",
        "# print classification report\n",
        "print(classification_report(y_test, predictions))\n",
        "#import result of mse\n",
        "print(\"mse=\",  metrics.mean_squared_error(y_test, predictions))\n",
        "#import result of mae\n",
        "print(\"msle=\",  metrics.mean_squared_log_error(y_test, predictions))\n",
        "#import result of mae\n",
        "print(\"mae=\", metrics.mean_absolute_error(y_test, predictions))\n",
        "\n",
        "#import result of rmse\n",
        "print(\"rmse=\", np.sqrt(metrics.mean_squared_error(y_test, predictions)))"
      ]
    },
    {
      "cell_type": "code",
      "execution_count": 134,
      "metadata": {
        "colab": {
          "base_uri": "https://localhost:8080/"
        },
        "id": "xF0tpz6rDnRw",
        "outputId": "f87097c1-9964-4a4f-8119-f760a11eafce"
      },
      "outputs": [
        {
          "output_type": "stream",
          "name": "stdout",
          "text": [
            "              precision    recall  f1-score   support\n",
            "\n",
            "           0       0.61      0.81      0.69        21\n",
            "           1       0.64      0.70      0.67        10\n",
            "           2       0.96      0.92      0.94       169\n",
            "\n",
            "    accuracy                           0.90       200\n",
            "   macro avg       0.74      0.81      0.77       200\n",
            "weighted avg       0.91      0.90      0.90       200\n",
            "\n",
            "mse= 0.315\n",
            "msle= 0.09182075094326667\n",
            "mae= 0.175\n",
            "rmse= 0.5612486080160912\n"
          ]
        }
      ],
      "source": [
        "# GNB classifier machine object\n",
        "GNB1 =  GaussianNB()\n",
        "  \n",
        "# train the model on train set\n",
        "GNB1.fit(X_train_res, y_train_res.ravel())\n",
        "  \n",
        "predictions = GNB1.predict(X_test)\n",
        "  \n",
        "# print classification report\n",
        "print(classification_report(y_test, predictions))\n",
        "#import result of mse\n",
        "print(\"mse=\",  metrics.mean_squared_error(y_test, predictions))\n",
        "#import result of mae\n",
        "print(\"msle=\",  metrics.mean_squared_log_error(y_test, predictions))\n",
        "#import result of mae\n",
        "print(\"mae=\", metrics.mean_absolute_error(y_test, predictions))\n",
        "\n",
        "#import result of rmse\n",
        "print(\"rmse=\", np.sqrt(metrics.mean_squared_error(y_test, predictions)))"
      ]
    },
    {
      "cell_type": "code",
      "execution_count": 135,
      "metadata": {
        "colab": {
          "base_uri": "https://localhost:8080/"
        },
        "id": "GNi9smlVDnPJ",
        "outputId": "13b15717-e334-4758-884b-1a32cf07867f"
      },
      "outputs": [
        {
          "output_type": "stream",
          "name": "stdout",
          "text": [
            "              precision    recall  f1-score   support\n",
            "\n",
            "           0       0.95      1.00      0.98        21\n",
            "           1       1.00      0.90      0.95        10\n",
            "           2       0.99      0.99      0.99       169\n",
            "\n",
            "    accuracy                           0.99       200\n",
            "   macro avg       0.98      0.96      0.97       200\n",
            "weighted avg       0.99      0.99      0.99       200\n",
            "\n",
            "mse= 0.025\n",
            "msle= 0.0068567545735287345\n",
            "mae= 0.015\n",
            "rmse= 0.15811388300841897\n"
          ]
        }
      ],
      "source": [
        "# XGB classifier machine object\n",
        "XGB1 =XGBClassifier()\n",
        "XGB1.fit(X_train_res, y_train_res.ravel())\n",
        "predictions = XGB1.predict(X_test)\n",
        "\n",
        "# print classification report\n",
        "print(classification_report(y_test, predictions))\n",
        "#import result of mse\n",
        "print(\"mse=\",  metrics.mean_squared_error(y_test, predictions))\n",
        "#import result of mae\n",
        "print(\"msle=\",  metrics.mean_squared_log_error(y_test, predictions))\n",
        "#import result of mae\n",
        "print(\"mae=\", metrics.mean_absolute_error(y_test, predictions))\n",
        "\n",
        "#import result of rmse\n",
        "print(\"rmse=\", np.sqrt(metrics.mean_squared_error(y_test, predictions)))"
      ]
    },
    {
      "cell_type": "code",
      "execution_count": 135,
      "metadata": {
        "id": "96840kJtSmA1"
      },
      "outputs": [],
      "source": []
    },
    {
      "cell_type": "code",
      "execution_count": 135,
      "metadata": {
        "id": "EJq9vbRiOuud"
      },
      "outputs": [],
      "source": []
    },
    {
      "cell_type": "code",
      "execution_count": 136,
      "metadata": {
        "colab": {
          "base_uri": "https://localhost:8080/"
        },
        "id": "ur65MrE2DnMp",
        "outputId": "52551ca7-21b9-4172-fe43-c5b39522f873"
      },
      "outputs": [
        {
          "output_type": "stream",
          "name": "stdout",
          "text": [
            "              precision    recall  f1-score   support\n",
            "\n",
            "           0       0.86      0.86      0.86        21\n",
            "           1       0.78      0.70      0.74        10\n",
            "           2       0.98      0.99      0.99       169\n",
            "\n",
            "    accuracy                           0.96       200\n",
            "   macro avg       0.87      0.85      0.86       200\n",
            "weighted avg       0.96      0.96      0.96       200\n",
            "\n",
            "mse= 0.085\n",
            "msle= 0.0269550491598934\n",
            "mae= 0.055\n",
            "rmse= 0.29154759474226505\n"
          ]
        }
      ],
      "source": [
        "# MLP classifier machine object\n",
        "MLP1 = MLPClassifier(random_state=1, max_iter=300)\n",
        "# train the model on train set\n",
        "MLP1.fit(X_train_res, y_train_res.ravel())\n",
        "  \n",
        "predictions = MLP1.predict(X_test)\n",
        "  \n",
        "# print classification report\n",
        "print(classification_report(y_test, predictions))\n",
        "#import result of mse\n",
        "print(\"mse=\",  metrics.mean_squared_error(y_test, predictions))\n",
        "#import result of mae\n",
        "print(\"msle=\",  metrics.mean_squared_log_error(y_test, predictions))\n",
        "#import result of mae\n",
        "print(\"mae=\", metrics.mean_absolute_error(y_test, predictions))\n",
        "\n",
        "#import result of rmse\n",
        "print(\"rmse=\", np.sqrt(metrics.mean_squared_error(y_test, predictions)))"
      ]
    },
    {
      "cell_type": "code",
      "execution_count": 137,
      "metadata": {
        "colab": {
          "base_uri": "https://localhost:8080/"
        },
        "id": "mOAKqiGdDnKI",
        "outputId": "b047eda3-cb6f-49cd-9766-5ce5a757d37b"
      },
      "outputs": [
        {
          "output_type": "stream",
          "name": "stdout",
          "text": [
            "              precision    recall  f1-score   support\n",
            "\n",
            "           0       0.73      0.90      0.81        21\n",
            "           1       0.50      0.90      0.64        10\n",
            "           2       0.98      0.91      0.94       169\n",
            "\n",
            "    accuracy                           0.91       200\n",
            "   macro avg       0.74      0.90      0.80       200\n",
            "weighted avg       0.93      0.91      0.91       200\n",
            "\n",
            "mse= 0.23\n",
            "msle= 0.06253280093122443\n",
            "mae= 0.14\n",
            "rmse= 0.47958315233127197\n"
          ]
        }
      ],
      "source": [
        "# adaboost classifier machine object\n",
        "adaboost1 =AdaBoostClassifier(random_state=96)\n",
        "# train the model on train set\n",
        "adaboost1.fit(X_train_res, y_train_res.ravel())\n",
        "  \n",
        "predictions = adaboost1.predict(X_test)\n",
        "  \n",
        "# print classification report\n",
        "print(classification_report(y_test, predictions))\n",
        "#import result of mse\n",
        "print(\"mse=\",  metrics.mean_squared_error(y_test, predictions))\n",
        "#import result of mae\n",
        "print(\"msle=\",  metrics.mean_squared_log_error(y_test, predictions))\n",
        "#import result of mae\n",
        "print(\"mae=\", metrics.mean_absolute_error(y_test, predictions))\n",
        "\n",
        "#import result of rmse\n",
        "print(\"rmse=\", np.sqrt(metrics.mean_squared_error(y_test, predictions)))"
      ]
    },
    {
      "cell_type": "code",
      "execution_count": 138,
      "metadata": {
        "colab": {
          "base_uri": "https://localhost:8080/"
        },
        "id": "E1HsJkCRDnH4",
        "outputId": "28408b3c-5ede-4f4d-a3f0-1e434ad77480"
      },
      "outputs": [
        {
          "output_type": "stream",
          "name": "stdout",
          "text": [
            "              precision    recall  f1-score   support\n",
            "\n",
            "           0       0.75      1.00      0.86        21\n",
            "           1       0.69      0.90      0.78        10\n",
            "           2       0.99      0.93      0.96       169\n",
            "\n",
            "    accuracy                           0.94       200\n",
            "   macro avg       0.81      0.94      0.87       200\n",
            "weighted avg       0.95      0.94      0.94       200\n",
            "\n",
            "mse= 0.165\n",
            "msle= 0.04635326247576949\n",
            "mae= 0.095\n",
            "rmse= 0.406201920231798\n"
          ]
        }
      ],
      "source": [
        "# random Forest classifier machine object\n",
        "RF1 =RandomForestClassifier(max_depth=2, random_state=0)\n",
        "# train the model on train set\n",
        "RF1.fit(X_train_res, y_train_res.ravel())\n",
        "  \n",
        "predictions = RF1.predict(X_test)\n",
        "  \n",
        "# print classification report\n",
        "print(classification_report(y_test, predictions))\n",
        "#import result of mse\n",
        "print(\"mse=\",  metrics.mean_squared_error(y_test, predictions))\n",
        "#import result of mae\n",
        "print(\"msle=\",  metrics.mean_squared_log_error(y_test, predictions))\n",
        "#import result of mae\n",
        "print(\"mae=\", metrics.mean_absolute_error(y_test, predictions))\n",
        "\n",
        "#import result of rmse\n",
        "print(\"rmse=\", np.sqrt(metrics.mean_squared_error(y_test, predictions)))"
      ]
    },
    {
      "cell_type": "code",
      "execution_count": 139,
      "metadata": {
        "id": "YR5jzdpeYacm",
        "colab": {
          "base_uri": "https://localhost:8080/"
        },
        "outputId": "81e86718-f988-4b26-8182-a096e11ac2d5"
      },
      "outputs": [
        {
          "output_type": "stream",
          "name": "stdout",
          "text": [
            "After UnderSampling, the shape of train_X: (129, 10)\n",
            "After UnderSampling, the shape of train_y: (129,) \n",
            "\n",
            "After UnderSampling, counts of label '2': 43\n",
            "After UnderSampling, counts of label '1': 43\n",
            "After UnderSampling, counts of label '0': 43\n"
          ]
        }
      ],
      "source": [
        "#NEAR MISS RESULT \n",
        "print('After UnderSampling, the shape of train_X: {}'.format(X_train_miss.shape))\n",
        "print('After UnderSampling, the shape of train_y: {} \\n'.format(y_train_miss.shape))\n",
        "\n",
        "print(\"After UnderSampling, counts of label '2': {}\".format(sum(y_train_miss == 2)))\n",
        "print(\"After UnderSampling, counts of label '1': {}\".format(sum(y_train_miss == 1)))\n",
        "print(\"After UnderSampling, counts of label '0': {}\".format(sum(y_train_miss == 0)))"
      ]
    },
    {
      "cell_type": "code",
      "execution_count": 140,
      "metadata": {
        "id": "_R48B0VzYaaW",
        "colab": {
          "base_uri": "https://localhost:8080/"
        },
        "outputId": "aa3c0eb6-480d-4234-f7f2-f733407d9126"
      },
      "outputs": [
        {
          "output_type": "stream",
          "name": "stdout",
          "text": [
            "              precision    recall  f1-score   support\n",
            "\n",
            "           0       0.75      0.86      0.80        21\n",
            "           1       0.23      0.50      0.31        10\n",
            "           2       0.99      0.91      0.95       169\n",
            "\n",
            "    accuracy                           0.88       200\n",
            "   macro avg       0.66      0.75      0.69       200\n",
            "weighted avg       0.93      0.88      0.90       200\n",
            "\n",
            "mse= 0.15\n",
            "msle= 0.041215491637250266\n",
            "mae= 0.13\n",
            "rmse= 0.3872983346207417\n"
          ]
        }
      ],
      "source": [
        "\n",
        "lr1 = LogisticRegression()\n",
        "lr1.fit(X_train_miss, y_train_miss.ravel())\n",
        "predictions = lr1.predict(X_test)\n",
        "  \n",
        "# print classification report\n",
        "print(classification_report(y_test, predictions))\n",
        "#import result of mse\n",
        "print(\"mse=\",  metrics.mean_squared_error(y_test, predictions))\n",
        "#import result of mae\n",
        "print(\"msle=\",  metrics.mean_squared_log_error(y_test, predictions))\n",
        "#import result of mae\n",
        "print(\"mae=\", metrics.mean_absolute_error(y_test, predictions))\n",
        "\n",
        "#import result of rmse\n",
        "print(\"rmse=\", np.sqrt(metrics.mean_squared_error(y_test, predictions)))"
      ]
    },
    {
      "cell_type": "code",
      "execution_count": 141,
      "metadata": {
        "colab": {
          "base_uri": "https://localhost:8080/"
        },
        "id": "flQLvrJAu-Q9",
        "outputId": "2186974c-c2f0-4cf7-8b4a-daea6c16d89c"
      },
      "outputs": [
        {
          "output_type": "stream",
          "name": "stdout",
          "text": [
            "              precision    recall  f1-score   support\n",
            "\n",
            "           0       0.95      1.00      0.98        21\n",
            "           1       0.71      1.00      0.83        10\n",
            "           2       1.00      0.97      0.98       169\n",
            "\n",
            "    accuracy                           0.97       200\n",
            "   macro avg       0.89      0.99      0.93       200\n",
            "weighted avg       0.98      0.97      0.98       200\n",
            "\n",
            "mse= 0.04\n",
            "msle= 0.009322783881926216\n",
            "mae= 0.03\n",
            "rmse= 0.2\n"
          ]
        }
      ],
      "source": [
        "#decision tree after \n",
        "DT1 = DecisionTreeClassifier()\n",
        "DT1.fit(X_train_miss, y_train_miss.ravel())\n",
        "predictions = DT1.predict(X_test)\n",
        "  \n",
        "# print classification report\n",
        "print(classification_report(y_test, predictions))\n",
        "#import result of mse\n",
        "print(\"mse=\",  metrics.mean_squared_error(y_test, predictions))\n",
        "#import result of mae\n",
        "print(\"msle=\",  metrics.mean_squared_log_error(y_test, predictions))\n",
        "#import result of mae\n",
        "print(\"mae=\", metrics.mean_absolute_error(y_test, predictions))\n",
        "\n",
        "#import result of rmse\n",
        "print(\"rmse=\", np.sqrt(metrics.mean_squared_error(y_test, predictions)))"
      ]
    },
    {
      "cell_type": "code",
      "execution_count": 142,
      "metadata": {
        "colab": {
          "base_uri": "https://localhost:8080/"
        },
        "id": "RRcZVf_xu-Q9",
        "outputId": "ae0a2dff-2580-471f-f916-3809b7f88ca7"
      },
      "outputs": [
        {
          "output_type": "stream",
          "name": "stdout",
          "text": [
            "              precision    recall  f1-score   support\n",
            "\n",
            "           0       0.68      0.90      0.78        21\n",
            "           1       0.33      0.80      0.47        10\n",
            "           2       1.00      0.88      0.93       169\n",
            "\n",
            "    accuracy                           0.88       200\n",
            "   macro avg       0.67      0.86      0.73       200\n",
            "weighted avg       0.93      0.88      0.89       200\n",
            "\n",
            "mse= 0.23\n",
            "msle= 0.06336041067932595\n",
            "mae= 0.16\n",
            "rmse= 0.47958315233127197\n"
          ]
        }
      ],
      "source": [
        "# support vector machine object\n",
        "svm1 = SVC(kernel='linear')\n",
        "  \n",
        "# train the model on train set\n",
        "svm1.fit(X_train_miss, y_train_miss.ravel())\n",
        "  \n",
        "predictions = svm1.predict(X_test)\n",
        "  \n",
        "# print classification report\n",
        "print(classification_report(y_test, predictions))\n",
        "#import result of mse\n",
        "print(\"mse=\",  metrics.mean_squared_error(y_test, predictions))\n",
        "#import result of mae\n",
        "print(\"msle=\",  metrics.mean_squared_log_error(y_test, predictions))\n",
        "#import result of mae\n",
        "print(\"mae=\", metrics.mean_absolute_error(y_test, predictions))\n",
        "\n",
        "#import result of rmse\n",
        "print(\"rmse=\", np.sqrt(metrics.mean_squared_error(y_test, predictions)))"
      ]
    },
    {
      "cell_type": "code",
      "execution_count": 143,
      "metadata": {
        "colab": {
          "base_uri": "https://localhost:8080/"
        },
        "id": "vltuHwhgu-Q9",
        "outputId": "128ac375-754b-44be-821d-738086392519"
      },
      "outputs": [
        {
          "output_type": "stream",
          "name": "stdout",
          "text": [
            "              precision    recall  f1-score   support\n",
            "\n",
            "           0       0.78      0.67      0.72        21\n",
            "           1       0.12      0.80      0.21        10\n",
            "           2       1.00      0.69      0.81       169\n",
            "\n",
            "    accuracy                           0.69       200\n",
            "   macro avg       0.63      0.72      0.58       200\n",
            "weighted avg       0.93      0.69      0.77       200\n",
            "\n",
            "mse= 0.34\n",
            "msle= 0.07561237347720204\n",
            "mae= 0.32\n",
            "rmse= 0.5830951894845301\n"
          ]
        }
      ],
      "source": [
        "# support vector machine object\n",
        "svm1 = SVC(kernel='rbf')\n",
        "  \n",
        "# train the model on train set\n",
        "svm1.fit(X_train_miss, y_train_miss.ravel())\n",
        "  \n",
        "predictions = svm1.predict(X_test)\n",
        "  \n",
        "# print classification report\n",
        "print(classification_report(y_test, predictions))\n",
        "#import result of mse\n",
        "print(\"mse=\",  metrics.mean_squared_error(y_test, predictions))\n",
        "#import result of mae\n",
        "print(\"msle=\",  metrics.mean_squared_log_error(y_test, predictions))\n",
        "#import result of mae\n",
        "print(\"mae=\", metrics.mean_absolute_error(y_test, predictions))\n",
        "\n",
        "#import result of rmse\n",
        "print(\"rmse=\", np.sqrt(metrics.mean_squared_error(y_test, predictions)))"
      ]
    },
    {
      "cell_type": "code",
      "execution_count": 144,
      "metadata": {
        "colab": {
          "base_uri": "https://localhost:8080/"
        },
        "id": "7U43LFtXu-Q-",
        "outputId": "dc7104f9-de2e-4b2f-a408-166005beb906"
      },
      "outputs": [
        {
          "output_type": "stream",
          "name": "stdout",
          "text": [
            "              precision    recall  f1-score   support\n",
            "\n",
            "           0       0.65      0.81      0.72        21\n",
            "           1       0.21      0.40      0.28        10\n",
            "           2       0.99      0.91      0.94       169\n",
            "\n",
            "    accuracy                           0.87       200\n",
            "   macro avg       0.62      0.70      0.65       200\n",
            "weighted avg       0.91      0.87      0.89       200\n",
            "\n",
            "mse= 0.205\n",
            "msle= 0.060077971580098345\n",
            "mae= 0.155\n",
            "rmse= 0.4527692569068708\n"
          ]
        }
      ],
      "source": [
        "# KNN classifier machine object\n",
        "KNN1 =  KNeighborsClassifier()\n",
        "  \n",
        "# train the model on train set\n",
        "KNN1.fit(X_train_miss, y_train_miss.ravel())\n",
        "  \n",
        "predictions = KNN1.predict(X_test)\n",
        "  \n",
        "# print classification report\n",
        "print(classification_report(y_test, predictions))\n",
        "#import result of mse\n",
        "print(\"mse=\",  metrics.mean_squared_error(y_test, predictions))\n",
        "#import result of mae\n",
        "print(\"msle=\",  metrics.mean_squared_log_error(y_test, predictions))\n",
        "#import result of mae\n",
        "print(\"mae=\", metrics.mean_absolute_error(y_test, predictions))\n",
        "\n",
        "#import result of rmse\n",
        "print(\"rmse=\", np.sqrt(metrics.mean_squared_error(y_test, predictions)))"
      ]
    },
    {
      "cell_type": "code",
      "execution_count": 145,
      "metadata": {
        "colab": {
          "base_uri": "https://localhost:8080/"
        },
        "id": "AMge3VQZu-Q-",
        "outputId": "d3588f0c-ac3c-4d70-b6b5-ba4d9e3d125b"
      },
      "outputs": [
        {
          "output_type": "stream",
          "name": "stdout",
          "text": [
            "              precision    recall  f1-score   support\n",
            "\n",
            "           0       0.48      0.71      0.58        21\n",
            "           1       0.47      0.90      0.62        10\n",
            "           2       0.99      0.88      0.93       169\n",
            "\n",
            "    accuracy                           0.86       200\n",
            "   macro avg       0.65      0.83      0.71       200\n",
            "weighted avg       0.91      0.86      0.88       200\n",
            "\n",
            "mse= 0.395\n",
            "msle= 0.11953404563381945\n",
            "mae= 0.225\n",
            "rmse= 0.6284902544988268\n"
          ]
        }
      ],
      "source": [
        "# GNB classifier machine object\n",
        "GNB1 =  GaussianNB()\n",
        "  \n",
        "# train the model on train set\n",
        "GNB1.fit(X_train_miss, y_train_miss.ravel())\n",
        "  \n",
        "predictions = GNB1.predict(X_test)\n",
        "  \n",
        "# print classification report\n",
        "print(classification_report(y_test, predictions))\n",
        "#import result of mse\n",
        "print(\"mse=\",  metrics.mean_squared_error(y_test, predictions))\n",
        "#import result of mae\n",
        "print(\"msle=\",  metrics.mean_squared_log_error(y_test, predictions))\n",
        "#import result of mae\n",
        "print(\"mae=\", metrics.mean_absolute_error(y_test, predictions))\n",
        "\n",
        "#import result of rmse\n",
        "print(\"rmse=\", np.sqrt(metrics.mean_squared_error(y_test, predictions)))"
      ]
    },
    {
      "cell_type": "code",
      "execution_count": 146,
      "metadata": {
        "colab": {
          "base_uri": "https://localhost:8080/"
        },
        "id": "mnElP_tcu-Q-",
        "outputId": "3aa1be0d-62b8-4366-f3ab-d60e10d200d7"
      },
      "outputs": [
        {
          "output_type": "stream",
          "name": "stdout",
          "text": [
            "              precision    recall  f1-score   support\n",
            "\n",
            "           0       0.95      1.00      0.98        21\n",
            "           1       0.59      1.00      0.74        10\n",
            "           2       1.00      0.95      0.98       169\n",
            "\n",
            "    accuracy                           0.96       200\n",
            "   macro avg       0.85      0.98      0.90       200\n",
            "weighted avg       0.97      0.96      0.96       200\n",
            "\n",
            "mse= 0.055\n",
            "msle= 0.011788813190323695\n",
            "mae= 0.045\n",
            "rmse= 0.2345207879911715\n"
          ]
        }
      ],
      "source": [
        "# XGB classifier machine object\n",
        "XGB1 =XGBClassifier()\n",
        "XGB1.fit(X_train_miss, y_train_miss.ravel())\n",
        "predictions = XGB1.predict(X_test)\n",
        "\n",
        "# print classification report\n",
        "print(classification_report(y_test, predictions))\n",
        "#import result of mse\n",
        "print(\"mse=\",  metrics.mean_squared_error(y_test, predictions))\n",
        "#import result of mae\n",
        "print(\"msle=\",  metrics.mean_squared_log_error(y_test, predictions))\n",
        "#import result of mae\n",
        "print(\"mae=\", metrics.mean_absolute_error(y_test, predictions))\n",
        "\n",
        "#import result of rmse\n",
        "print(\"rmse=\", np.sqrt(metrics.mean_squared_error(y_test, predictions)))"
      ]
    },
    {
      "cell_type": "code",
      "execution_count": 147,
      "metadata": {
        "colab": {
          "base_uri": "https://localhost:8080/"
        },
        "id": "RhFxfg8Qu-Q-",
        "outputId": "d4a9a261-332a-4c54-ed46-1d03ceac80c4"
      },
      "outputs": [
        {
          "output_type": "stream",
          "name": "stdout",
          "text": [
            "              precision    recall  f1-score   support\n",
            "\n",
            "           0       0.73      0.76      0.74        21\n",
            "           1       0.30      0.80      0.43        10\n",
            "           2       0.99      0.89      0.94       169\n",
            "\n",
            "    accuracy                           0.87       200\n",
            "   macro avg       0.67      0.82      0.70       200\n",
            "weighted avg       0.93      0.87      0.89       200\n",
            "\n",
            "mse= 0.205\n",
            "msle= 0.05691746097984798\n",
            "mae= 0.155\n",
            "rmse= 0.4527692569068708\n"
          ]
        }
      ],
      "source": [
        "# MLP classifier machine object\n",
        "MLP1 = MLPClassifier(random_state=1, max_iter=300)\n",
        "# train the model on train set\n",
        "MLP1.fit(X_train_miss, y_train_miss.ravel())\n",
        "  \n",
        "predictions = MLP1.predict(X_test)\n",
        "  \n",
        "# print classification report\n",
        "print(classification_report(y_test, predictions))\n",
        "#import result of mse\n",
        "print(\"mse=\",  metrics.mean_squared_error(y_test, predictions))\n",
        "#import result of mae\n",
        "print(\"msle=\",  metrics.mean_squared_log_error(y_test, predictions))\n",
        "#import result of mae\n",
        "print(\"mae=\", metrics.mean_absolute_error(y_test, predictions))\n",
        "\n",
        "#import result of rmse\n",
        "print(\"rmse=\", np.sqrt(metrics.mean_squared_error(y_test, predictions)))"
      ]
    },
    {
      "cell_type": "code",
      "execution_count": 148,
      "metadata": {
        "colab": {
          "base_uri": "https://localhost:8080/"
        },
        "id": "9XLcAl1Ku-Q-",
        "outputId": "83c49fa3-7312-4cf6-fdb8-6ac0e7e8811b"
      },
      "outputs": [
        {
          "output_type": "stream",
          "name": "stdout",
          "text": [
            "              precision    recall  f1-score   support\n",
            "\n",
            "           0       0.94      0.76      0.84        21\n",
            "           1       0.29      1.00      0.45        10\n",
            "           2       0.97      0.85      0.91       169\n",
            "\n",
            "    accuracy                           0.85       200\n",
            "   macro avg       0.73      0.87      0.73       200\n",
            "weighted avg       0.93      0.85      0.88       200\n",
            "\n",
            "mse= 0.24\n",
            "msle= 0.05593670329155729\n",
            "mae= 0.18\n",
            "rmse= 0.4898979485566356\n"
          ]
        }
      ],
      "source": [
        "# adaboost classifier machine object\n",
        "adaboost1 =AdaBoostClassifier(random_state=96)\n",
        "# train the model on train set\n",
        "adaboost1.fit(X_train_miss, y_train_miss.ravel())\n",
        "  \n",
        "predictions = adaboost1.predict(X_test)\n",
        "  \n",
        "# print classification report\n",
        "print(classification_report(y_test, predictions))\n",
        "#import result of mse\n",
        "print(\"mse=\",  metrics.mean_squared_error(y_test, predictions))\n",
        "#import result of mae\n",
        "print(\"msle=\",  metrics.mean_squared_log_error(y_test, predictions))\n",
        "#import result of mae\n",
        "print(\"mae=\", metrics.mean_absolute_error(y_test, predictions))\n",
        "\n",
        "#import result of rmse\n",
        "print(\"rmse=\", np.sqrt(metrics.mean_squared_error(y_test, predictions)))"
      ]
    },
    {
      "cell_type": "code",
      "execution_count": 149,
      "metadata": {
        "colab": {
          "base_uri": "https://localhost:8080/"
        },
        "id": "IoDOpHFju-Q-",
        "outputId": "c0f92793-b6d6-4b1f-b364-9db0dfeab1a2"
      },
      "outputs": [
        {
          "output_type": "stream",
          "name": "stdout",
          "text": [
            "              precision    recall  f1-score   support\n",
            "\n",
            "           0       0.84      1.00      0.91        21\n",
            "           1       0.67      1.00      0.80        10\n",
            "           2       1.00      0.95      0.97       169\n",
            "\n",
            "    accuracy                           0.95       200\n",
            "   macro avg       0.84      0.98      0.90       200\n",
            "weighted avg       0.97      0.95      0.96       200\n",
            "\n",
            "mse= 0.105\n",
            "msle= 0.028249028063580765\n",
            "mae= 0.065\n",
            "rmse= 0.324037034920393\n"
          ]
        }
      ],
      "source": [
        "# random Forest classifier machine object\n",
        "RF1 =RandomForestClassifier(max_depth=2, random_state=0)\n",
        "# train the model on train set\n",
        "RF1.fit(X_train_miss, y_train_miss.ravel())\n",
        "  \n",
        "predictions = RF1.predict(X_test)\n",
        "  \n",
        "# print classification report\n",
        "print(classification_report(y_test, predictions))\n",
        "#import result of mse\n",
        "print(\"mse=\",  metrics.mean_squared_error(y_test, predictions))\n",
        "#import result of mae\n",
        "print(\"msle=\",  metrics.mean_squared_log_error(y_test, predictions))\n",
        "#import result of mae\n",
        "print(\"mae=\", metrics.mean_absolute_error(y_test, predictions))\n",
        "\n",
        "#import result of rmse\n",
        "print(\"rmse=\", np.sqrt(metrics.mean_squared_error(y_test, predictions)))"
      ]
    },
    {
      "cell_type": "code",
      "execution_count": 150,
      "metadata": {
        "colab": {
          "base_uri": "https://localhost:8080/"
        },
        "id": "uGmA3E_QIeq6",
        "outputId": "f52d637a-f308-400e-fa5b-5f75391505aa"
      },
      "outputs": [
        {
          "output_type": "stream",
          "name": "stdout",
          "text": [
            "Looking in indexes: https://pypi.org/simple, https://us-python.pkg.dev/colab-wheels/public/simple/\n",
            "Requirement already satisfied: shap in /usr/local/lib/python3.8/dist-packages (0.41.0)\n",
            "Requirement already satisfied: numpy in /usr/local/lib/python3.8/dist-packages (from shap) (1.21.6)\n",
            "Requirement already satisfied: pandas in /usr/local/lib/python3.8/dist-packages (from shap) (1.3.5)\n",
            "Requirement already satisfied: tqdm>4.25.0 in /usr/local/lib/python3.8/dist-packages (from shap) (4.64.1)\n",
            "Requirement already satisfied: packaging>20.9 in /usr/local/lib/python3.8/dist-packages (from shap) (21.3)\n",
            "Requirement already satisfied: scikit-learn in /usr/local/lib/python3.8/dist-packages (from shap) (1.0.2)\n",
            "Requirement already satisfied: cloudpickle in /usr/local/lib/python3.8/dist-packages (from shap) (2.2.0)\n",
            "Requirement already satisfied: numba in /usr/local/lib/python3.8/dist-packages (from shap) (0.56.4)\n",
            "Requirement already satisfied: slicer==0.0.7 in /usr/local/lib/python3.8/dist-packages (from shap) (0.0.7)\n",
            "Requirement already satisfied: scipy in /usr/local/lib/python3.8/dist-packages (from shap) (1.7.3)\n",
            "Requirement already satisfied: pyparsing!=3.0.5,>=2.0.2 in /usr/local/lib/python3.8/dist-packages (from packaging>20.9->shap) (3.0.9)\n",
            "Requirement already satisfied: importlib-metadata in /usr/local/lib/python3.8/dist-packages (from numba->shap) (6.0.0)\n",
            "Requirement already satisfied: setuptools in /usr/local/lib/python3.8/dist-packages (from numba->shap) (57.4.0)\n",
            "Requirement already satisfied: llvmlite<0.40,>=0.39.0dev0 in /usr/local/lib/python3.8/dist-packages (from numba->shap) (0.39.1)\n",
            "Requirement already satisfied: pytz>=2017.3 in /usr/local/lib/python3.8/dist-packages (from pandas->shap) (2022.7)\n",
            "Requirement already satisfied: python-dateutil>=2.7.3 in /usr/local/lib/python3.8/dist-packages (from pandas->shap) (2.8.2)\n",
            "Requirement already satisfied: joblib>=0.11 in /usr/local/lib/python3.8/dist-packages (from scikit-learn->shap) (1.2.0)\n",
            "Requirement already satisfied: threadpoolctl>=2.0.0 in /usr/local/lib/python3.8/dist-packages (from scikit-learn->shap) (3.1.0)\n",
            "Requirement already satisfied: six>=1.5 in /usr/local/lib/python3.8/dist-packages (from python-dateutil>=2.7.3->pandas->shap) (1.15.0)\n",
            "Requirement already satisfied: zipp>=0.5 in /usr/local/lib/python3.8/dist-packages (from importlib-metadata->numba->shap) (3.11.0)\n"
          ]
        }
      ],
      "source": [
        "pip install shap"
      ]
    },
    {
      "cell_type": "code",
      "execution_count": 151,
      "metadata": {
        "id": "ToB5d9FtInRH"
      },
      "outputs": [],
      "source": [
        "import shap\n"
      ]
    },
    {
      "cell_type": "code",
      "execution_count": 152,
      "metadata": {
        "id": "Hv5c8WdF5fdK"
      },
      "outputs": [],
      "source": [
        "explainer = shap.TreeExplainer(XGB1)\n",
        "shap_values = explainer.shap_values(X)\n",
        "expected_value = explainer.expected_value"
      ]
    },
    {
      "cell_type": "code",
      "execution_count": 153,
      "metadata": {
        "colab": {
          "base_uri": "https://localhost:8080/",
          "height": 405
        },
        "id": "hKlJYxPkPvZp",
        "outputId": "452be010-9b45-4a1e-d01c-243c1ba70693"
      },
      "outputs": [
        {
          "output_type": "display_data",
          "data": {
            "text/plain": [
              "<Figure size 576x396 with 1 Axes>"
            ],
            "image/png": "[encoded data removed]"
          },
          "metadata": {
            "needs_background": "light"
          }
        }
      ],
      "source": [
        "# Generate summary bar plot \n",
        "shap.summary_plot(shap_values, X,plot_type=\"bar\") "
      ]
    }
  ],
  "metadata": {
    "colab": {
      "provenance": []
    },
    "kernelspec": {
      "display_name": "Python 3",
      "language": "python",
      "name": "python3"
    },
    "language_info": {
      "codemirror_mode": {
        "name": "ipython",
        "version": 3
      },
      "file_extension": ".py",
      "mimetype": "text/x-python",
      "name": "python",
      "nbconvert_exporter": "python",
      "pygments_lexer": "ipython3",
      "version": "3.7.3"
    }
  },
  "nbformat": 4,
  "nbformat_minor": 0
}